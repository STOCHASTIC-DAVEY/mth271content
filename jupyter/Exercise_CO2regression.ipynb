{
 "cells": [
  {
   "cell_type": "markdown",
   "metadata": {},
   "source": [
    "--- \n",
    "\n",
    "# Exercise: Atmospheric carbon dioxide rise"
   ]
  },
  {
   "cell_type": "markdown",
   "metadata": {},
   "source": [
    "**Task:** Reconsider the problem of the [assignment on rising atmospheric CO$_2$  levels](Assignment_CO2rise.ipynb). Using the data you already downloaded for the assignment, now fit a quadratic curve to the data by regression. Since the derivative of a  quadratic function can be hand-computed, you would then be able to estimate the rate of change of the regression fit and address the earlier assignment task:  provide a policy-maker with a \"yes or no\" answer on whether the *rate of increase of CO$_2$* is increasing."
   ]
  }
 ],
 "metadata": {
  "kernelspec": {
   "display_name": "Python 3",
   "language": "python",
   "name": "python3"
  },
  "language_info": {
   "codemirror_mode": {
    "name": "ipython",
    "version": 3
   },
   "file_extension": ".py",
   "mimetype": "text/x-python",
   "name": "python",
   "nbconvert_exporter": "python",
   "pygments_lexer": "ipython3",
   "version": "3.8.0"
  }
 },
 "nbformat": 4,
 "nbformat_minor": 2
}
