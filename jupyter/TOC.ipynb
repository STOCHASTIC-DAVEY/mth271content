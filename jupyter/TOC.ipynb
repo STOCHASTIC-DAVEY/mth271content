{
 "cells": [
  {
   "cell_type": "markdown",
   "metadata": {},
   "source": [
    "# <span style=\"color:rgb(106,127,16)\">Table of Contents</span>"
   ]
  },
  {
   "cell_type": "markdown",
   "metadata": {},
   "source": [
    "<br>\n",
    "\n",
    "####  Lecture Notebooks\n",
    "\n",
    "- [01 Overview of some tools](01_Overview_of_tools_applied_to_COVID-19_example.ipynb)\n",
    "- [02 Interacting with python](02_Interacting_with_python.ipynb)\n",
    "- [03 Working with git](03_Working_with_git.ipynb)\n",
    "- [04 Conversion table](04_Conversion_table.ipynb)\n",
    "- [05 Approximating derivatives](05_Derivative_Approximation.ipynb)\n",
    "- [06 Genome of SARS-CoV-2 virus](06_Genome_of_SARS-CoV-2.ipynb)\n",
    "- [07 Fibonacci primes](07_Fibonacci_primes.ipynb)\n",
    "- [08 Numpy blitz](08_Numpy_blitz.ipynb)\n",
    "- [09 The SEIR model of infectious diseases](09_SEIR_model.ipynb)\n",
    "- [10 Singular value decomposition](10_SVD.ipynb)\n",
    "- [11 Bikes on Tilikum Crossing](11_TilikumCrossingBikes.ipynb)\n",
    "- [12 Visualizing geospatial data](12_VisualizingGeospatialData.ipynb)\n",
    "- [13 Gambler's ruin](13_GamblersRuin.ipynb)\n",
    "- [14 Google's PageRank](14_GooglePageRank.ipynb)\n",
    "- [15 Supervised learning by regression](15_SupervisedLearning.ipynb)\n",
    "- [16 Unsupervised learning by PCA](16_UnsupervisedLearning.ipynb)\n",
    "- [17 Latent semantic analysis](17_LSA.ipynb)\n",
    "\n",
    "\n",
    "####  Exercises\n",
    "\n",
    "- [Power sum](Exercise_Sum_Integer_Powers.ipynb)\n",
    "- [Graph functions](Exercise_Graphing_functions.ipynb)\n",
    "- [Argument passing](Exercise_FunctionArgument.ipynb) \n",
    "- [Piecewise functions](Exercise_Piecewise.ipynb) \n",
    "- [Row swap](Exercise_RowSwap.ipynb)\n",
    "- [Averaging matrix](Exercise_AveragingMatrix.ipynb) \n",
    "- [Differentiation matrix](Exercise_DifferentiationMatrix.ipynb) \n",
    "- [Pairwise differences](Exercise_PairwiseDiff.ipynb) \n",
    "- [Hausdorff distance](Exercise_HausdorffDistance.ipynb) \n",
    "- [$k$-nearest neighbors](Exercise_kNearestNeighbors.ipynb)\n",
    "- [Predator-prey model](Exercise_PredatorPrey.ipynb) \n",
    "- [Column space](Exercise_Column_space.ipynb)\n",
    "- [Null space](Exercise_Null_space.ipynb)\n",
    "- [Pandas from dictionaries](Exercise_DictPandas.ipynb)\n",
    "- [Iris flowers](Exercise_Iris.ipynb)\n",
    "- [Stock prices](Exercise_Stocks.ipynb)\n",
    "- [Passengers on the Titanic](Exercise_Titanic.ipynb) \n",
    "- [Animate functions](Exercise_Animate.ipynb)\n",
    "- [Insurance company](Exercise_InsuranceCompany.ipynb)\n",
    "- [Probabilities on small graphs](Exercise_HittingProbabilities.ipynb)\n",
    "- [Ehrenfest urns](Exercise_EhrenfestUrns.ipynb)\n",
    "- [Power method for large graphs](Exercise_Power4LargeGraphs.ipynb) \n",
    "- [Google's toy graph](Exercise_GoogleGraph.ipynb)\n",
    "- [Atmospheric carbon dioxide](Exercise_CO2regression.ipynb)\n",
    "- [Ovarian cancer data](Exercise_OvarianCancerData.ipynb)\n",
    "- [Eigenfaces](Exercise_Eigenfaces.ipynb)\n",
    "- [Word vectors](Exercise_WordVectors.ipynb)\n",
    "\n",
    "\n",
    "#### Projects\n",
    "\n",
    "- [Bisection](Assignment_A_Bisection.ipynb)\n",
    "- [Rise of CO$_2$ in the atmosphere](Assignment_CO2rise.ipynb)\n",
    "- [COVID-19 cases in the west coast](Assignment_Z_Growth_of_COVID-19_cases.ipynb)\n",
    "- [World map of COVID-19 cases](Assignment_WorldMapCovid.ipynb)\n",
    "- [Neighbor's color](Assignment_NeighborColor.ipynb)"
   ]
  },
  {
   "cell_type": "markdown",
   "metadata": {},
   "source": [
    "#### Download\n",
    "\n",
    "- [GitHub Repository of Codes & Notebooks](https://github.com/jayggg/mth271content)\n",
    "- [OER (Open Educational Resource) Page](https://doi.org/10.15760/pdxopen-28)"
   ]
  },
  {
   "cell_type": "markdown",
   "metadata": {},
   "source": [
    "\n",
    "\n",
    "\n",
    "\n",
    "\n",
    "<hr>\n",
    "\n",
    "\n",
    "\n",
    "<span style=\"color:rgb(106,127,16); font-size:8pt\">Author:</span> [<span style=\"color:rgb(106,127,16); font-size:8pt\">Jay Gopalakrishnan</span>](http://web.pdx.edu/~gjay/) \n",
    "<br><span style=\"color:rgb(106,127,16); font-size:8pt\">License:</span> [<span style=\"color:rgb(106,127,16) ; font-size:8pt\">CC-BY-SA. &copy;2020</span>](https://creativecommons.org/licenses/by-sa/4.0/legalcode)\n",
    " \n",
    " \n",
    " \n",
    " \n"
   ]
  }
 ],
 "metadata": {
  "kernelspec": {
   "display_name": "Python 3",
   "language": "python",
   "name": "python3"
  },
  "language_info": {
   "codemirror_mode": {
    "name": "ipython",
    "version": 3
   },
   "file_extension": ".py",
   "mimetype": "text/x-python",
   "name": "python",
   "nbconvert_exporter": "python",
   "pygments_lexer": "ipython3",
   "version": "3.8.0"
  }
 },
 "nbformat": 4,
 "nbformat_minor": 2
}
