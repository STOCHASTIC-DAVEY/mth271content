{
 "cells": [
  {
   "cell_type": "markdown",
   "metadata": {
    "ein.tags": "worksheet-0",
    "slideshow": {
     "slide_type": "-"
    }
   },
   "source": [
    "\n",
    "# <span style=\"color:rgb(106,127,16)\">List of Preparatory Materials for Each Activity  </span>\n",
    " \n"
   ]
  },
  {
   "cell_type": "markdown",
   "metadata": {},
   "source": [
    "<br>"
   ]
  },
  {
   "cell_type": "markdown",
   "metadata": {},
   "source": [
    "The activities in the table of contents are enumerated again below in a linear ordering with hyperlinks to external online preparatory materials for each."
   ]
  },
  {
   "cell_type": "markdown",
   "metadata": {},
   "source": [
    "| Required Preparation  |   Activity |\n",
    "|:----------|:----------|\n",
    "|||\n",
    "|Watch the first few of  [the 44 Microsoft videos](https://youtu.be/7XOhibxgBlQ?list=PLlrxD0HtieHhS8VzuMCfQD4uJ9yne1mE6) on python. Watch a 2014 video by SIAM: [What is data science?](https://youtu.be/KUByrBWS2HU) Browse basic  language facilities either from  the official [Python tutorial](https://docs.python.org/3/tutorial/) or from [[JV-W]](https://jakevdp.github.io/WhirlwindTourOfPython/index.html).  |[01 Overview of tools](01_Overview_of_tools_applied_to_COVID-19_example.ipynb) |\n",
    "| | |\n",
    "|Read about the iPython shell facilities from the first chapter of [[JV-H]](https://jakevdp.github.io/PythonDataScienceHandbook/01.00-ipython-beyond-normal-python.html). | [02 Interacting with python](02_Interacting_with_python.ipynb) |\n",
    "|||\n",
    "|Browse [Git Handbook](https://guides.github.com/introduction/git-handbook/) | [03 Working with git](03_Working_with_git.ipynb) |\n",
    "|||\n",
    "|Using  the  [Python tutorial](https://docs.python.org/3/tutorial/) or  [[JV-W]](https://jakevdp.github.io/WhirlwindTourOfPython/index.html) work with   [`if`](https://docs.python.org/3/tutorial/controlflow.html#if-statements), [`while`](https://jakevdp.github.io/WhirlwindTourOfPython/07-control-flow-statements.html), [`for`,`range`](https://docs.python.org/3/tutorial/controlflow.html#for-statements), [`print`](https://docs.python.org/3/library/functions.html#print), lists `[]`, tuples `()`,  and [list comprehension](https://jakevdp.github.io/WhirlwindTourOfPython/11-list-comprehensions.html). |   [04 Conversion table](04_Conversion_table.ipynb) |\n",
    "|| [Exercise: Power sum](Exercise_Sum_Integer_Powers.ipynb) |\n",
    "|||\n",
    "|Using [Python tutorial](https://docs.python.org/3/tutorial/) or  [[JV-W]](https://jakevdp.github.io/WhirlwindTourOfPython/index.html), learn  about functions, [`def`](https://jakevdp.github.io/WhirlwindTourOfPython/08-defining-functions.html), and [`lambda`](https://docs.python.org/3/tutorial/controlflow.html#lambda-expressions). |  [05 Approximating derivatives](05_Derivative_Approximation.ipynb)\n",
    "||    [Project: Bisection](Assignment_A_Bisection.ipynb)|\n",
    "|||\n",
    "|Using [Python tutorial](https://docs.python.org/3/tutorial/) or  [[JV-W]](https://jakevdp.github.io/WhirlwindTourOfPython/index.html), learn about  [dictionaries `{}`,](https://jakevdp.github.io/WhirlwindTourOfPython/06-built-in-data-structures.html) [strings](https://jakevdp.github.io/WhirlwindTourOfPython/14-strings-and-regular-expressions.html) and file operations [`open`,](https://docs.python.org/3/library/functions.html#open) [`readlines`](https://docs.python.org/3/library/codecs.html?highlight=.readlines#codecs.StreamReader)| [06 Genome of SARS-CoV-2 virus](06_Genome_of_SARS-CoV-2.ipynb) |\n",
    "|| [Project: Rise of CO$_2$ in the atmosphere](Assignment_CO2rise.ipynb)\n",
    "|||  \n",
    "| Checkout [pytest](https://docs.pytest.org/en/latest/index.html), [generator expressions, `yield`](https://jakevdp.github.io/WhirlwindTourOfPython/12-generators.html), line and cell [magics](https://jakevdp.github.io/PythonDataScienceHandbook/01.03-magic-commands.html) | [07 Fibonacci primes](07_Fibonacci_primes.ipynb)|\n",
    "|||\n",
    "|Learn  [numpy basics from [JV-H]](https://jakevdp.github.io/PythonDataScienceHandbook/02.02-the-basics-of-numpy-arrays.html),    [ufuncs](https://jakevdp.github.io/PythonDataScienceHandbook/02.03-computation-on-arrays-ufuncs.html), <br> [broadcasting](https://jakevdp.github.io/PythonDataScienceHandbook/02.05-computation-on-arrays-broadcasting.html) [indexing](https://jakevdp.github.io/PythonDataScienceHandbook/02.07-fancy-indexing.html), [masking](https://jakevdp.github.io/PythonDataScienceHandbook/02.06-boolean-arrays-and-masks.html) | [08 Numpy blitz](08_Numpy_blitz.ipynb) |\n",
    "|| [Exercise: Argument passing](Exercise_FunctionArgument.ipynb)|\n",
    "|| [Exercise: Piecewise functions](Exercise_Piecewise.ipynb)|\n",
    "|||\n",
    "|Learn [sorting, partitioning [JV-H]](https://jakevdp.github.io/PythonDataScienceHandbook/02.08-sorting.html),   and quick ways to  [make matrices from  [numpy.org]](https://numpy.org/devdocs/reference/routines.array-creation.html).  |[Exercise: Row Swap](Exercise_RowSwap.ipynb) |\n",
    "||[Exercise: Averaging Matrix](Exercise_AveragingMatrix.ipynb) |\n",
    "||[Exercise: Differentiation Matrix](Exercise_DifferentiationMatrix.ipynb)| \n",
    "|||\n",
    "|Learn how to  make simple [plots using `matplotlib`](https://jakevdp.github.io/PythonDataScienceHandbook/04.01-simple-line-plots.html). Read about [aggregation and masking from [JV-H]](https://jakevdp.github.io/PythonDataScienceHandbook/02.00-introduction-to-numpy.html) |  [Exercise: Graphing functions](Exercise_Graphing_functions.ipynb) |\n",
    "|| [Exercise: Pairwise differences](Exercise_PairwiseDiff.ipynb) |\n",
    "||[Exercise: Hausdorff distance](Exercise_HausdorffDistance.ipynb) |\n",
    "||[Exercise: $k$-nearest neighbors](Exercise_kNearestNeighbors.ipynb) |\n",
    "|||\n",
    "|Get an overview of [scipy facilities](https://docs.scipy.org/doc/scipy/reference/tutorial/index.html). Online [scipy lecture notes](https://scipy-lectures.org) are very helpful.  Familiarize yourselves with  scipy's  [`sparse`](https://docs.scipy.org/doc/scipy/reference/sparse.html) and [`integrate`](https://docs.scipy.org/doc/scipy/reference/integrate.html) modules.  |  [09 SEIR model of infectious diseases](09_SEIR_model.ipynb)|\n",
    "||[Exercise: Predator-prey model](Exercise_PredatorPrey.ipynb) |\n",
    "|||\n",
    "|Learn numpy facilities for [matrix factorizations](https://numpy.org/doc/1.18/reference/routines.linalg.html),  [eigenvalues](https://numpy.org/doc/1.18/reference/generated/numpy.linalg.eig.html#numpy.linalg.eig) etc.|  [10 Singular value decomposition](10_SVD.ipynb) |\n",
    "|| [Exercise: Column space](Exercise_Column_space.ipynb)|\n",
    "||[Exercise: Null space](Exercise_Null_space.ipynb)|\n",
    "|||\n",
    "|Learn [pandas](https://jakevdp.github.io/PythonDataScienceHandbook/03.00-introduction-to-pandas.html). There is a lot here <br> to learn  so please allocate more preparation time than usual. |  [Exercise: Pandas from dictionaries](Exercise_DictPandas.ipynb)|\n",
    "||[Exercise: Iris flower dataset](Exercise_Iris.ipynb) | \n",
    "|||\n",
    "|Reinforce your [pandas](https://jakevdp.github.io/PythonDataScienceHandbook/03.00-introduction-to-pandas.html)  skills.  |   [11 Bikes on Tilikum Crossing](11_TilikumCrossingBikes.ipynb) |\n",
    "|| [Exercise: Stock prices](Exercise_Stocks.ipynb)| \n",
    "||[Exercise: Passengers on the Titanic](Exercise_Titanic.ipynb)|\n",
    "|||\n",
    "||[Project: Growth of COVID-19 cases in the west coast](Assignment_Z_Growth_of_COVID-19_cases.ipynb) |\n",
    "|||   \n",
    "|Familiarize yourselves with [geopandas](https://geopandas.org),   [cartopy](https://scitools.org.uk/cartopy/docs/latest/), and  [matplotlib.animation](https://matplotlib.org/3.2.1/api/animation_api.html).| [12 Visualizing geospatial data](12_VisualizingGeospatialData.ipynb) |\n",
    "|| [Exercise: Animate functions](Exercise_Animate.ipynb)|\n",
    "|||\n",
    "|| [Project: World map of COVID-19 cases](Assignment_WorldMapCovid.ipynb)\n",
    "|||\n",
    "|Review  [scipy.sparse](https://docs.scipy.org/doc/scipy/reference/sparse.html). Check out [NetworkX](http://networkx.github.io). | [13 Gambler's Ruin](13_GamblersRuin.ipynb) |\n",
    "|| [Exercise: Insurance Company](Exercise_InsuranceCompany.ipynb)|\n",
    "||[Exercise: Probabilities on small graphs](Exercise_HittingProbabilities.ipynb)  |\n",
    "||[Exercise: Ehrenfest thought experiment](Exercise_EhrenfestUrns.ipynb)|\n",
    "|||\n",
    "||[Project: Neighbor's color](Assignment_NeighborColor.ipynb)|\n",
    "|||\n",
    "| Be acquainted with [scipy.sparse](https://docs.scipy.org/doc/scipy/reference/sparse.html)'s COO  and<br> CSR formats for matrices.| [Exercise: Power method for large graphs](Exercise_Power4LargeGraphs.ipynb) <br> [Exercise: Google's toy graph](Exercise_GoogleGraph.ipynb) |\n",
    "|||\n",
    "|Read the good [introduction to machine learning from [JV-H]](https://jakevdp.github.io/PythonDataScienceHandbook/05.01-what-is-machine-learning.html)  | [15 Supervised learning by regression](15_SupervisedLearning.ipynb)|\n",
    "||[Exercise: Atmospheric carbon dioxide](Exercise_CO2regression.ipynb) |\n",
    "|||\n",
    "|Read about unsupervised machine learning, focusing  specifically on [PCA](https://jakevdp.github.io/PythonDataScienceHandbook/05.09-principal-component-analysis.html). Also review  the prior lecture on [SVD](10_SVD.ipynb) before class. | [16 Unsupervised learning by PCA](16_UnsupervisedLearning.ipynb) |\n",
    "|| [Exercise: Ovarian cancer data](Exercise_OvarianCancerData.ipynb)|\n",
    "||[Exercise: Eigenfaces](Exercise_Eigenfaces.ipynb)|\n",
    "|||\n",
    "|Learn about text features  in machine learning from [[JV-H]](https://jakevdp.github.io/PythonDataScienceHandbook/05.04-feature-engineering.html).| [17 Latent semantic analysis](17_LSA.ipynb) |\n",
    "|| [Exercise: Word vectors](Exercise_WordVectors.ipynb) |"
   ]
  }
 ],
 "metadata": {
  "kernelspec": {
   "display_name": "Python 3",
   "language": "python",
   "name": "python3"
  },
  "language_info": {
   "codemirror_mode": {
    "name": "ipython",
    "version": 3
   },
   "file_extension": ".py",
   "mimetype": "text/x-python",
   "name": "python",
   "nbconvert_exporter": "python",
   "pygments_lexer": "ipython3",
   "version": "3.8.0"
  },
  "name": "_DIARY.ipynb"
 },
 "nbformat": 4,
 "nbformat_minor": 2
}
