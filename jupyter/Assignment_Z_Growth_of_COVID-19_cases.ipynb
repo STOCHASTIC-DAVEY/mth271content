{
 "cells": [
  {
   "cell_type": "markdown",
   "metadata": {},
   "source": [
    "---\n",
    "\n",
    "# Assignment: Growth of confirmed COVID-19 cases\n"
   ]
  },
  {
   "cell_type": "markdown",
   "metadata": {},
   "source": [
    "\n",
    "**Task** \n",
    "\n",
    "Your assignment  is to plot   a time series of confirmed COVID-19 cases in Oregon, Washington, and California, using data from  [[JHU-CSSE]](https://github.com/CSSEGISandData/COVID-19).\n",
    "\n",
    "Start by copying the required code to download/update the data  from the [Overview](01_Overview_of_tools_applied_to_COVID-19_example.ipynb)\n",
    "lecture.  Then see what files you would need to examine to get the data  to accomplish your goal.\n",
    "\n"
   ]
  },
  {
   "cell_type": "markdown",
   "metadata": {},
   "source": [
    "**Product for grading**\n",
    "\n",
    "Turn in one `.ipynb` file containing a jupyter notebook explaining how you produced the plot. Also turn in one `.png` file of your final plot. "
   ]
  },
  {
   "cell_type": "markdown",
   "metadata": {},
   "source": [
    "If you were to finish the assignment today, your plot would look like this: "
   ]
  },
  {
   "cell_type": "markdown",
   "metadata": {},
   "source": [
    "![](../figs/westcoast-2020-04-06.png)"
   ]
  },
  {
   "cell_type": "markdown",
   "metadata": {},
   "source": [
    "But, of course, the plot you turn in should be the plot obtained that day. And none of us know yet how that would look like."
   ]
  }
 ],
 "metadata": {
  "kernelspec": {
   "display_name": "Python 3",
   "language": "python",
   "name": "python3"
  },
  "language_info": {
   "codemirror_mode": {
    "name": "ipython",
    "version": 3
   },
   "file_extension": ".py",
   "mimetype": "text/x-python",
   "name": "python",
   "nbconvert_exporter": "python",
   "pygments_lexer": "ipython3",
   "version": "3.8.0"
  }
 },
 "nbformat": 4,
 "nbformat_minor": 2
}
