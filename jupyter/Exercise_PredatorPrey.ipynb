{
 "cells": [
  {
   "cell_type": "markdown",
   "metadata": {},
   "source": [
    "___\n",
    "\n",
    "\n",
    "# Exercise: Predator-prey model"
   ]
  },
  {
   "cell_type": "markdown",
   "metadata": {},
   "source": [
    "Suppose the  populations of rabbits (denoted by $r(t)$) and foxes (denoted by $x(t)$) at time $t$ in a jungle are modeled by the ODE system \n",
    "$$\n",
    "\\begin{aligned}\n",
    "\\frac{dr}{dt} & = \\alpha r - \\beta r x\n",
    "\\\\\n",
    "\\frac{dx}{dt} & = \\delta r x   - \\gamma x\n",
    "\\end{aligned}\n",
    "$$\n",
    "where $\\alpha = 1.1$, $\\beta=0.4$, $\\delta= 0.1$, and $\\gamma=0.1$. \n",
    "\n",
    "**Task 1:** Given initial conditions \n",
    "$r(0) = 5$ and $x(0) = 2,$\n",
    "solve for $r(t)$ and $x(t)$ and plot the solution for $0 \\le t \\le 70$.\n",
    "\n",
    "**Task 2:** The phase plot of the solution consists of points $(x(t), r(t))$ for various $t$ values. Prepare a figure (*phase portrait*)  with phase plots of, say, 10 solutions, one each for randomly chosen  initial values $r(0)$ and $x(0)$ between 1 and 9. \n",
    "\n",
    "**Task 3:** This system has two equilibria. Solve for them and mark them in your phase portrait.  "
   ]
  }
 ],
 "metadata": {
  "kernelspec": {
   "display_name": "Python 3",
   "language": "python",
   "name": "python3"
  },
  "language_info": {
   "codemirror_mode": {
    "name": "ipython",
    "version": 3
   },
   "file_extension": ".py",
   "mimetype": "text/x-python",
   "name": "python",
   "nbconvert_exporter": "python",
   "pygments_lexer": "ipython3",
   "version": "3.8.0"
  }
 },
 "nbformat": 4,
 "nbformat_minor": 2
}
