{
 "cells": [
  {
   "cell_type": "markdown",
   "metadata": {},
   "source": [
    "# <span style=\"color:rgb(106,127,16)\">Visualizing geospatial data</span>\n",
    "\n",
    "\n",
    "<div style=\"text-align: right\"><span style=\"color:rgb(106,127,16)\">May 6, 2020\n",
    "    </span></div>\n",
    "<br>\n",
    "\n",
    "  \n",
    "\n"
   ]
  },
  {
   "cell_type": "markdown",
   "metadata": {},
   "source": [
    "Geospatial data refers to data which has a geographic component in it. Usually this means that the data entries are associated to some point on the surface of the earth. Therefore, geospatial data are usually visualized on maps.\n",
    "\n",
    "Because the earth is round, in order to make a flat map, \n",
    "one must transform the earth's surface to a flat surface. Such transformations are called *projections* by cartographers (not to be confused with linear projections from linear algebra).  Mathematicians know that a transformation between topologically different regions\n",
    "must   be discontinous somewhere. So these projections, while very useful, cannot be perfect replicas of reality.  It is useful to know this and a bit more about python  modules for projections while attempting to visualize geospatial data on the globe.\n",
    "\n",
    "\n",
    "In your textbook, you will find a section titled\n",
    "[Geographic Data with Basemap](https://jakevdp.github.io/PythonDataScienceHandbook/04.13-geographic-data-with-basemap.html), which uses the python module `basemap`. However in recent years, the module basemap has been  deprecated in favor of the new python mapping project called [Cartopy](https://scitools.org.uk/cartopy/docs/v0.15/index.html). Therefore, this activity aims at taking a quick look at cartopy. Cartopy, together with [geopandas](https://geopandas.org/),  a package  built on top of `pandas`, shows promise in easing geospatial visualization. They are nonetheless relatively new efforts. You will notice that their documentation, while constantly improving, is not as mature as, say numpy. There will likely be a number of changes in the provided facilities as these efforts take hold. Our goal in this activity is to get acquainted  with these new developments for visualizing geospatial data."
   ]
  },
  {
   "cell_type": "code",
   "execution_count": null,
   "metadata": {},
   "outputs": [],
   "source": [
    "import numpy as np\n",
    "import matplotlib.pyplot as plt\n",
    "%matplotlib inline\n",
    "import pandas as pd\n",
    "import geopandas as gpd\n",
    "from cartopy import crs"
   ]
  },
  {
   "cell_type": "markdown",
   "metadata": {},
   "source": [
    "## Geometry representation"
   ]
  },
  {
   "cell_type": "markdown",
   "metadata": {},
   "source": [
    "The `GeoDataFrame` class of `geopandas` is a `pandas` data frame with a special column representing geometry. This column is a `GeoSeries` object, which may be viewed as a  `pandas` series where each entry is a set of shapes. The shapes are geometric objects like a a set of points, lines, a single polygon, or many polygons. These shapes are  objects made using the [shapely](https://github.com/Toblerity/Shapely) package. Together they allow easy interaction with `matplotlib` for plotting geospatial data. \n",
    "\n",
    "\n",
    "Here is  a `GeoDataFrame` object we have already used in [01 Overview](01_Overview_of_tools_applied_to_COVID-19_example.ipynb):\n",
    "\n"
   ]
  },
  {
   "cell_type": "code",
   "execution_count": null,
   "metadata": {},
   "outputs": [],
   "source": [
    "world = gpd.read_file(gpd.datasets.get_path('naturalearth_lowres'))\n",
    "type(world)"
   ]
  },
  {
   "cell_type": "markdown",
   "metadata": {},
   "source": [
    "The above-mentioned special column of the `world` data frame is this."
   ]
  },
  {
   "cell_type": "code",
   "execution_count": null,
   "metadata": {},
   "outputs": [],
   "source": [
    "type(world.geometry)"
   ]
  },
  {
   "cell_type": "markdown",
   "metadata": {},
   "source": [
    "A `GeoDataFrame` can have many columns of type `GeoSeries`, but  there can only be one *active* geometry column, which is what is returned by the attribute `GeoDataFrame.geometry`.   Note also that the name of this active `GeoSeries` can be anything (not necessarily `geometry`), but in the `world` object, the column happens to be called `geometry`, as can be seen below."
   ]
  },
  {
   "cell_type": "code",
   "execution_count": null,
   "metadata": {},
   "outputs": [],
   "source": [
    "world.geometry.name"
   ]
  },
  {
   "cell_type": "code",
   "execution_count": null,
   "metadata": {},
   "outputs": [],
   "source": [
    "world.head()"
   ]
  },
  {
   "cell_type": "markdown",
   "metadata": {},
   "source": [
    "The `plot` method of the data frame is redefined in a `GeoDataFrame` to use the geometry objects in the active  geometry column. So to plot this map, all we have to do is use the `plot` method:"
   ]
  },
  {
   "cell_type": "code",
   "execution_count": null,
   "metadata": {},
   "outputs": [],
   "source": [
    "world.plot()"
   ]
  },
  {
   "cell_type": "markdown",
   "metadata": {},
   "source": [
    "A `GeoDataFrame` has more attributes than a regular `pandas` data frame. For example, it stores the centroids of the shapes in the active geometry column."
   ]
  },
  {
   "cell_type": "code",
   "execution_count": null,
   "metadata": {},
   "outputs": [],
   "source": [
    "type(world.centroid)"
   ]
  },
  {
   "cell_type": "markdown",
   "metadata": {},
   "source": [
    "This is a `GeoSeries` that did not show up when we queried `world.head()`, but it is an attribute of `world`. We can, of course, make it an additional column of `world` by in the usual pandas way. "
   ]
  },
  {
   "cell_type": "code",
   "execution_count": null,
   "metadata": {},
   "outputs": [],
   "source": [
    "world['centroids'] = world.centroid\n",
    "world.head()"
   ]
  },
  {
   "cell_type": "markdown",
   "metadata": {},
   "source": [
    "Now, `world` has two `GeoSeries` columns. If we make the `centroids` column the *active* geometry column, then the output of the `plot` method changes since it uses the active column's geometry specifications."
   ]
  },
  {
   "cell_type": "code",
   "execution_count": null,
   "metadata": {},
   "outputs": [],
   "source": [
    "world = world.set_geometry('centroids')   # change the active geometry column\n",
    "world.plot();"
   ]
  },
  {
   "cell_type": "markdown",
   "metadata": {},
   "source": [
    "## Coordinate Reference Systems"
   ]
  },
  {
   "cell_type": "markdown",
   "metadata": {},
   "source": [
    "An essential data structure of cartopy is CRS, or *Coordinate Reference Systems,* the name used by cartopy (and other python projects) for the projections used in maps.  A CRS often used as default is the  the Plate Carrée projection, which cartopy provides as follows."
   ]
  },
  {
   "cell_type": "code",
   "execution_count": null,
   "metadata": {},
   "outputs": [],
   "source": [
    "crs.PlateCarree()"
   ]
  },
  {
   "cell_type": "markdown",
   "metadata": {},
   "source": [
    "As you guessed from the above output, the CRS object is able to plot itself using matplotlib. This points to one avenue for visualizing geospatial data that has no need for geopandas.  Cartopy produces a matplotlib axis on which you can overlay your data as you see fit: if your data has latitude and longitude associated to it, cartopy can apply the relevant projection automatically to place it at the proper place in the figure. Below, we will focus on  alternative visualization methods using geopandas and facilities to interact between cartopy and geopandas."
   ]
  },
  {
   "cell_type": "markdown",
   "metadata": {},
   "source": [
    "The `world` object of class `GeoDataFrame` comes with a CRS attribute, another attribute that does not show up in `world.head()` output."
   ]
  },
  {
   "cell_type": "code",
   "execution_count": null,
   "metadata": {},
   "outputs": [],
   "source": [
    "world.crs"
   ]
  },
  {
   "cell_type": "markdown",
   "metadata": {},
   "source": [
    "We see that the CRS above is codenamed EPSG:4326. Here EPSG stands for European Petroleum Survey Group. They maintain several data sets at \n",
    "https://spatialreference.org/ref/epsg/. Each set in “EPSG Geodetic Parameter Dataset is a collection of definitions of coordinate reference systems and coordinate transformations which may be global, regional, national or local in application.”\n",
    "\n",
    "EPSG-number 4326 that we have here belongs to the WGS 84 coordinate system,\n",
    "the latest in the \n",
    "[World Geodetic System (WGS)](https://en.wikipedia.org/wiki/World_Geodetic_System)\n",
    "where the earth is represented as an oblate spheroid with coordinates in \n",
    "decimal degrees (`Lat, Lon`). \n",
    "\n",
    "Changing the active geometry from previously set `centroids` to the original `geometry` column, let us plot the `world` again in order to compare the result with another CRS. "
   ]
  },
  {
   "cell_type": "code",
   "execution_count": null,
   "metadata": {
    "scrolled": true
   },
   "outputs": [],
   "source": [
    "world = world.set_geometry('geometry')   # set the active geometry\n",
    "world.plot(); plt.title('World in WGS 84 CRS');"
   ]
  },
  {
   "cell_type": "markdown",
   "metadata": {},
   "source": [
    "We compare this output with another very well-known  projection,  the Mercator projection, which has the nice property that it is conformal, i.e., it preserves angles. EPSG has made available a *Web Mercator* projection. We can easily \n",
    "convert `world` from the WGS 84  to the Mercator CRS:"
   ]
  },
  {
   "cell_type": "code",
   "execution_count": null,
   "metadata": {},
   "outputs": [],
   "source": [
    "world_Mercator = world.to_crs(\"EPSG:3395\") \n",
    "world_Mercator.plot();\n",
    "plt.title('World in Mercator CRS');"
   ]
  },
  {
   "cell_type": "markdown",
   "metadata": {},
   "source": [
    "Generations of school kids have grown up with this Mercator map.\n",
    "Note how \n",
    "the Mercator projection  distorts the size of objects as the latitude increases from the equator to the poles.\n",
    "Some countries near equator look smaller than they really are. For example, Brazil is actually *larger* than the contiguous United States, but it looks smaller in the Mercator projection. If you have time for a digression, have a look into the many   discussions online, e.g., [The Problem With Our Maps](https://www.visualcapitalist.com/problem-with-our-maps/), \n",
    "on how the false sizes on maps (perhaps inadvertently) shape our views on countries."
   ]
  },
  {
   "cell_type": "markdown",
   "metadata": {},
   "source": [
    "## Two other CRS\n",
    "\n",
    "\n",
    "The *Azimuthal Equidistant* and *Albers Equal Area* coordinate reference systems show areas of the globe in better proportions than the Mercator projection, as their names suggest. These are implemented in cartopy. We want to leverage  geopandas' ability to work with cartopy in the next step. We don't always get meaningful plots after an arbitrary CRS to CRS conversion, but what is officially possible is laid out in the [current geopandas](https://geopandas.org/index.html)  documentation, which would be a good source to check back on for future changes. \n",
    "\n",
    "First, for conversion from the default WGS 84 to the azimuthal equidistant CRS, we create a cartopy CRS object. "
   ]
  },
  {
   "cell_type": "code",
   "execution_count": null,
   "metadata": {},
   "outputs": [],
   "source": [
    "ae = crs.AzimuthalEquidistant()\n",
    "type(ae)"
   ]
  },
  {
   "cell_type": "markdown",
   "metadata": {},
   "source": [
    "Then we convert the cartopy object to a form usable by geopandas through an intermediate step. That step offers a glimpse of what lies at the core of many of the mapping tools, the [PROJ](https://proj.org) project. (All these dependencies made installing geopandas more involved, as you recall from our early install sessions.)"
   ]
  },
  {
   "cell_type": "code",
   "execution_count": null,
   "metadata": {},
   "outputs": [],
   "source": [
    "aeproj4 = ae.proj4_init           # Convert to`proj4` string/dict usable in gpd\n",
    "world_ae = world.to_crs(aeproj4)  # Then call to_crs method\n",
    "world_ae.plot()"
   ]
  },
  {
   "cell_type": "markdown",
   "metadata": {},
   "source": [
    "This represents the geopandas object `world_ae`, which is the `world` object whose geometry has been converted to the azimuthal equidistant CRS. From the above output, it we see that the azimuthal equidistant projection shows the central view in good proportions, with obvious distortions farther out although the distortions are evocative of the globe. However, this CRS is often  difficult to use for showing  data that is spread over the populous parts of the globe. (You can change the central view as shown in the next cell.)  See, for example, how difficult it is to get the far east, the west, and Europe, together in any perspective,  due to the vastness of the intermediate Pacific ocean."
   ]
  },
  {
   "cell_type": "code",
   "execution_count": null,
   "metadata": {},
   "outputs": [],
   "source": [
    "crs.AzimuthalEquidistant(central_longitude=200, central_latitude=10)"
   ]
  },
  {
   "cell_type": "markdown",
   "metadata": {},
   "source": [
    "\n",
    "It is therefore useful to get to know  another projection from `cartopy` called `AlbersEqualArea` projection."
   ]
  },
  {
   "cell_type": "code",
   "execution_count": null,
   "metadata": {},
   "outputs": [],
   "source": [
    "aea = crs.AlbersEqualArea()\n",
    "aea"
   ]
  },
  {
   "cell_type": "markdown",
   "metadata": {},
   "source": [
    "Finally, as an illustration of how to plot geopandas geometries into an axis generated by cartopy, we will convert or project  the existing geometry objects in `world_ae` to `AlbersEqualArea` CRS as shown below."
   ]
  },
  {
   "cell_type": "code",
   "execution_count": null,
   "metadata": {},
   "outputs": [],
   "source": [
    "aea_geo = [aea.project_geometry(ii, src_crs=ae) \n",
    "           for ii in world_ae['geometry'].values]"
   ]
  },
  {
   "cell_type": "markdown",
   "metadata": {},
   "source": [
    "Since `cartopy` works directly with `matplotlib`, we can  immediately render the resulting geometries in matplotlib's axis. "
   ]
  },
  {
   "cell_type": "code",
   "execution_count": null,
   "metadata": {},
   "outputs": [],
   "source": [
    "fig, ax = plt.subplots(subplot_kw={'projection': aea})\n",
    "ax.add_geometries(aea_geo, crs=aea);"
   ]
  },
  {
   "cell_type": "markdown",
   "metadata": {},
   "source": [
    "We can alternately produce essentially the same plot using geopandas as follows."
   ]
  },
  {
   "cell_type": "code",
   "execution_count": null,
   "metadata": {},
   "outputs": [],
   "source": [
    "gpd.GeoDataFrame(world, geometry=aea_geo, crs=aea.proj4_init).plot();"
   ]
  },
  {
   "cell_type": "markdown",
   "metadata": {},
   "source": [
    "## Mapping  COVID-19 cases on the globe"
   ]
  },
  {
   "cell_type": "markdown",
   "metadata": {},
   "source": [
    "As an application of the above-discussed geospatial visualization techniques, we will now  make a map of COVID-19 cases throughout the world using the `AlbersEqualArea` coordinate reference system."
   ]
  },
  {
   "cell_type": "code",
   "execution_count": null,
   "metadata": {},
   "outputs": [],
   "source": [
    "import os\n",
    "from git import Repo"
   ]
  },
  {
   "cell_type": "markdown",
   "metadata": {},
   "source": [
    "First update your data folder by pulling the newest reports of COVID-19 from the GitHub repository maintained by Johns Hopkins' researchers. "
   ]
  },
  {
   "cell_type": "code",
   "execution_count": null,
   "metadata": {},
   "outputs": [],
   "source": [
    "covidfolder = '../../data_external/covid19'\n",
    "if os.path.isdir(covidfolder):   # if repo exists, pull newest data \n",
    "    repo = Repo(covidfolder)\n",
    "    repo.remotes.origin.pull()\n",
    "else:                            # otherwise, clone from remote\n",
    "    repo = Repo.clone_from('https://github.com/CSSEGISandData/COVID-19.git',\n",
    "                           covidfolder)   \n",
    "datadir = repo.working_dir + '/csse_covid_19_data/csse_covid_19_time_series'\n",
    "f = datadir + '/time_series_covid19_confirmed_global.csv'"
   ]
  },
  {
   "cell_type": "code",
   "execution_count": null,
   "metadata": {},
   "outputs": [],
   "source": [
    "c = pd.read_csv(os.path.abspath(f))\n",
    "c = c.rename(columns={'Country/Region': 'country'}).iloc[:, 1:]\n",
    "c.head()"
   ]
  },
  {
   "cell_type": "markdown",
   "metadata": {},
   "source": [
    "Some countries are repeated (as their provinces are being counted in separate data entries), as can be seen from the following nonzero difference:"
   ]
  },
  {
   "cell_type": "code",
   "execution_count": null,
   "metadata": {},
   "outputs": [],
   "source": [
    "len(c['country']) - len(set(c['country']))"
   ]
  },
  {
   "cell_type": "markdown",
   "metadata": {},
   "source": [
    "Therefore, we sum up each country's confirmed COVID-19 counts for each day using a `pandas` groupby operation.  Of course, it doesn't make sense to sum up the latitudes and longitudes, so we take their average values within countries (which is not the perfect solution, but it will do for our current purposes)."
   ]
  },
  {
   "cell_type": "code",
   "execution_count": null,
   "metadata": {},
   "outputs": [],
   "source": [
    "cg = c.groupby('country')[c.columns[3:]].sum()\n",
    "cg['Lat'] = c.groupby('country')['Lat'].mean()\n",
    "cg['Long'] = c.groupby('country')['Long'].mean()"
   ]
  },
  {
   "cell_type": "markdown",
   "metadata": {},
   "source": [
    "This newly created data frame  has no `GeoSeries`. We use the latitude and longitude information to create  point geometries. With this information, we can make a `GeoDataFrame`."
   ]
  },
  {
   "cell_type": "code",
   "execution_count": null,
   "metadata": {},
   "outputs": [],
   "source": [
    "geo = gpd.points_from_xy(cg['Long'], cg['Lat'])\n",
    "c_aea_geo = [aea.project_geometry(ii) for ii in geo]\n",
    "cg = gpd.GeoDataFrame(cg, geometry=c_aea_geo, crs=aea.proj4_init)"
   ]
  },
  {
   "cell_type": "markdown",
   "metadata": {},
   "source": [
    "Now, in `cg`, we have a `GeoDataFrame` object that should know how to plot its data columns in the data's associated places on the globe. "
   ]
  },
  {
   "cell_type": "code",
   "execution_count": null,
   "metadata": {},
   "outputs": [],
   "source": [
    "def covidworldmap(date):\n",
    "\n",
    "    fig, ax = plt.subplots(figsize=(12, 10))\n",
    "    # put the world map on an axis\n",
    "    w = gpd.GeoDataFrame(world, geometry=aea_geo, crs=aea.proj4_init)\n",
    "    w.plot(ax=ax, color='midnightblue', edgecolor='darkslategray')\n",
    "    ax.set_facecolor('dimgray') \n",
    "    mx = cg.iloc[:, :-3].max().max()   # get max across data\n",
    "\n",
    "    # set marker sizes, with a min marker size for cases > 1000\n",
    "    msz = 500 * np.where(cg[date]-1000, np.maximum(cg[date]/mx, 0.001), 0)\n",
    "    cg.plot(ax=ax, cmap='Wistia', markersize=msz, alpha=0.5)\n",
    "\n",
    "    ax.set_xticks([])   # remove axis marks\n",
    "    ax.set_yticks([]);"
   ]
  },
  {
   "cell_type": "code",
   "execution_count": null,
   "metadata": {
    "scrolled": false
   },
   "outputs": [],
   "source": [
    "covidworldmap('5/5/20')"
   ]
  },
  {
   "cell_type": "markdown",
   "metadata": {},
   "source": [
    "The world is now littered with COVID-19 cases.  I wish our country had fared better, but the data doesn't lie.\n",
    "\n",
    "<br>"
   ]
  },
  {
   "cell_type": "markdown",
   "metadata": {},
   "source": [
    "\n",
    "\n",
    "<hr>\n",
    "\n",
    "\n",
    "\n",
    "\n",
    "<span style=\"color:rgb(106,127,16); font-size:8pt\">These materials were created by</span> [<span style=\"color:rgb(106,127,16); font-size:8pt\">Jay Gopalakrishnan</span>](http://web.pdx.edu/~gjay/) <span style=\"color:rgb(106,127,16); font-size:8pt\">for a sophomore course (MTH 271) offered during the Spring 2020 quarter at Portland State University, and are made available under the</span> [<span style=\"color:rgb(106,127,16) ; font-size:8pt\">CC-BY-SA license</span>](https://creativecommons.org/licenses/by-sa/4.0/legalcode).\n",
    " \n",
    "\n",
    "\n",
    "\n",
    "\n",
    "\n",
    "\n",
    "\n"
   ]
  }
 ],
 "metadata": {
  "kernelspec": {
   "display_name": "Python 3",
   "language": "python",
   "name": "python3"
  },
  "language_info": {
   "codemirror_mode": {
    "name": "ipython",
    "version": 3
   },
   "file_extension": ".py",
   "mimetype": "text/x-python",
   "name": "python",
   "nbconvert_exporter": "python",
   "pygments_lexer": "ipython3",
   "version": "3.8.0"
  }
 },
 "nbformat": 4,
 "nbformat_minor": 2
}
