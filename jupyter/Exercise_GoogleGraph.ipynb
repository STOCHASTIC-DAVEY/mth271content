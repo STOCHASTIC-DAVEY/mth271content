{
 "cells": [
  {
   "cell_type": "markdown",
   "metadata": {},
   "source": [
    "---\n",
    "# Exercise: Google's toy graph\n"
   ]
  },
  {
   "cell_type": "markdown",
   "metadata": {},
   "source": [
    "At [SNAP (Stanford Network Analysis Project)](https://snap.stanford.edu/index.html), you will find a large graph data set (with over 5 million edges) called the  *Google Web Graph*. (This graph was released by google for a programming competition.) Download this graph, examine the file, and guess the format. You will need to load this data into your computer's memory to solve this exercise. Think carefully about what tools you would use so as not to run  out of memory. \n",
    "\n",
    "\n",
    "**Task:**  Setting restart probability $r= 1-0.85,$ compute the pageranks of all vertices on this graph. Reuse the power method function you wrote in [Exercise: Power method for large graphs](Exercise_Power4LargeGraphs.ipynb)."
   ]
  },
  {
   "cell_type": "code",
   "execution_count": 1,
   "metadata": {},
   "outputs": [],
   "source": [
    "import os\n",
    "import urllib\n",
    "import shutil\n",
    "import numpy as np"
   ]
  },
  {
   "cell_type": "code",
   "execution_count": 2,
   "metadata": {},
   "outputs": [],
   "source": [
    "# The file is located here: \n",
    "url = \"https://snap.stanford.edu/data/web-Google.txt.gz\"\n",
    "\n",
    "# Download and copy it here using the code below:\n",
    "f =  '../../data_external/web-Google.txt.gz' \n",
    "\n",
    "if not os.path.exists(f): \n",
    "    r = urllib.request.urlopen(url)\n",
    "    fo = open(f, 'wb')\n",
    "    shutil.copyfileobj(r, fo)\n",
    "    fo.close()   "
   ]
  }
 ],
 "metadata": {
  "kernelspec": {
   "display_name": "Python 3",
   "language": "python",
   "name": "python3"
  },
  "language_info": {
   "codemirror_mode": {
    "name": "ipython",
    "version": 3
   },
   "file_extension": ".py",
   "mimetype": "text/x-python",
   "name": "python",
   "nbconvert_exporter": "python",
   "pygments_lexer": "ipython3",
   "version": "3.8.0"
  }
 },
 "nbformat": 4,
 "nbformat_minor": 2
}
