{
 "cells": [
  {
   "cell_type": "markdown",
   "metadata": {},
   "source": [
    "# <span style=\"color:rgb(106,127,16)\">Fibonacci primes</span>\n",
    "\n",
    "\n",
    "<div style=\"text-align: right\"><span style=\"color:rgb(106,127,16)\">April 9, 2020\n",
    "    </span></div>\n",
    "<br>\n",
    "\n",
    "\n"
   ]
  },
  {
   "cell_type": "markdown",
   "metadata": {},
   "source": [
    "\n",
    "Fibonacci numbers appear in so many unexpected places that I am sure you have  already seen them. They are elements of the Fibonacci sequence $F_n$ defined by \n",
    "$$\n",
    "\\begin{aligned}\n",
    "F_0 &= 0,\\qquad F_1 =1, \n",
    "\\\\\n",
    "F_n & = F_{n-1} + F_{n-2}, \\qquad \\text{ for  } n >1.\n",
    "\\end{aligned}\n",
    "$$\n",
    "Obviously, this recursive formula gives infinitely many Fibonacci numbers. We also know that there are infinitely many prime numbers: the ancient Greeks knew it (actually proved it) in 300 BC! \n",
    "\n",
    "But, to this day, we still do not know *if there are infinitely many prime numbers in the Fibonacci sequence.*    These numbers form the set of **Fibonacci primes.** \n",
    "Its (in)finiteness is one of the still [unsolved problems in mathematics](https://en.wikipedia.org/wiki/List_of_unsolved_problems_in_mathematics)."
   ]
  },
  {
   "cell_type": "markdown",
   "metadata": {},
   "source": [
    "In this activity, you will compute a few initial Fibonacci primes, while reviewing some python  features along the way, such as \n",
    "generator expressions, `yield`, `next`, `filter`, `all`, line magics, modules, and test functions. Packages we shall come across  include `memory_profiler`, `primesieve`, and `pytest`."
   ]
  },
  {
   "cell_type": "markdown",
   "metadata": {},
   "source": [
    "## Generator expressions"
   ]
  },
  {
   "cell_type": "markdown",
   "metadata": {},
   "source": [
    "Representing sequences is one of the elementary tasks any programming language should be able to do well. Python lists can certainly be used for this. For example, the following list comprehension gives elements of the sequence \n",
    "$$\n",
    "n^i,  \\qquad n = 0, 1, 2, \\ldots, N-1\n",
    "$$\n",
    "succinctly:"
   ]
  },
  {
   "cell_type": "code",
   "execution_count": null,
   "metadata": {},
   "outputs": [],
   "source": [
    "i=2; N=10\n",
    "\n",
    "L = [n**i for n in range(1, N)]"
   ]
  },
  {
   "cell_type": "markdown",
   "metadata": {},
   "source": [
    "If you *change the brackets to parentheses*, then instead of a list comprehension, you get a  different object called *generator expression*."
   ]
  },
  {
   "cell_type": "code",
   "execution_count": null,
   "metadata": {},
   "outputs": [],
   "source": [
    "G = (n**i for n in range(1, N))"
   ]
  },
  {
   "cell_type": "markdown",
   "metadata": {},
   "source": [
    "Both `L` and `G` are examples of **iterators**, an abstraction of a sequence of things with the ability to tell, given an element, what is the *next* element of the sequence.  Since both `L` and `G` are iterators, you will generally not see a difference in the results if you run a loop to print their values, or if you use them within a list comprehension."
   ]
  },
  {
   "cell_type": "code",
   "execution_count": null,
   "metadata": {
    "scrolled": false
   },
   "outputs": [],
   "source": [
    "[l for l in L]"
   ]
  },
  {
   "cell_type": "code",
   "execution_count": null,
   "metadata": {},
   "outputs": [],
   "source": [
    "[g for g in G]"
   ]
  },
  {
   "cell_type": "markdown",
   "metadata": {},
   "source": [
    "However, if you run the last statement again, what happens? "
   ]
  },
  {
   "cell_type": "code",
   "execution_count": null,
   "metadata": {},
   "outputs": [],
   "source": [
    "[g for g in G]"
   ]
  },
  {
   "cell_type": "markdown",
   "metadata": {},
   "source": [
    "The difference between the generator expression `G` and the list  `L` is that a generator expression does not actually compute the values until they are needed. Once an element of the sequence is computed, the next time, the generator can only compute the next element in the sequence. If the end of a finite sequence was already reached in a previous use of the generator, then there are no more elements of the sequence to compute. This is why we got the empty output above."
   ]
  },
  {
   "cell_type": "markdown",
   "metadata": {},
   "source": [
    "## Generator functions"
   ]
  },
  {
   "cell_type": "markdown",
   "metadata": {},
   "source": [
    "Just as list comprehensions can be viewed as  abbreviations of  loops,   generator expressions can  also be viewed so using the  `yield` statement. The statement \n",
    "\n",
    "```py\n",
    "G = (n**i for n in range(1, N))\n",
    "```\n",
    "is an abbreviation of the following function with a loop where you find `yield` in the location where you might have expected a `return` statement. "
   ]
  },
  {
   "cell_type": "code",
   "execution_count": null,
   "metadata": {},
   "outputs": [],
   "source": [
    "def GG():\n",
    "    for n in range(1, N):\n",
    "        yield n**i"
   ]
  },
  {
   "cell_type": "code",
   "execution_count": null,
   "metadata": {},
   "outputs": [],
   "source": [
    "G2 = GG()\n",
    "print(*G2)  # see that you get the same values as before"
   ]
  },
  {
   "cell_type": "markdown",
   "metadata": {},
   "source": [
    "The `yield` statement tells python that this function does not just return a value, but rather a value that is an element of a sequence, or an *iterator*. Internally,  in order for something to be an iterator in python, it must have a well-defined `__next__()` method: even though you did not explicitly define anything called `__next__` when you defined `GG`, python seeing `yield` defines one for you behind the scenes. \n",
    "\n",
    "\n",
    "Recall that [you have seen another method](03_Working_with_git.ipynb)  whose name also began with two underscores, the special `__init__` method, which allows you to construct a object using the name of the class followed by parentheses. The `__next__` method is also a \"special\" method in that it allows you to call `next` on the iterator to get its next value, like so:"
   ]
  },
  {
   "cell_type": "code",
   "execution_count": null,
   "metadata": {},
   "outputs": [],
   "source": [
    "G2 = GG()\n",
    "\n",
    "# get the first 3 values of the sequence using next: \n",
    "\n",
    "next(G2), next(G2), next(G2)"
   ]
  },
  {
   "cell_type": "code",
   "execution_count": null,
   "metadata": {},
   "outputs": [],
   "source": [
    "print(*G2)   # print the remaining values of the sequence"
   ]
  },
  {
   "cell_type": "markdown",
   "metadata": {},
   "source": [
    "As you can see, a generator \"remembers\" where it left off in a prior iteration."
   ]
  },
  {
   "cell_type": "markdown",
   "metadata": {},
   "source": [
    "## Disposable generators or reusable lists?"
   ]
  },
  {
   "cell_type": "markdown",
   "metadata": {},
   "source": [
    "It might seem that generators are dangerous disposable objects that are somehow inferior to resuable lists which have all the same properties. Here is an example that checks that thinking:"
   ]
  },
  {
   "cell_type": "code",
   "execution_count": null,
   "metadata": {},
   "outputs": [],
   "source": [
    "i = -20\n",
    "N = 10**8"
   ]
  },
  {
   "cell_type": "markdown",
   "metadata": {},
   "source": [
    "To compute the sum\n",
    "$$\n",
    "\\sum_{n=1}^{10^8} \\frac{1}{n^{20}},\n",
    "$$\n",
    "would you use the following list comprehension? \n",
    "\n",
    "```py\n",
    "sum([n**i for n in range(1, N)])\n",
    "```\n",
    "\n",
    "If you do, you would need to store the created list in memory. If you install the `memory_profiler` (just like you install any other python package), and use it as described in your [textbook](https://jakevdp.github.io/PythonDataScienceHandbook/01.07-timing-and-profiling.html), \n",
    "then you can see memory usage easily. If you don't have a GB of RAM free, be warned that running this list comprehension (mentioned above, and in the cell after next) might crash your computer."
   ]
  },
  {
   "cell_type": "code",
   "execution_count": null,
   "metadata": {},
   "outputs": [],
   "source": [
    "%load_ext memory_profiler"
   ]
  },
  {
   "cell_type": "code",
   "execution_count": null,
   "metadata": {},
   "outputs": [],
   "source": [
    "%memit sum([n**i for n in range(1, N)])"
   ]
  },
  {
   "cell_type": "markdown",
   "metadata": {},
   "source": [
    "Per official standards, memory should be reported in mebibytes (MiB), a power of two that is close to $10^3$  (\"mebi\" is made up of words \"mega\" and \"binary\"), although the commerical world continues to use 10-based MB, GB, etc. The \"increment\" reported in the above output in MiB is the difference between the peak memory and the memory used just before `memit` was called: that gives the memory used by the statement."
   ]
  },
  {
   "cell_type": "markdown",
   "metadata": {},
   "source": [
    "Clearly we should not need so much memory for such a simple task.  A better solution is offered by the generator expression. It   has no memory issues since it doesn't store  all the elements of the sequence at once. Moreover, we can decide to stop iterating when  the numbers in the sequence  get  below machine precision, thus getting to the sum  faster."
   ]
  },
  {
   "cell_type": "code",
   "execution_count": null,
   "metadata": {},
   "outputs": [],
   "source": [
    "G3 = (n**i for n in range(1, N)) \n",
    "\n",
    "s = 0\n",
    "\n",
    "for g in G3: \n",
    "    s += g\n",
    "    if g < 1e-15:\n",
    "        break\n",
    "\n",
    "print(s)"
   ]
  },
  {
   "cell_type": "markdown",
   "metadata": {},
   "source": [
    "## Infinite sequences"
   ]
  },
  {
   "cell_type": "markdown",
   "metadata": {},
   "source": [
    "By now you are wondering, if we can work with a sequence of $10^8$ entries, then why can we not work with an infinite sequence. Yes, python makes it easy for you to make an infinite sequence construct:"
   ]
  },
  {
   "cell_type": "code",
   "execution_count": null,
   "metadata": {
    "code_folding": []
   },
   "outputs": [],
   "source": [
    "def natural_numbers():\n",
    "    n = 0 \n",
    "    while True:\n",
    "        yield n\n",
    "        n += 1 "
   ]
  },
  {
   "cell_type": "code",
   "execution_count": null,
   "metadata": {},
   "outputs": [],
   "source": [
    "for n in natural_numbers():\n",
    "    print(n)\n",
    "    if n >= 5:  break   # don't go into infinite loop!"
   ]
  },
  {
   "cell_type": "markdown",
   "metadata": {},
   "source": [
    "In fact the function [`count`](https://docs.python.org/3.8/library/itertools.html#itertools.count)  in module `itertools` does just this. Python does assume that you are smart enough to use these without sending yourself into infinite loops. If you want to stay safe, then avoid using `while True`, replacing it with `while n < max` where `max` is some maximum number, a sentinel, that you never plan to exceed. "
   ]
  },
  {
   "cell_type": "markdown",
   "metadata": {},
   "source": [
    "## Fibonacci generator"
   ]
  },
  {
   "cell_type": "markdown",
   "metadata": {},
   "source": [
    "To generate $F_n$ satisfying \n",
    "$$\n",
    "F_0= 0,\\; F_1 =1, \\quad \\forall n>1:  F_n = F_{n-1} + F_{n-2},\n",
    "$$\n",
    "we use a generator that keeps in memory two prior elements of the sequence, as follows."
   ]
  },
  {
   "cell_type": "code",
   "execution_count": null,
   "metadata": {
    "code_folding": []
   },
   "outputs": [],
   "source": [
    "def fibonacci(max):\n",
    "    f, fnext = 0, 1\n",
    "    while f < max: \n",
    "        yield f\n",
    "        f, fnext = fnext, f + fnext"
   ]
  },
  {
   "cell_type": "code",
   "execution_count": null,
   "metadata": {},
   "outputs": [],
   "source": [
    "Fn = fibonacci(10000)\n",
    "print(*Fn)"
   ]
  },
  {
   "cell_type": "markdown",
   "metadata": {},
   "source": [
    "## Prime number generator"
   ]
  },
  {
   "cell_type": "markdown",
   "metadata": {},
   "source": [
    "Let's make  a generator for the infinite prime number sequence. This classic example is beautifully discussed in \n",
    "[[JV-H]](https://jakevdp.github.io/WhirlwindTourOfPython/12-generators.html), which I suggest you read, if you have not already. Here is a standard method to generate the set $P$ of all primes less than some $N$. Suppose at any stage of the generator algorithm,  a subset $P = \\{ 2, 3, \\ldots, q\\}$ of primes up to and including $q$ have been found. The prime number generator should find the next prime number by checking if any element of $P$ divides $n$ for a number $n$ greater than $q$: if the remainder in the division of $n$ by $p$ is nonzero for all $p \\in P$, then $n$ is the next prime.\n"
   ]
  },
  {
   "cell_type": "markdown",
   "metadata": {},
   "source": [
    "\n",
    "\n",
    "For example, at some stage, suppose  $P$ is this:"
   ]
  },
  {
   "cell_type": "code",
   "execution_count": null,
   "metadata": {},
   "outputs": [],
   "source": [
    "P = [2, 3]"
   ]
  },
  {
   "cell_type": "markdown",
   "metadata": {},
   "source": [
    "Then, the next number $n=4$ has remainders $4\\%p$ given by "
   ]
  },
  {
   "cell_type": "code",
   "execution_count": null,
   "metadata": {},
   "outputs": [],
   "source": [
    "[4 % p for p in P]"
   ]
  },
  {
   "cell_type": "markdown",
   "metadata": {},
   "source": [
    "Clearly not `all` of the remainders are nonzero:"
   ]
  },
  {
   "cell_type": "code",
   "execution_count": null,
   "metadata": {},
   "outputs": [],
   "source": [
    "all([4 % p for p in P])"
   ]
  },
  {
   "cell_type": "markdown",
   "metadata": {},
   "source": [
    "Hence the generator would conclude that the number $4$ is not a prime, and proceed to the next case $n=5$, which it would conclude  is a prime because: "
   ]
  },
  {
   "cell_type": "code",
   "execution_count": null,
   "metadata": {},
   "outputs": [],
   "source": [
    "all([5 % p for p in P])"
   ]
  },
  {
   "cell_type": "markdown",
   "metadata": {},
   "source": [
    "This is implemented below."
   ]
  },
  {
   "cell_type": "code",
   "execution_count": null,
   "metadata": {
    "code_folding": []
   },
   "outputs": [],
   "source": [
    "def prime_numbers(N):\n",
    "    primes = []\n",
    "    q = 1\n",
    "    for n in range(q+1, N):\n",
    "        if all(n % p > 0 for p in primes):\n",
    "            primes.append(n)\n",
    "            q = n\n",
    "            yield n            "
   ]
  },
  {
   "cell_type": "code",
   "execution_count": null,
   "metadata": {},
   "outputs": [],
   "source": [
    "list(prime_numbers(70))"
   ]
  },
  {
   "cell_type": "markdown",
   "metadata": {},
   "source": [
    "## First few Fibonacci primes"
   ]
  },
  {
   "cell_type": "markdown",
   "metadata": {},
   "source": [
    "Now we can generate all primes less than any number $N$ and all Fibonacci numbers less than $N$. Listing Fibonacci primes less than $N$ then becomes possible by simply intersecting the two sets. Python does have a `set` data structure which comes with a handy intersection method, so the code is trivial:"
   ]
  },
  {
   "cell_type": "code",
   "execution_count": null,
   "metadata": {},
   "outputs": [],
   "source": [
    "def fibonacci_primes(N):\n",
    "    F = set(fibonacci(N))\n",
    "    P = set(prime_numbers(N))\n",
    "    print('Intersecting', len(P), 'primes with', len(F), 'fibonaccis.')\n",
    "    return P.intersection(F)\n",
    "fibonacci_primes(100000)"
   ]
  },
  {
   "cell_type": "markdown",
   "metadata": {},
   "source": [
    "## Verification"
   ]
  },
  {
   "cell_type": "markdown",
   "metadata": {},
   "source": [
    "Verification refers to the process of cross checking that a program behaves as expected in a few chosen cases. It is the developer's responsibility to ensure that a code is correct. Part of this responsibility involves  designing and adding **test functions** that verify that the code produces the correct output in a few cases where correct output is known. Complex codebases with multiple files often have a suite of test functions. After a development team member changes one file, if the test suite does not pass all tests, it is a sign that the change has broken the code functionality due to some unanticipated  repercussions of the change in other parts of the code."
   ]
  },
  {
   "cell_type": "markdown",
   "metadata": {},
   "source": [
    "How do you know that the result of your `fibonacci_primes` is correct? We could design checks, say by verifying that our prime number routine is correct for the first few primes, plus a similar check for Fibonacci numbers. Or, we could look up the known Fibonacci prime numbers and see if we have got the first few correctly. Design of such tests is the process of verification. While there no standard method for it, one  often used principle is to *code with all cases in mind and test using known cases.*"
   ]
  },
  {
   "cell_type": "markdown",
   "metadata": {},
   "source": [
    "Let us use the Online Encylopedia of Integer Sequences (OEIS) which reports the currently known *values of $n$* for which $F_n$ is prime. It is listed there as   [sequence A001605](https://oeis.org/A001605). Here are the first 10 elements of this sequence:"
   ]
  },
  {
   "cell_type": "code",
   "execution_count": null,
   "metadata": {},
   "outputs": [],
   "source": [
    "nFP = [3, 4, 5, 7, 11, 13, 17, 23, 29, 43]"
   ]
  },
  {
   "cell_type": "markdown",
   "metadata": {},
   "source": [
    "Based on this we can write a *test function.* A test function has a name that begins with `test` and does not take any argument. In the test function below you see the statement of the form `assert Proposition, Error `, which will  raise an `AssertionError` and print `Error` if `Proposition` evaluates to `False` (and if `True`, then assert lets execution continues to the next line). The test checks if our list of initial Fibonacci primes coincides with the one implied by `nFP` above."
   ]
  },
  {
   "cell_type": "code",
   "execution_count": null,
   "metadata": {},
   "outputs": [],
   "source": [
    "def test_fibonacci_prime():\n",
    "    N = 10000\n",
    "    F = list(fibonacci(N))\n",
    "    nFP = [3, 4, 5, 7, 11, 13, 17, 23, 29, 43]\n",
    "    \n",
    "    our_list = fibonacci_primes(N)\n",
    "    known_list = set([F[n] for n in nFP if n < len(F)])\n",
    "    \n",
    "    assert len(known_list.difference(our_list))==0, 'We have a bug!'\n",
    "    print('Passed test!')"
   ]
  },
  {
   "cell_type": "code",
   "execution_count": null,
   "metadata": {},
   "outputs": [],
   "source": [
    "test_fibonacci_prime()"
   ]
  },
  {
   "cell_type": "markdown",
   "metadata": {},
   "source": [
    "One of the python  modules that facilitates  automated testing in python codes\n",
    "is the [`pytest` module](https://docs.pytest.org/en/latest/index.html#). If you run `pytest` within a folder (directory),  it will run all test functions it finds in  all files of the form `test_*.py` or `*_test.py` in the current directory and its subdirectories. Please install `pytest` in the usual way you install any other python package. \n",
    "\n",
    "\n",
    "To illustrate its use, let us make up a simple project structure as follows. This also serves as your introduction to **modules** in python. Please create a folder `fibonacci_primes` and files `my_simple_primes.py`, `fibonacci.py` and `test_fibonacci_primes.py` within the folder as shown below:\n",
    "\n",
    "```\n",
    "fibonacci_primes        <- create this folder within ../pyfiles\n",
    " ├── fibonacci.py         <- define fibonacci & fibonacci_primes functions here\n",
    " ├── my_simple_primes.py     <- copy prime_numbers function definition here \n",
    " └── test_fibonacci_primes.py   <- copy test_fibonacci_prime function here\n",
    "```\n",
    "\n",
    "Individual files may be thought of as [python modules](https://docs.python.org/3/tutorial/modules.html) and you can import from them the way you have been importing from external packages. Since `fibonacci.py` uses `prime_numbers` which is now in a different file `my_simple_primes.py`, you should add \n",
    "the line \n",
    "```py\n",
    "    from my_simple_primes import prime_numbers\n",
    "```\n",
    "at the top of `fibonacci.py`. Additionally, since `test_fibonacci_primes.py` uses the functions  `fibonacci` and `fibonacci_primes`, in order for the test function to find these function definitions, you should include the line \n",
    "```py\n",
    "    from fibonacci import fibonacci, fibonacci_primes\n",
    "```\n",
    "at the top of `test_fibonacci_primes.py`.\n"
   ]
  },
  {
   "cell_type": "markdown",
   "metadata": {},
   "source": [
    "Now you have a project called `fibonacci_primes` on which you can apply automated testing programs like `pytest`. Here is how you do that. Note that  a test function *will run silently*  if all tests pass (without printing any outputs). "
   ]
  },
  {
   "cell_type": "code",
   "execution_count": null,
   "metadata": {},
   "outputs": [],
   "source": [
    "!pytest ../pyfiles/fibonacci_primes"
   ]
  },
  {
   "cell_type": "markdown",
   "metadata": {},
   "source": [
    "To see how the output would be like if a test fails, you might want to run this again after deliberately creating a bug:  for example,  set the initializer for Fibonacci recurrence to 2 instead of 1 in the file `fibonacci.py` and then return to run the above pytest to see what happens.\n",
    "\n"
   ]
  },
  {
   "cell_type": "markdown",
   "metadata": {},
   "source": [
    "## There must be a module for it!"
   ]
  },
  {
   "cell_type": "markdown",
   "metadata": {},
   "source": [
    "While coding up the prime number generator, did you  get that nagging question in your mind, the one that we all   get when coding up a basic algorithmic task in python? *May be there is already a module for this?* \n",
    "\n",
    "Yes, indeed, the few lines we implemented above to get the prime numbers actually form an ancient algorithm, called the Sieve of Eratosthenes, which is implemented in many places. An example is a python binding for a C library called [`primesieve`](https://github.com/kimwalisch/primesieve-python). (You might need to install python-primesieve and primesieve depending on your system.)  After you install it, the following two lines will give you the same prime number list."
   ]
  },
  {
   "cell_type": "code",
   "execution_count": null,
   "metadata": {},
   "outputs": [],
   "source": [
    "from primesieve import primes    # do after you have installed primesieve\n",
    "list(primes(70))"
   ]
  },
  {
   "cell_type": "markdown",
   "metadata": {},
   "source": [
    "This package is many times faster than our simple code with a python loop above, as you can verify using another `%magic`. Recall that iPython/Jupyter facilties like `%timeit` and `%memit` are called line magics. You can read more about line and cell magics in your [textbook](https://jakevdp.github.io/PythonDataScienceHandbook/01.03-magic-commands.html)."
   ]
  },
  {
   "cell_type": "code",
   "execution_count": null,
   "metadata": {},
   "outputs": [],
   "source": [
    "%timeit primes(1000)"
   ]
  },
  {
   "cell_type": "code",
   "execution_count": null,
   "metadata": {},
   "outputs": [],
   "source": [
    "%timeit list(prime_numbers(1000))"
   ]
  },
  {
   "cell_type": "markdown",
   "metadata": {},
   "source": [
    "## The Fibonaccis among primes (or vice versa)?"
   ]
  },
  {
   "cell_type": "markdown",
   "metadata": {},
   "source": [
    "Finding bigger and bigger primes is kind of like finding rare bit coins.  Indeed, the difficulty of factoring the product of two large prime numbers is the basis of several encryption techniques.  There is a  world-wide effort to find more and more primes. For example, [GIMPS](https://www.mersenne.org), the Great Internet Mersenne Prime Search, discovered  the largest (currently) known prime number, $2^{82,589,933}-1$, having 24,862,048 digits (on December 7, 2018, using a  computer in  Ocala, Florida, whose owner decided to download the free GIMPS software to stress test his computer)."
   ]
  },
  {
   "cell_type": "markdown",
   "metadata": {},
   "source": [
    "Our simple function `fibonacci_primes`  was not designed to go above a finite maximal `N`, so of course, it can make no contribution to answering the unsolved question on finiteness of the set of Fibonacci primes. To write a code to find larger and larger Fibonacci primes, one might consider two options:\n",
    "\n",
    "1. Look for prime numbers within the set of Fibonacci numbers.\n",
    "\n",
    "OR \n",
    "\n",
    "2. Look for Fibonacci numbers within the set of prime numbers.\n",
    "\n",
    "The few Fibonacci numbers we saw above looked quite sparse so Option 1 might look good, but it  would require us to test whether a number is prime or not, which as we saw involves quite a bit of    effort as the numbers get larger.\n",
    "\n",
    "Option 2 could work as a good strategy, especially when more and more primes are discovered, provided we know how to test if a number is in the Fibonacci sequence. Using some completely elementary mathematics (and without having to use any fancy theorems you haven't yet studied)  you can prove that \n",
    "\n",
    "$$\n",
    "\\text{$F$ is a Fibonacci number} \\iff\n",
    "\\text{$5F^2+4$ or $5F^2 - 4$ is a perfect square.}\n",
    "$$\n",
    "\n",
    "But be warned that proving this is not a 5-minute exercise; if you can do it in 5 minutes, I'd love to hear!\n",
    "\n",
    "Let's close by implementing an amateurish, but very simple check for a number to be a perfect square using `math.sqrt` and let's use it together with `primesieve` to get a Fibonacci prime. "
   ]
  },
  {
   "cell_type": "code",
   "execution_count": null,
   "metadata": {},
   "outputs": [],
   "source": [
    "import primesieve, math\n",
    "\n",
    "def is_square(n):\n",
    "    s = int(math.sqrt(n))\n",
    "    return s*s == n\n",
    "\n",
    "it = primesieve.Iterator()\n",
    "it.skipto(2**28-1)\n",
    "p = it.next_prime()\n",
    "\n",
    "while p < 2**30-1:\n",
    "    if is_square(5*p*p+4) or is_square(5*p*p-4):\n",
    "        print('¡¡ Got one !! ', p, 'is a Fibonacci prime!')\n",
    "    p = it.next_prime()"
   ]
  },
  {
   "cell_type": "markdown",
   "metadata": {},
   "source": [
    "Do feel free to experiment increasing the `2**30` limit above. But may be it is now time to manage your expectations a bit. A few decades ago, $2^{31}-1$ was the largest integer representable on most computers. Now that 64-bit computing is common,  we can go up to $2^{63} -1$ (and a bit more with unsigned integers). To go beyond, not only will we need  much faster programs, but also specialized software to represent larger integers and do arithmetic with them. "
   ]
  },
  {
   "cell_type": "markdown",
   "metadata": {},
   "source": [
    "\n",
    "\n",
    "\n",
    "<hr>\n",
    "\n",
    "\n",
    "\n",
    "\n",
    "<span style=\"color:rgb(106,127,16); font-size:8pt\">These materials were created by</span> [<span style=\"color:rgb(106,127,16); font-size:8pt\">Jay Gopalakrishnan</span>](http://web.pdx.edu/~gjay/) <span style=\"color:rgb(106,127,16); font-size:8pt\">for a sophomore course (MTH 271) offered during the Spring 2020 quarter at Portland State University, and are made available under the</span> [<span style=\"color:rgb(106,127,16) ; font-size:8pt\">CC-BY-SA license</span>](https://creativecommons.org/licenses/by-sa/4.0/legalcode).\n",
    " \n",
    "\n",
    "\n",
    "\n"
   ]
  }
 ],
 "metadata": {
  "kernelspec": {
   "display_name": "Python 3",
   "language": "python",
   "name": "python3"
  },
  "language_info": {
   "codemirror_mode": {
    "name": "ipython",
    "version": 3
   },
   "file_extension": ".py",
   "mimetype": "text/x-python",
   "name": "python",
   "nbconvert_exporter": "python",
   "pygments_lexer": "ipython3",
   "version": "3.8.0"
  }
 },
 "nbformat": 4,
 "nbformat_minor": 1
}
