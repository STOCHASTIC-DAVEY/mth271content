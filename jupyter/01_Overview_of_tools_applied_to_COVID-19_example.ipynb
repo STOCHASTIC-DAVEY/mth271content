{
 "cells": [
  {
   "cell_type": "markdown",
   "metadata": {},
   "source": [
    "\n",
    "# <span style=\"color:rgb(106,127,16)\">Overview of some tools applied to COVID-19 data</span>\n",
    "\n",
    "<br>\n",
    "\n"
   ]
  },
  {
   "cell_type": "markdown",
   "metadata": {},
   "source": [
    "The purpose of this short overview is to give you a sense of the utility of some of the tools you will study later in this course and to check that you already have (or can install) some of modules we shall use later. \n",
    "\n",
    "In this demo, with a few lines of code,  we obtain and visualize data on our most pressing current issue: the progression of COVID-19 disease worldwide. The data on COVID-19 (which is changing in as yet unknown ways) will be used on several occasions as this course progresses. "
   ]
  },
  {
   "cell_type": "markdown",
   "metadata": {},
   "source": [
    "We will proceed to \n",
    "- download today's data on COVID-19 from a cloud repository,\n",
    "- make a structured array out of the data,\n",
    "- use a geospatial module to put the data on a world map, \n",
    "- download county maps from US Census Bureau, and \n",
    "- visualize the COVID-19 data restricted to Oregon.\n",
    "\n",
    "If you are new to the modules used below,  don't try to digest every element of the code here yet: again, the material here is intended just to give you an overview of the various tools we will learn in depth later.\n"
   ]
  },
  {
   "cell_type": "markdown",
   "metadata": {},
   "source": [
    "\n",
    "## The modules you need\n",
    "\n",
    "\n",
    "We have already seen how to install python modules. Make sure you have the following modules installed before proceeding. (By now, you should know how to install missing modules.)\n",
    "\n",
    "- `matplotlib` (all sorts of plotting & visualization in python)\n",
    "- `descartes` (for visualizing map objects within matplotlib)\n",
    "- `gitpython` (to work in python with Git repositories)\n",
    "- `pandas` (to make data frame structures out of raw data)\n",
    "- `geopandas` (for analysis of geospatial data)\n",
    "- `urllib` (for fetching resources at an internet url)"
   ]
  },
  {
   "cell_type": "code",
   "execution_count": null,
   "metadata": {},
   "outputs": [],
   "source": [
    "import pandas as pd\n",
    "import os\n",
    "from git import Repo\n",
    "import matplotlib.pyplot as plt\n",
    "import geopandas as gpd\n",
    "import urllib\n",
    "import shutil\n",
    "%matplotlib inline"
   ]
  },
  {
   "cell_type": "markdown",
   "metadata": {},
   "source": [
    "## Get the data "
   ]
  },
  {
   "cell_type": "markdown",
   "metadata": {},
   "source": [
    "\n",
    "The Johns Hopkins University Center for Systems Science and Engineering \n",
    "has curated data on COVID-19 from multiple sources and provided it online \n",
    "at the \"GitHub\" cloud repository   https://github.com/CSSEGISandData/COVID-19. These days, as the disease progresses, new data is being pushed into this repository every day. \n",
    "\n",
    "GitHub provides code and data in an efficient distributed version control system called `git`. We don't need to get into details here on how git does it magic. It suffices to know that git repositories in the cloud, or a remote server, can be *cloned* to \n",
    "get an identical local copy on our computers.\n",
    "\n",
    "Let us  begin by cloning a copy of the Johns Hopkins COVID-19 data repository into a location in your computer. You specify this location in your computer in the variable called `covidfolder` below. Once you have cloned the repository, the next time you run the same line of code, it does not clone it again. Instead, it pulls only the updates from the cloud."
   ]
  },
  {
   "cell_type": "code",
   "execution_count": null,
   "metadata": {},
   "outputs": [],
   "source": [
    "# your local folder into which you want to download the covid data\n",
    "\n",
    "covidfolder = '../../data_external/covid19'"
   ]
  },
  {
   "cell_type": "code",
   "execution_count": null,
   "metadata": {},
   "outputs": [],
   "source": [
    "if os.path.isdir(covidfolder):   # if repo exists, pull newest data \n",
    "    repo = Repo(covidfolder)\n",
    "    repo.remotes.origin.pull()\n",
    "else:                            # otherwise, clone from remote\n",
    "    repo = Repo.clone_from('https://github.com/CSSEGISandData/COVID-19.git',\n",
    "                           covidfolder)   \n",
    "datadir = repo.working_dir + '/csse_covid_19_data/csse_covid_19_daily_reports'"
   ]
  },
  {
   "cell_type": "markdown",
   "metadata": {},
   "source": [
    "The folder `datadir` contains many files (all of which can be listed here using the command `os.listdir(datadir)` if needed). The filenames begin with a date like `03-27-2020` and ends in `.csv`. The ending suffix `csv` stands for \"comma separated values\", a common simple format for storing uncompressed data."
   ]
  },
  {
   "cell_type": "markdown",
   "metadata": {},
   "source": [
    "## Examine the data "
   ]
  },
  {
   "cell_type": "markdown",
   "metadata": {},
   "source": [
    "\n",
    "The module `pandas` can make a `DataFrame` object out of each such `.csv` files. Let us pick a recent data and examine the data for that date."
   ]
  },
  {
   "cell_type": "code",
   "execution_count": null,
   "metadata": {},
   "outputs": [],
   "source": [
    "c = pd.read_csv(datadir+'/03-27-2020.csv')"
   ]
  },
  {
   "cell_type": "markdown",
   "metadata": {},
   "source": [
    "The `DataFrame` object `c` has over 3000 rows. An examination of the first five rows already tells us a lot about the data layout:"
   ]
  },
  {
   "cell_type": "code",
   "execution_count": null,
   "metadata": {},
   "outputs": [],
   "source": [
    "c.head()"
   ]
  },
  {
   "cell_type": "markdown",
   "metadata": {},
   "source": [
    "This object `c` looks like a structured array. Each row corresponds to a location, specified in latitude `Lat` and longitude `Long_`. The columns  \"Confirmed\", \"Deaths\", and\n",
    "\"Recovered\" represents the number of confirmed cases, deaths, and recovered cases  due to COVID-19 at that location."
   ]
  },
  {
   "cell_type": "markdown",
   "metadata": {},
   "source": [
    "## Put the data on a map"
   ]
  },
  {
   "cell_type": "markdown",
   "metadata": {},
   "source": [
    "Data like that in `c` contains geographical information. One way to visualize geospatial data is to somehow indicate the quantity of interest on a map. We shall visualize the data in the \"Confirmed\" column by positioning a marker at a geographical location and make the marker size correspond to   the number of confirmed cases at that position. The module `geopandas` (`gpd`) is well-suited for visualizing geospatial data. It is built on top of the `pandas` library. So it is easy to convert our `pandas` object `c` to a `geopandas` object.\n"
   ]
  },
  {
   "cell_type": "code",
   "execution_count": null,
   "metadata": {},
   "outputs": [],
   "source": [
    "geo = gpd.points_from_xy(c['Long_'], c['Lat']) # make a geometry object from Lat, Long\n",
    "gc = gpd.GeoDataFrame(c, geometry=geo)         # give it to geopandas together with c\n",
    "gc.head()"
   ]
  },
  {
   "cell_type": "markdown",
   "metadata": {},
   "source": [
    "The only difference between `gc` and `c` is the last column, which contains the new geometry objects representing points on the globe. Next, we place markers at these points on a map of the world. Here is how we get a simple map:  "
   ]
  },
  {
   "cell_type": "code",
   "execution_count": null,
   "metadata": {
    "scrolled": false
   },
   "outputs": [],
   "source": [
    "world = gpd.read_file(gpd.datasets.get_path('naturalearth_lowres'))\n",
    "world.plot();"
   ]
  },
  {
   "cell_type": "markdown",
   "metadata": {},
   "source": [
    "On top of such a map, we can now put the markers whose size  is proportional to the number of confirmed cases. "
   ]
  },
  {
   "cell_type": "code",
   "execution_count": null,
   "metadata": {},
   "outputs": [],
   "source": [
    "base = world.plot(alpha=0.3)\n",
    "msz = 500 * gc['Confirmed'] / gc['Confirmed'].max()\n",
    "gc.plot(ax=base, column='Confirmed', markersize=msz, alpha=0.7); "
   ]
  },
  {
   "cell_type": "markdown",
   "metadata": {},
   "source": [
    "## Restricting to Oregon"
   ]
  },
  {
   "cell_type": "markdown",
   "metadata": {},
   "source": [
    "Restricting the COVID-19 data in `c` to Oregon is very easy:"
   ]
  },
  {
   "cell_type": "code",
   "execution_count": null,
   "metadata": {},
   "outputs": [],
   "source": [
    "co = c[c['Province_State']=='Oregon']"
   ]
  },
  {
   "cell_type": "markdown",
   "metadata": {},
   "source": [
    "However, to visualize this, we need a map of Oregon. \n",
    "\n",
    "\n",
    "Unfortunately, `geopandas` does not appear to carry  any \n",
    "information about Oregon and its counties.\n",
    "However this information is available from the [United States Census Bureau](https://www.census.gov/).  (By the way, the 2020 census is happening now! Do not forget to respond to their survey. They are one of our authoritative sources of quality data.) \n",
    "\n",
    "To extract the COVID-19 information for Oregon and visualize it on a map of Oregon, we need to get the county boundary information from the census bureau.  This situation illustrates a common situation that arises when trying to analyze data: it is often necessary to procure and merge data from  multiple sources in order to \n",
    " understand a data set.\n",
    " \n",
    " \n",
    "A quick google search reveals the census page with county information. The information is now in an  online file `cb_2018_us_county_500k.zip`, not in a git repository as before. \n",
    "Let us download this file, without leaving this notebook using python's `urllib` module."
   ]
  },
  {
   "cell_type": "code",
   "execution_count": null,
   "metadata": {},
   "outputs": [],
   "source": [
    "# url of the data\n",
    "census_url = 'https://www2.census.gov/geo/tiger/GENZ2018/shp/cb_2018_us_county_500k.zip'\n",
    "\n",
    "# location of your download\n",
    "your_download_folder = '../../data_external'\n",
    "if not os.path.isdir(your_download_folder):\n",
    "    os.mkdir(your_download_folder)\n",
    "us_county_file = your_download_folder + '/cb_2018_us_county_500k.zip'\n",
    "\n",
    "# download if the file doesn't already exist \n",
    "if not os.path.isfile(us_county_file):\n",
    "    with urllib.request.urlopen(census_url) as response, open(us_county_file, 'wb') as out_file:\n",
    "        shutil.copyfileobj(response, out_file)"
   ]
  },
  {
   "cell_type": "markdown",
   "metadata": {},
   "source": [
    "Now, your local computer has a zip file,  which has among its contents, files with geometry information on the county boundaries, which can be read by `geopandas`.\n",
    "We let `geopandas` directly read in the zip file (as suggested in [[DN]](http://blog.danwin.com/census-places-cartodb-geopandas-mapping/)) as it seems to know which information to extract from the zip archive to make a data frame with geometry. "
   ]
  },
  {
   "cell_type": "code",
   "execution_count": null,
   "metadata": {},
   "outputs": [],
   "source": [
    "us_counties = gpd.read_file(f\"zip://{us_county_file}\")\n",
    "us_counties.head()"
   ]
  },
  {
   "cell_type": "markdown",
   "metadata": {},
   "source": [
    "The object `us_counties`  has information about all the counties. Now, we need to restrict this data to just that of Oregon.  Looking at the columns, we find something called STATEFP.  Searching through the [government pages](https://www.census.gov/programs-surveys/geography/technical-documentation/records-layout/nlt-record-layouts.html), we find that  STATEFP refers to a 2-character state FIPS code. \n",
    "The FIPS code refers to [Federal Information Processing Standard](https://en.wikipedia.org/wiki/FIPS_county_code)\n",
    "which was a \"standard\" at one time, then deemed obsolete, but still continues to be used today. Anyway, suffices to say that it is easy to find that Oregon's FIPS code is 41. Once we know this, python makes it is easy to restrict the data to Oregon: "
   ]
  },
  {
   "cell_type": "code",
   "execution_count": null,
   "metadata": {},
   "outputs": [],
   "source": [
    "ore = us_counties[us_counties['STATEFP']=='41']\n",
    "ore.plot();"
   ]
  },
  {
   "cell_type": "markdown",
   "metadata": {},
   "source": [
    "Now we have the Oregon  data in two data frames, `ore` and `co`. We must merge them -- a situation so often encountered when dealing with real data that there is a facility for it in `pandas` called `merge`. Both data has FIPS codes: in `ore` you find it under column GEOID, and in `co` you find it called `FIPS`. The merged data frame is `orco` below:"
   ]
  },
  {
   "cell_type": "code",
   "execution_count": null,
   "metadata": {},
   "outputs": [],
   "source": [
    "ore = ore.astype({'GEOID': 'int64'}).rename(columns={'GEOID' : 'FIPS'})\n",
    "co = co.astype({'FIPS': 'int64'})\n",
    "orco = pd.merge(ore, co.iloc[:,:-1], on='FIPS')"
   ]
  },
  {
   "cell_type": "markdown",
   "metadata": {},
   "source": [
    "The `orco` object now has both the geometry information as well as the COVID-19 information, making it extremely easy to visualize."
   ]
  },
  {
   "cell_type": "code",
   "execution_count": null,
   "metadata": {},
   "outputs": [],
   "source": [
    "# plot coloring counties by number of confirmed cases\n",
    "\n",
    "fig, ax = plt.subplots(figsize=(15, 12))\n",
    "orco.plot(ax=ax, column='Confirmed', legend=True, \n",
    "          legend_kwds={'label': '# confimed cases', 'orientation':'horizontal'})\n",
    "\n",
    "# label the counties \n",
    "\n",
    "for x, y, county in zip(orco['Long_'], orco['Lat'], orco['NAME']):\n",
    "    ax.text(x, y, county, color='grey')"
   ]
  },
  {
   "cell_type": "markdown",
   "metadata": {},
   "source": [
    "This is an example of a [chloropleth map](https://en.wikipedia.org/wiki/Choropleth_map),   a map where regions are colored or shaded in proportion to some data variable. It is an often-used data visualization tool. "
   ]
  },
  {
   "cell_type": "markdown",
   "metadata": {},
   "source": [
    "## Many more things you can do "
   ]
  },
  {
   "cell_type": "markdown",
   "metadata": {},
   "source": [
    "Different ways of displaying data often give different insights. You might have specific  queries whose answers already lie in the data we have downloaded. Let me show you answers I extracted to two questions I had. How I produced these answers should be treated as an assignment once we have covered the `pandas` module.\n",
    "\n",
    "1. *Question:* How does Oregon compare currently with the other two west coast states? \n",
    "   \n",
    "   *Answer:*\n",
    "    <img src=\"../figs/westcoast-2020-03-30.png\">\n",
    "\n",
    "2.  *Question:* How does the progression of infections in New York compare with Hubei where the disease started? \n",
    "    \n",
    "    *Answer:*\n",
    "    <img src=\"../figs/newyork-hubei-2020-03-30.png\">\n",
    "\n",
    "\n",
    "Of course, the COVID-19 situation is evolving, so these figures,  created for delivery in our March 31 class, is immediately outdated. This situation is evolving in as yet unknown ways.  I am sure that  you, like me,  want to know more about how these plots will change in the next few months.   As the course proceeds and you amass more technical skills, I encourage you to answer your own questions on COVID-19 by returning to this overview, pulling the most recent data, and modifying the code above to your needs. "
   ]
  },
  {
   "cell_type": "markdown",
   "metadata": {},
   "source": [
    " \n",
    "<hr>\n",
    "\n",
    "\n",
    "\n",
    "\n",
    "<span style=\"color:rgb(106,127,16); font-size:8pt\">These materials were created by</span> [<span style=\"color:rgb(106,127,16); font-size:8pt\">Jay Gopalakrishnan</span>](http://web.pdx.edu/~gjay/) <span style=\"color:rgb(106,127,16); font-size:8pt\">for a sophomore course (MTH 271) offered during the Spring 2020 quarter at Portland State University, and are made available under the</span> [<span style=\"color:rgb(106,127,16) ; font-size:8pt\">CC-BY-SA license</span>](https://creativecommons.org/licenses/by-sa/4.0/legalcode).\n",
    " "
   ]
  }
 ],
 "metadata": {
  "kernelspec": {
   "display_name": "Python 3",
   "language": "python",
   "name": "python3"
  },
  "language_info": {
   "codemirror_mode": {
    "name": "ipython",
    "version": 3
   },
   "file_extension": ".py",
   "mimetype": "text/x-python",
   "name": "python",
   "nbconvert_exporter": "python",
   "pygments_lexer": "ipython3",
   "version": "3.8.0"
  }
 },
 "nbformat": 4,
 "nbformat_minor": 2
}
