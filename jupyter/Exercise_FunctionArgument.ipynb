{
 "cells": [
  {
   "cell_type": "markdown",
   "metadata": {},
   "source": [
    "___\n",
    "\n",
    "\n",
    "# Exercise: Passing function arguments\n",
    "___\n",
    "\n",
    "\n",
    "\n",
    "When programming mathematical algorithms, it is important to know if unnecessary copying is being done by your program.  Copying large matrices is expensive.  Consider this simple function, where `w` could be a matrix or a vector or a list or a string etc."
   ]
  },
  {
   "cell_type": "code",
   "execution_count": 1,
   "metadata": {},
   "outputs": [],
   "source": [
    "def twice(w):\n",
    "    \"\"\"Replace w by 2*w\"\"\"\n",
    "    w *= 2"
   ]
  },
  {
   "cell_type": "markdown",
   "metadata": {},
   "source": [
    "Imagine a scenario where you make an object `v` and then send it to this function, like in this example:"
   ]
  },
  {
   "cell_type": "code",
   "execution_count": 2,
   "metadata": {},
   "outputs": [],
   "source": [
    "v = [2, 5, 1]\n",
    "twice(v)"
   ]
  },
  {
   "cell_type": "markdown",
   "metadata": {},
   "source": [
    "**Task:** Your task is to determine if `v` is being copied when you  call `twice(v)` for some `v`. In other words, is a deep copy of `v` being implicitly made by python when you send `v` as an argument to `twice`?  Answer this for at least two cases:\n",
    "\n",
    "- `v` is a numpy array \n",
    "- `v` is a string\n",
    "\n",
    "Explain your observations. "
   ]
  }
 ],
 "metadata": {
  "kernelspec": {
   "display_name": "Python 3",
   "language": "python",
   "name": "python3"
  },
  "language_info": {
   "codemirror_mode": {
    "name": "ipython",
    "version": 3
   },
   "file_extension": ".py",
   "mimetype": "text/x-python",
   "name": "python",
   "nbconvert_exporter": "python",
   "pygments_lexer": "ipython3",
   "version": "3.8.0"
  }
 },
 "nbformat": 4,
 "nbformat_minor": 2
}
