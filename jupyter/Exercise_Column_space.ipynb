{
 "cells": [
  {
   "cell_type": "markdown",
   "metadata": {},
   "source": [
    "___\n",
    "\n",
    "\n",
    "# Exercise: Column space"
   ]
  },
  {
   "cell_type": "markdown",
   "metadata": {},
   "source": [
    "**Task 1:** You have seen that the SVD  of an $m \\times n$ matrix $A$  gives, among other things,  a basis for the range (column space). Compute this for the given matrix.\n",
    "\n",
    "Another way to obtain a basis for the range is using the QR factorization, also implemented in [scipy](https://docs.scipy.org/doc/scipy/reference/generated/scipy.linalg.qr.html#scipy.linalg). Carefully go through the linked QR documentation page. Then compute a basis for the  column space of a given A using QR, and then using the SVD.\n",
    "\n",
    "**Task 2:** Check that the column *spaces* (not the bases) you obtained in the two ways  are the same. (How would you check that two given bases span the same space?)\n",
    "\n",
    "**Task 3:** For a $500 \\times 500$ random matrix, which method is faster? "
   ]
  },
  {
   "cell_type": "code",
   "execution_count": 96,
   "metadata": {},
   "outputs": [],
   "source": [
    "import numpy as np\n",
    "from scipy.linalg import svd, qr\n",
    "\n",
    "A = np.array([[1, -2, 3, -3], [2, -4, 9, -2], [-3, 6, -9, 9]])"
   ]
  }
 ],
 "metadata": {
  "kernelspec": {
   "display_name": "Python 3",
   "language": "python",
   "name": "python3"
  },
  "language_info": {
   "codemirror_mode": {
    "name": "ipython",
    "version": 3
   },
   "file_extension": ".py",
   "mimetype": "text/x-python",
   "name": "python",
   "nbconvert_exporter": "python",
   "pygments_lexer": "ipython3",
   "version": "3.8.0"
  }
 },
 "nbformat": 4,
 "nbformat_minor": 2
}
