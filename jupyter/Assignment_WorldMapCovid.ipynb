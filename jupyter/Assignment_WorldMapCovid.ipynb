{
 "cells": [
  {
   "cell_type": "markdown",
   "metadata": {},
   "source": [
    "---\n",
    "# Assignment: World map of COVID-19 \n",
    "\n",
    "Due May 21, 2020\n",
    "\n",
    "---\n",
    "\n",
    "## Task \n",
    "\n",
    "Your task is to make a chloropleth map visualizing COVID-19 cases worldwide. The countries of the world should be displayed in the Albers equal area projection. The number of cases in each country should be indicated by a reasonable color scale (of your choice). \n",
    "\n",
    "\n",
    "\n",
    "\n",
    "\n",
    "## Product for grading\n",
    "\n",
    "Please turn in three files for grading: \n",
    "\n",
    "1. A `.png` image file of the chloropleth map using the latest available data on the submission day.\n",
    "2. A `.py` python file (**not** jupyter notebook) which generated your `.png` image file.\n",
    "3. A `.mp4` movie file containing an animation of the choloropleth maps from 01/22/2020 through the latest date of the data and a `.py` python file that you used for creating the animation.\n",
    "\n",
    "If you scored perfectly on items (1) and (2), you will get 90% of the total points  for this assignment. Item (3) is worth the remaining 10%.\n",
    "\n",
    "## Hints\n",
    "\n",
    "- An example of a chloropleth map is in [01 Overview](01_Overview_of_tools_applied_to_COVID-19_example.ipynb). \n",
    "- We have already seen the  Albers equal area projection in [12 Visualizing geospatial data](12_VisualizingGeospatialData.ipynb). \n",
    "- For animation, use your experience from [Exercise: Animate](Exercise_Animate.ipynb).\n",
    "- Please use the Johns Hopkins data  https://github.com/CSSEGISandData/COVID-19. \n",
    "\n"
   ]
  }
 ],
 "metadata": {
  "kernelspec": {
   "display_name": "Python 3",
   "language": "python",
   "name": "python3"
  },
  "language_info": {
   "codemirror_mode": {
    "name": "ipython",
    "version": 3
   },
   "file_extension": ".py",
   "mimetype": "text/x-python",
   "name": "python",
   "nbconvert_exporter": "python",
   "pygments_lexer": "ipython3",
   "version": "3.8.0"
  }
 },
 "nbformat": 4,
 "nbformat_minor": 2
}
