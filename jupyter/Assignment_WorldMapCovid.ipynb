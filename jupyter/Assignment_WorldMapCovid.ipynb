{
 "cells": [
  {
   "cell_type": "markdown",
   "metadata": {},
   "source": [
    "---\n",
    "# Assignment: World map of COVID-19 "
   ]
  },
  {
   "cell_type": "markdown",
   "metadata": {},
   "source": [
    "**Task**\n",
    "\n",
    "Your task is to make a chloropleth map visualizing COVID-19 cases worldwide. The countries of the world should be displayed in the Albers equal area projection. The number of cases in each country should be indicated by a reasonable color scale (of your choice). "
   ]
  },
  {
   "cell_type": "markdown",
   "metadata": {},
   "source": [
    "Please submit three files:\n",
    "\n",
    "1. A `.png` image file of the chloropleth map using the latest available data on the submission day.\n",
    "2. A `.py` python file (**not** jupyter notebook) which generated your `.png` image file.\n",
    "3. A `.mp4` movie file containing an animation of the choloropleth maps from 01/22/2020 through the latest date of the data and a `.py` python file that you used for creating the animation.\n",
    "\n",
    "\n",
    "**Hints**\n",
    "\n",
    "- The last task of making the `mp4` movie file is harder than the other two. Begin with the easier tasks.\n",
    "- An example of a chloropleth map is in the [Overview lecture](01_Overview_of_tools_applied_to_COVID-19_example.ipynb). \n",
    "- We have already seen the  Albers equal area projection in the lecture [Visualizing geospatial data](12_VisualizingGeospatialData.ipynb). \n",
    "- For animation, use your experience from [the exercise on animations](Exercise_Animate.ipynb).\n",
    "- Use the [Johns Hopkins dataset](https://github.com/CSSEGISandData/COVID-19)."
   ]
  },
  {
   "cell_type": "markdown",
   "metadata": {},
   "source": [
    "An example solution with data until May 7, 2020, can be seen in the output of the next code cell if you are reading this in a jupyter notebook."
   ]
  },
  {
   "cell_type": "code",
   "execution_count": 4,
   "metadata": {},
   "outputs": [
    {
     "data": {
      "text/html": [
       "<video src=\"../figs/covidworldmapanim.mp4\" controls  >\n",
       "      Your browser does not support the <code>video</code> element.\n",
       "    </video>"
      ],
      "text/plain": [
       "<IPython.core.display.Video object>"
      ]
     },
     "execution_count": 4,
     "metadata": {},
     "output_type": "execute_result"
    }
   ],
   "source": [
    "from IPython.display import Video\n",
    "Video(\"../figs/covidworldmapanim.mp4\")"
   ]
  },
  {
   "cell_type": "markdown",
   "metadata": {},
   "source": [
    "Alternately, the same solution video can be downloaded or visualized at [this weblink.](http://web.pdx.edu/~gjay/teaching/mth271_2020/figs/covidworldmapanim.mp4)"
   ]
  }
 ],
 "metadata": {
  "kernelspec": {
   "display_name": "Python 3",
   "language": "python",
   "name": "python3"
  },
  "language_info": {
   "codemirror_mode": {
    "name": "ipython",
    "version": 3
   },
   "file_extension": ".py",
   "mimetype": "text/x-python",
   "name": "python",
   "nbconvert_exporter": "python",
   "pygments_lexer": "ipython3",
   "version": "3.8.0"
  }
 },
 "nbformat": 4,
 "nbformat_minor": 2
}
