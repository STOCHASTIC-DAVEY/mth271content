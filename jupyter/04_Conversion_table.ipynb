{
 "cells": [
  {
   "cell_type": "markdown",
   "metadata": {},
   "source": [
    "# <span style=\"color:rgb(106,127,16)\">Conversion table</span>\n",
    "\n",
    "\n",
    "<div style=\"text-align: right\"><span style=\"color:rgb(106,127,16)\">April 2, 2020 \n",
    "    </span></div>\n",
    "<br>\n",
    "\n",
    "\n",
    "<br>\n",
    "\n"
   ]
  },
  {
   "cell_type": "markdown",
   "metadata": {},
   "source": [
    "This elementary activity is intended to check and consolidate your understanding of very basic python language features.\n",
    "It  is modeled after a similar activity in [[HPL]](https://hplgit.github.io/primer.html/doc/pub/half/book.pdf) and involves a simple temperature conversion formula. You may have seen kitchen cheat sheets (or have one yourself) like the following:"
   ]
  },
  {
   "cell_type": "markdown",
   "metadata": {},
   "source": [
    "|  |Fahrenheit | Celsius|\n",
    "|:--| -- | -- |\n",
    "|cool oven | 200 F | 90 C |\n",
    "|very slow oven | 250 F | 120 C |\n",
    "|slow oven | 300-325 F | 150-160 C |\n",
    "|moderately slow oven | 325-350 F | 160-180 C |\n",
    "|moderate oven | 350-375 F | 180-190 C |\n",
    "|moderately hot oven | 375-400 F | 190-200 C |\n",
    "|hot oven | 400-450 F | 200-230 C | \n",
    "|very hot oven | 450-500 F | 230-260 C |"
   ]
  },
  {
   "cell_type": "markdown",
   "metadata": {},
   "source": [
    "This is modeled after a conversion table at the website  [Cooking conversions for Old Time Recipes](https://preparednessmama.com/old-time-cookbook-conversions/), which many found particularly useful for  translating old recipes from Europe. Of course, the \"old continent\" has already moved on to the newer, more rational, metric system, so all European recipes, old and new, are bound to have temperatures in Celsius (C). Even if recipes don't peak your interest, do know that every scientist must learn to work with the metric system."
   ]
  },
  {
   "cell_type": "markdown",
   "metadata": {},
   "source": [
    "\n",
    "\n",
    "Celsius values  can be converted to the Fahrenheit system  by the formula \n",
    "$$\n",
    "F =  \\frac 9 5 C + 32.\n",
    "$$\n",
    "The task in this activity is to print a table of F and C values per this formula. While accomplishing this task, you will recall basic python language features, like `while` loop, `for` loop,  `range`,  `print`, list and tuples,  `zip`, and  list comprehension."
   ]
  },
  {
   "cell_type": "markdown",
   "metadata": {},
   "source": [
    "## Using the `while` loop "
   ]
  },
  {
   "cell_type": "markdown",
   "metadata": {},
   "source": [
    "We start by making a table of F and C values, starting from 0 C to 250 C, using the `while` loop.\n"
   ]
  },
  {
   "cell_type": "code",
   "execution_count": null,
   "metadata": {
    "scrolled": false
   },
   "outputs": [],
   "source": [
    "print('F     C')\n",
    "\n",
    "C = 0\n",
    "while C <= 250:\n",
    "    F = 9 * C / 5 + 32\n",
    "    print(F, C)\n",
    "    C += 10"
   ]
  },
  {
   "cell_type": "markdown",
   "metadata": {},
   "source": [
    "This cell shows how to add, multiply, assign, increment, print, and run a while loop. Such basic language features  are introduced very well in the prerequisite reading for this lecture, the official python tutorial's  section titled [An informal introduction to Python](https://docs.python.org/3/tutorial/introduction.html)."
   ]
  },
  {
   "cell_type": "markdown",
   "metadata": {},
   "source": [
    "## Adjusting the printed output"
   ]
  },
  {
   "cell_type": "markdown",
   "metadata": {},
   "source": [
    "Examining the output above, we note that  it is not perfectly aligned like a printed table. Here is how we can use `print`'s features to format or align them  to our tastes."
   ]
  },
  {
   "cell_type": "markdown",
   "metadata": {},
   "source": [
    "Formatting options like `%10.3f` can be used for alignment. It's easy to describe this by an  example:\n",
    "```\n",
    "%10.3f: print 3 decimals, field width 10        \n",
    " %9.2e: print 2 decimals, field width 9, scientific notation\n",
    "```\n",
    "Type `help(print)` to recall these and other options.  Below, we use a fixed width of 4 to format F and C values. "
   ]
  },
  {
   "cell_type": "code",
   "execution_count": null,
   "metadata": {},
   "outputs": [],
   "source": [
    "print('   F   C')\n",
    "\n",
    "C = 0\n",
    "while C <= 250:\n",
    "    F = 9 * C / 5 + 32\n",
    "    print('%4.0f %4.0f' % (F, C))\n",
    "    C += 10"
   ]
  },
  {
   "cell_type": "markdown",
   "metadata": {},
   "source": [
    "## Do the same using  `for` loop\n"
   ]
  },
  {
   "cell_type": "markdown",
   "metadata": {},
   "source": [
    "In addition to the `while` loop construct, python  also has a `for` loop, which is often safer from an accidental bug sending the system into an infinite loop. Also recall the very useful `range` construct. The loop statement \n",
    "\n",
    "```\n",
    "    for i in range(4):\n",
    "```\n",
    "\n",
    "runs over `i=0,1,2,3` implicitly using `range`'s default starting value `0` and the default  stepping value `1`. For our temperature conversion task, we step by 10 degrees instead of the default value of 1:"
   ]
  },
  {
   "cell_type": "code",
   "execution_count": null,
   "metadata": {},
   "outputs": [],
   "source": [
    "print('   F   C')\n",
    "for C in range(0, 250, 10):    \n",
    "    F = 9 * C / 5 + 32\n",
    "    print('%4.0f %4.0f' % (F, C))"
   ]
  },
  {
   "cell_type": "markdown",
   "metadata": {},
   "source": [
    "## Is there a temperature whose F and C values are equal?"
   ]
  },
  {
   "cell_type": "markdown",
   "metadata": {},
   "source": [
    "As you can see from the above values, for a 10 degree increase in the C column, we see a corresponding 18 degree increase in the F column. Due to the these different rates of increase, we should see the values coincide by going to lower C values. Focusing on lower C values, let us run the `for` loop again:"
   ]
  },
  {
   "cell_type": "code",
   "execution_count": null,
   "metadata": {},
   "outputs": [],
   "source": [
    "print('   F   C')\n",
    "for C in range(-50, 50, 5):    \n",
    "    F = 9 * C / 5 + 32\n",
    "    print('%4.0f %4.0f' % (F, C))"
   ]
  },
  {
   "cell_type": "markdown",
   "metadata": {},
   "source": [
    "As you see from the output above, at $-40$ degrees, the Fahrenheit scale and the Celsius scale coincide. If you have lived in Minnesota, you probably know how $-40$ feels like, and you likely already know the fact we just discovered above (it's common for Minnesotans to throw around this tidbit while commiserating in the cold)."
   ]
  },
  {
   "cell_type": "markdown",
   "metadata": {},
   "source": [
    "## Store in a list"
   ]
  },
  {
   "cell_type": "markdown",
   "metadata": {},
   "source": [
    "If we want to use the above-printed tables later, we would have to run a loop again. Our conversion problem is so small that there is no cost to run as many loops as we like, but in many practical problems, loops contains expensive computations. So one often wants to store the quantities computed in the loop in order to reuse them later.  Lists are good constructs for this.\n"
   ]
  },
  {
   "cell_type": "markdown",
   "metadata": {},
   "source": [
    "First we should note that python has *lists* and also *tuples*. Only the former can be modified after creation. Here is an example of a list:"
   ]
  },
  {
   "cell_type": "code",
   "execution_count": null,
   "metadata": {},
   "outputs": [],
   "source": [
    "Cs = [0, 10]     # create list using []\n",
    "Cs.append(20)    # modify by appending an entry\n",
    "Cs"
   ]
  },
  {
   "cell_type": "markdown",
   "metadata": {},
   "source": [
    "And here is an example of a tuple:"
   ]
  },
  {
   "cell_type": "code",
   "execution_count": null,
   "metadata": {},
   "outputs": [],
   "source": [
    "Cs = (0, 10)     # create a tuple using ()"
   ]
  },
  {
   "cell_type": "markdown",
   "metadata": {},
   "source": [
    "You access a tuple element just like a list element, so `Cs[0]` will give the first element whether or not `Cs` is a list or a tuple. But the statement `Cs[0] = -10` that changes an element of the container will work only if `Cs` is a list. We say that a list is *mutable*, while a tuple is *immutable*. Tuples are generally faster than lists, but lists are more flexible than tuples.\n",
    "\n",
    "Here is an example of how to store the computed C and F values within a loop into lists."
   ]
  },
  {
   "cell_type": "code",
   "execution_count": null,
   "metadata": {},
   "outputs": [],
   "source": [
    "Cs = []   # empty list \n",
    "Fs = []\n",
    "\n",
    "for C in range(0, 250, 25):    \n",
    "    Cs.append(C)    \n",
    "    Fs.append(9 * C / 5 + 32)"
   ]
  },
  {
   "cell_type": "markdown",
   "metadata": {},
   "source": [
    "The lists `Cs` and `Fs` can be accessed later:"
   ]
  },
  {
   "cell_type": "code",
   "execution_count": null,
   "metadata": {},
   "outputs": [],
   "source": [
    "print(Cs)"
   ]
  },
  {
   "cell_type": "code",
   "execution_count": null,
   "metadata": {},
   "outputs": [],
   "source": [
    "print(Fs)"
   ]
  },
  {
   "cell_type": "markdown",
   "metadata": {},
   "source": [
    "This is not as pretty an output as before. But we can easily run a loop and print the stored values in any format we like. This is a good opportunity to show off a *pythonic* feature `zip` that allows you to traverse two lists *simultaneously:*"
   ]
  },
  {
   "cell_type": "code",
   "execution_count": null,
   "metadata": {},
   "outputs": [],
   "source": [
    "print('   F   C')\n",
    "for C, F in zip(Cs, Fs):\n",
    "    print('%4.0f %4.0f' % (F, C))"
   ]
  },
  {
   "cell_type": "markdown",
   "metadata": {},
   "source": [
    "## List comprehension"
   ]
  },
  {
   "cell_type": "markdown",
   "metadata": {},
   "source": [
    "An alternate and very interesting way to make lists in python is by the *list comprehension* feature. \n",
    "Codes with list comprehension read almost like English. Let's illustrate this by creating the list of F values from the existing list `Cs` of C values.\n",
    "Instead of making `Fs` in a loop as above, in a *list comprehension*, we just say that each value of the list `Fs`  is obtained applying a formula *for each `C` in a list `Cs`:*"
   ]
  },
  {
   "cell_type": "code",
   "execution_count": null,
   "metadata": {},
   "outputs": [],
   "source": [
    "Fs = [9 * C / 5 + 32   for C in Cs]"
   ]
  },
  {
   "cell_type": "markdown",
   "metadata": {},
   "source": [
    "Note how this makes for compact code without sacrificing readability: constructs like this are why your hear so much praise for python's expressiveness. For  mathematicians, the list comprehension syntax is also reminiscent of the set notation in mathematics: the set (list) $\\mathsf{Fs}$ is described in mathematical notation by \n",
    "$$\n",
    "\\mathsf{Fs} = \\left\\{ \\frac 9 5 C + 32: \\; C \\in \\mathsf{Cs}\\right\\}.\n",
    "$$\n",
    "Note how similar it is to the list comprehension code. (Feel free to check that the `Fs` computed by the above one-liner is the same as the `Fs` we computed previously within a loop.)"
   ]
  },
  {
   "cell_type": "markdown",
   "metadata": {},
   "source": [
    "\n",
    "\n",
    "<hr>\n",
    "\n",
    "<span style=\"color:rgb(106,127,16); font-size:8pt\">Author:</span> [<span style=\"color:rgb(106,127,16); font-size:8pt\">Jay Gopalakrishnan</span>](http://web.pdx.edu/~gjay/) \n",
    "<br><span style=\"color:rgb(106,127,16); font-size:8pt\">License:</span> [<span style=\"color:rgb(106,127,16) ; font-size:8pt\">&copy;2020. CC-BY-SA</span>](https://creativecommons.org/licenses/by-sa/4.0/legalcode)\n",
    "<br><span style=\"color:rgb(106,127,16) ; font-size:8pt\">$\\ll$</span>[<span style=\"color:rgb(106,127,16) ; font-size:8pt\">Table of Contents</span>](./TOC.ipynb)\n",
    "\n",
    "\n",
    "\n"
   ]
  }
 ],
 "metadata": {
  "kernelspec": {
   "display_name": "Python 3",
   "language": "python",
   "name": "python3"
  },
  "language_info": {
   "codemirror_mode": {
    "name": "ipython",
    "version": 3
   },
   "file_extension": ".py",
   "mimetype": "text/x-python",
   "name": "python",
   "nbconvert_exporter": "python",
   "pygments_lexer": "ipython3",
   "version": "3.8.0"
  }
 },
 "nbformat": 4,
 "nbformat_minor": 2
}
