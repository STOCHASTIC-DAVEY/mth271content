{
 "cells": [
  {
   "cell_type": "markdown",
   "metadata": {},
   "source": [
    "# <span style=\"color:rgb(106,127,16)\">Genome of SARS-CoV-2</span>\n",
    "\n",
    "<div style=\"text-align: right\"><span style=\"color:rgb(106,127,16)\">April 7, 2020\n",
    "    </span></div>\n",
    "\n",
    "<br>\n",
    "\n"
   ]
  },
  {
   "cell_type": "markdown",
   "metadata": {},
   "source": [
    "Since most data come in files and streams, a data scientist must be able to effectively work with them. Python provides many facilities to make this easy.  In this class activity, we will review some of python's file, string, and dictionary facilities by examining a file containing the genetic code of the virus that has been disrupting our lives this term. Here is a transmission electron micrograph showing the virus (a public domain [image from the CDC](https://phil.cdc.gov/Details.aspx?pid=23354), credited to H. A. Bullock and A. Tamin)."
   ]
  },
  {
   "cell_type": "markdown",
   "metadata": {},
   "source": [
    "![Transmission electron micrograph of SARS-CoV-2. Public domain, source: CDC (H A Bullock; A Tamin)](../figs/CDC_virus_pic_23354_lores.jpg)\n"
   ]
  },
  {
   "cell_type": "markdown",
   "metadata": {},
   "source": [
    "The genetic code of each living organism is a long sequence of simple molecules called **nucleotides** or **bases**.  Although many nucleotides exist in nature,  only 4 nucleotides,\n",
    "labeled A, C, G, and T, have been found in DNA. They are abbreviations of Adenine, Cytosine, Guanine, and Thymine. Although it is [difficult to put viruses in the category of living](https://www.scientificamerican.com/article/are-viruses-alive-2004/) organisms, they also have genetic codes made up of nucleotides. "
   ]
  },
  {
   "cell_type": "markdown",
   "metadata": {},
   "source": [
    "## Get the genome\n",
    "\n",
    "\n",
    "The NCBI (National Center for Biotechnology Information) has recently started  maintaining a [data hub](https://www.ncbi.nlm.nih.gov/genbank/sars-cov-2-seqs/) for genetic sequences related to the virus  causing COVID-19. Recall that the name of the virus is SARS-CoV-2\n",
    "(which is different from the name of the disease,  COVID-19), or \n",
    "\"Severe Acute Respiratory Syndrome Coronavirus 2\" in full.\n",
    "Searching the NCBI website with the proper virus name will help you locate  many  publicly available data sets. "
   ]
  },
  {
   "cell_type": "markdown",
   "metadata": {},
   "source": [
    "\n",
    "Let's download [NCBI's Reference Sequence NC_045512](https://www.ncbi.nlm.nih.gov/nuccore/NC_045512) giving the \n",
    "complete genome extracted from a sample of SARS-CoV-2  from the Wuhan seafood market, called the Wuhan-Hu-1 isolate. Here is a code using `urllib` that will attempt to directly download from the url specified below. It is unclear if this url would serve as a stable permanent link. In the event you have problems executing the next cell, please just head over to the [webpage for NC_045512](https://www.ncbi.nlm.nih.gov/nuccore/NC_045512), click on \"FASTA\" (a data format) and then click on \"Send to\" a file. Then save the file in the same relative location mentioned below in `f` within the folder where we have been putting all the data files in this course. "
   ]
  },
  {
   "cell_type": "code",
   "execution_count": null,
   "metadata": {},
   "outputs": [],
   "source": [
    "# NCBI  url:\n",
    "\n",
    "url = 'https://www.ncbi.nlm.nih.gov/sviewer/viewer.cgi?tool=portal&' + \\\n",
    "    'save=file&log$=seqview&db=nuccore&report=fasta&id=1798174254&' + \\\n",
    "    'extrafeat=null&conwithfeat=on&hide-cdd=on'\n",
    "\n",
    "# your local downloaded file:\n",
    "\n",
    "f = '../../data_external/SARS-CoV-2-Wuhan-NC_045512.2.fasta'"
   ]
  },
  {
   "cell_type": "code",
   "execution_count": null,
   "metadata": {},
   "outputs": [],
   "source": [
    "import os\n",
    "import urllib\n",
    "import shutil\n",
    "\n",
    "if not os.path.isdir('../../data_external/'):\n",
    "    os.mkdir('../../data_external/')\n",
    "\n",
    "r = urllib.request.urlopen(url)\n",
    "fo = open(f, 'wb')\n",
    "shutil.copyfileobj(r, fo)\n",
    "fo.close()"
   ]
  },
  {
   "cell_type": "markdown",
   "metadata": {},
   "source": [
    "As mentioned in the page [describing the data](https://www.ncbi.nlm.nih.gov/nuccore/NC_045512), this file\n",
    "gives the RNA of the virus. "
   ]
  },
  {
   "cell_type": "code",
   "execution_count": null,
   "metadata": {},
   "outputs": [],
   "source": [
    "lines = open(f, 'r').readlines()"
   ]
  },
  {
   "cell_type": "markdown",
   "metadata": {},
   "source": [
    "The file has been opened in read-only mode. The variable  `lines` contains a list of all the  lines of the file. Here are the first five lines:"
   ]
  },
  {
   "cell_type": "code",
   "execution_count": null,
   "metadata": {},
   "outputs": [],
   "source": [
    "lines[0:5]"
   ]
  },
  {
   "cell_type": "markdown",
   "metadata": {},
   "source": [
    "The first line is a description of the data. The  long genetic code  is broken up into the following lines. We need to strip end-of-line characters from each such line  to re-assemble the RNA string. Here is a way to strip off the end-of-line character:"
   ]
  },
  {
   "cell_type": "code",
   "execution_count": null,
   "metadata": {},
   "outputs": [],
   "source": [
    "lines[1].strip()"
   ]
  },
  {
   "cell_type": "markdown",
   "metadata": {},
   "source": [
    "Let's do so for every line starting ignoring the first. Since `lines` is a list object, ignoring the first element of the list is done by `lines[1:]`. (If you don't know this already, you must review the [list access constructs](https://docs.python.org/3/tutorial/introduction.html#lists).)\n",
    "The following code uses the string operation `join` to put together the lines into one long string. This is the RNA of the virus."
   ]
  },
  {
   "cell_type": "code",
   "execution_count": null,
   "metadata": {},
   "outputs": [],
   "source": [
    "rna = ''.join([line.strip() for line in lines[1:]])"
   ]
  },
  {
   "cell_type": "markdown",
   "metadata": {},
   "source": [
    "The first thousand characters and the last thousand characters of the RNA of the coronavirus are printed below:"
   ]
  },
  {
   "cell_type": "code",
   "execution_count": null,
   "metadata": {},
   "outputs": [],
   "source": [
    "rna[:1000]"
   ]
  },
  {
   "cell_type": "code",
   "execution_count": null,
   "metadata": {},
   "outputs": [],
   "source": [
    "rna[-1000:]"
   ]
  },
  {
   "cell_type": "markdown",
   "metadata": {},
   "source": [
    "Here is the total length of the RNA:"
   ]
  },
  {
   "cell_type": "code",
   "execution_count": null,
   "metadata": {},
   "outputs": [],
   "source": [
    "len(rna)"
   ]
  },
  {
   "cell_type": "markdown",
   "metadata": {},
   "source": [
    "While the human genome is over 3 billion in length, the genome of this virus does not even reach the length of 30000. "
   ]
  },
  {
   "cell_type": "markdown",
   "metadata": {},
   "source": [
    "## Finding a protein"
   ]
  },
  {
   "cell_type": "markdown",
   "metadata": {},
   "source": [
    "When describing RNA, the T (Thymine)  is often replaced by U (Uracil). This is done for example  in an  interesting [New York Times article](https://www.nytimes.com/interactive/2020/04/03/science/coronavirus-genome-bad-news-wrapped-in-protein.html) that came out last Friday. The article explains how this RNA code makes infected host cells produce a variety of proteins. Scientists have a good understanding of what some of these proteins do, but not all. \n",
    "\n",
    "\n",
    "Here is a quote from the article on a protein it nicknamed **Virus Liberator. ORF7a**\n",
    "\n",
    "```\n",
    "When new viruses try to escape a cell, the cell can snare them with\n",
    "proteins called tetherin. Some research suggests that ORF7a cuts \n",
    "down an infected cell’s supply of tetherin, allowing more of the \n",
    "viruses to escape. Researchers have also found that the protein can\n",
    "trigger infected cells to commit suicide - which contributes to the\n",
    "damage Covid-19 causes to the lungs.\n",
    "```\n",
    "\n",
    "The article then gives the **ORF7a** sequence, which I have copied and pasted into the next cell, adding some string breaks. Note how the article has used lower case characters and the character `u` instead of `T`."
   ]
  },
  {
   "cell_type": "code",
   "execution_count": null,
   "metadata": {},
   "outputs": [],
   "source": [
    "orf7a = \\\n",
    "'augaaaauuauucuuuucuuggcacugauaacacucgcuacuugugagcuuuaucacuaccaag' + \\\n",
    "'aguguguuagagguacaacaguacuuuuaaaagaaccuugcucuucuggaacauacgagggcaa' + \\\n",
    "'uucaccauuucauccucuagcugauaacaaauuugcacugacuugcuuuagcacucaauuugcu' + \\\n",
    "'uuugcuuguccugacggcguaaaacacgucuaucaguuacgugccagaucaguuucaccuaaac' + \\\n",
    "'uguucaucagacaagaggaaguucaagaacuuuacucuccaauuuuucuuauuguugcggcaau' + \\\n",
    "'aguguuuauaacacuuugcuucacacucaaaagaaagacagaaugauugaacuuucauuaauug' + \\\n",
    "'acuucuauuugugcuuuuuagccuuucugcuauuccuuguuuuaauuaugcuuauuaucuuuug' + \\\n",
    "'guucucacuugaacugcaagaucauaaugaaacuugucacgccuaaacgaac'"
   ]
  },
  {
   "cell_type": "markdown",
   "metadata": {},
   "source": [
    "The next task in this class activity is to find if this sequence occurs in the RNA we just downloaded, and if it does, where it occurs. To this end, we first make the replacements required to read the string in terms of A, T, G, and C."
   ]
  },
  {
   "cell_type": "code",
   "execution_count": null,
   "metadata": {},
   "outputs": [],
   "source": [
    "s=orf7a.replace('u', 'T').replace('a', 'A').replace('g', 'G').replace('c', 'C')\n",
    "s"
   ]
  },
  {
   "cell_type": "markdown",
   "metadata": {},
   "source": [
    "The next step is now a triviality in view of python's exceptional string handling mechanisms:"
   ]
  },
  {
   "cell_type": "code",
   "execution_count": null,
   "metadata": {},
   "outputs": [],
   "source": [
    "s in rna"
   ]
  },
  {
   "cell_type": "markdown",
   "metadata": {},
   "source": [
    "We may also easily find the location of the ORF7a sequence and read off the entire string beginning with the sequence. "
   ]
  },
  {
   "cell_type": "code",
   "execution_count": null,
   "metadata": {},
   "outputs": [],
   "source": [
    "rna.find(s)"
   ]
  },
  {
   "cell_type": "code",
   "execution_count": null,
   "metadata": {},
   "outputs": [],
   "source": [
    "rna[27393:]"
   ]
  },
  {
   "cell_type": "markdown",
   "metadata": {},
   "source": [
    "## Nucleotide frequencies"
   ]
  },
  {
   "cell_type": "markdown",
   "metadata": {},
   "source": [
    "The **frequency** of a base or a nucleotide  in a genetic code is the number of times it occurs divided by the length of the code. The varying frequency of different nucleotides, called the **nucleotide bias** varies between organisms and is known to have biological implications.   Biologists also often talk of the *GC content*, the percentage of nitrogeneous bases (G and C) in an RNA or DNA to get insights into its stability."
   ]
  },
  {
   "cell_type": "markdown",
   "metadata": {},
   "source": [
    "The next task in this activity is to make a *python dictionary,* called `freq`, whose keys are the nucleotide characters and whose values are the number of times it occurs in the virus RNA.  Once you have made it, `freq['A']`, for example, should output the frequency of nucleotide `A`."
   ]
  },
  {
   "cell_type": "code",
   "execution_count": null,
   "metadata": {},
   "outputs": [],
   "source": [
    "freq = {b: rna.count(b)/len(rna)   for b in 'ATGC'}"
   ]
  },
  {
   "cell_type": "code",
   "execution_count": null,
   "metadata": {},
   "outputs": [],
   "source": [
    "freq"
   ]
  },
  {
   "cell_type": "markdown",
   "metadata": {},
   "source": [
    "## A Washington sample"
   ]
  },
  {
   "cell_type": "markdown",
   "metadata": {},
   "source": [
    "A more recent dataset at NCBI, apparently just submitted for peer-review on April 3, claims to contain the genome of a virus sample  from our  neighboring state of  Washington. You can  find it  labeled there  as the [data set MT293201](https://www.ncbi.nlm.nih.gov/nuccore/MT293201).  Let us take a look. (Again, if the url below fails, please head over the NCBI webpage, find and download the corresponding data file for this sample, again in FASTA format, and save it using the name `f2` below.) "
   ]
  },
  {
   "cell_type": "code",
   "execution_count": null,
   "metadata": {},
   "outputs": [],
   "source": [
    "url2 = 'https://www.ncbi.nlm.nih.gov/sviewer/viewer.cgi?'         + \\\n",
    "    'tool=portal&save=file&log$=seqview&db=nuccore&report=fasta&' + \\\n",
    "    'id=1828694245&extrafeat=null&conwithfeat=on&hide-cdd=on' \n",
    "f2 = '../../data_external/SARS-CoV-2-Washington_MT293201.1.fasta'"
   ]
  },
  {
   "cell_type": "code",
   "execution_count": null,
   "metadata": {},
   "outputs": [],
   "source": [
    "r2 = urllib.request.urlopen(url2)\n",
    "fo2 = open(f2, 'wb')\n",
    "shutil.copyfileobj(r2, fo2)"
   ]
  },
  {
   "cell_type": "markdown",
   "metadata": {},
   "source": [
    "You might have already heard in the news that there are multiple strains of the virus around the globe. Let's investigate this  genetic code a bit closer."
   ]
  },
  {
   "cell_type": "markdown",
   "metadata": {},
   "source": [
    "#### Is this the same genetic code as from the Wuhan sample?"
   ]
  },
  {
   "cell_type": "markdown",
   "metadata": {},
   "source": [
    "Repeating the previous procedure on this new file, we now make a string object that contains the RNA from the Washington sample. We shall call it `rna2` below."
   ]
  },
  {
   "cell_type": "code",
   "execution_count": null,
   "metadata": {},
   "outputs": [],
   "source": [
    "lines = open(f2, 'r').readlines()\n",
    "rna2 = ''.join([line.strip() for line in lines[1:]])"
   ]
  },
  {
   "cell_type": "markdown",
   "metadata": {},
   "source": [
    "We should note that not all data sets uses just ATGC.  There is a  [standard notation](https://en.wikipedia.org/wiki/Nucleic_acid_sequence) that extends the four letters, e.g., N is used to indicate *any* nucleotide. So, it might be a good idea to answer this question first: what are the distinct characters in the new `rna2`? There can be very simply done in python if you use the `set` data structure, which removes duplicates. "
   ]
  },
  {
   "cell_type": "code",
   "execution_count": null,
   "metadata": {},
   "outputs": [],
   "source": [
    "set(rna2)"
   ]
  },
  {
   "cell_type": "markdown",
   "metadata": {},
   "source": [
    "The next natural question might be this. Are the lengths of `rna` and `rna2` the same? "
   ]
  },
  {
   "cell_type": "code",
   "execution_count": null,
   "metadata": {},
   "outputs": [],
   "source": [
    "len(rna2), len(rna)"
   ]
  },
  {
   "cell_type": "markdown",
   "metadata": {},
   "source": [
    "We could also look at the first and last 30 characters and check if they are the same, like so:"
   ]
  },
  {
   "cell_type": "code",
   "execution_count": null,
   "metadata": {},
   "outputs": [],
   "source": [
    "rna2[:30], rna2[-30:]"
   ]
  },
  {
   "cell_type": "code",
   "execution_count": null,
   "metadata": {},
   "outputs": [],
   "source": [
    "rna[:30], rna[-30:]"
   ]
  },
  {
   "cell_type": "markdown",
   "metadata": {},
   "source": [
    "Clearly, `rna` and `rna2` are different strings. "
   ]
  },
  {
   "cell_type": "markdown",
   "metadata": {},
   "source": [
    "#### Compare their nucleotide frequencies"
   ]
  },
  {
   "cell_type": "code",
   "execution_count": null,
   "metadata": {},
   "outputs": [],
   "source": [
    "freq2 = {b: rna2.count(b)/len(rna2)   for b in 'ATGC'}"
   ]
  },
  {
   "cell_type": "code",
   "execution_count": null,
   "metadata": {},
   "outputs": [],
   "source": [
    "freq2"
   ]
  },
  {
   "cell_type": "markdown",
   "metadata": {},
   "source": [
    "Although the Washington genome is not identical to the Wuhan one,  their nucleotide frequencies are very close to the Wuhan one, reproduced here:"
   ]
  },
  {
   "cell_type": "code",
   "execution_count": null,
   "metadata": {},
   "outputs": [],
   "source": [
    "freq"
   ]
  },
  {
   "cell_type": "markdown",
   "metadata": {},
   "source": [
    "#### Does it contain `ORF7a`?"
   ]
  },
  {
   "cell_type": "code",
   "execution_count": null,
   "metadata": {},
   "outputs": [],
   "source": [
    "s in rna2"
   ]
  },
  {
   "cell_type": "code",
   "execution_count": null,
   "metadata": {},
   "outputs": [],
   "source": [
    "rna2.find(s)"
   ]
  },
  {
   "cell_type": "markdown",
   "metadata": {},
   "source": [
    "Thus, we located the same ORF7a instruction in this virus at a different location. \n",
    "Although the genetic code from  the Washington sample and the Wuhan sample are different, they can make the same protein ORF7a and  their nucleotide frequencies are very close."
   ]
  },
  {
   "cell_type": "markdown",
   "metadata": {},
   "source": [
    "\n",
    "\n",
    "\n",
    "This activity provided you with just  a glimpse into the large field of bioinformatics, which studies, among other things, patterns of  nucleotide arrangements. If you are interested in this field,  you should take a look at [Biopython](http://biopython.org), a bioinformatics python package."
   ]
  },
  {
   "cell_type": "markdown",
   "metadata": {},
   "source": [
    "\n",
    "\n",
    "\n",
    "<hr>\n",
    "\n",
    "<span style=\"color:rgb(106,127,16); font-size:8pt\">Author:</span> [<span style=\"color:rgb(106,127,16); font-size:8pt\">Jay Gopalakrishnan</span>](http://web.pdx.edu/~gjay/) \n",
    "<br><span style=\"color:rgb(106,127,16); font-size:8pt\">License:</span> [<span style=\"color:rgb(106,127,16) ; font-size:8pt\">&copy;2020. CC-BY-SA</span>](https://creativecommons.org/licenses/by-sa/4.0/legalcode)\n",
    "<br><span style=\"color:rgb(106,127,16) ; font-size:8pt\">$\\ll$</span>[<span style=\"color:rgb(106,127,16) ; font-size:8pt\">Table of Contents</span>](./TOC.ipynb)\n"
   ]
  }
 ],
 "metadata": {
  "kernelspec": {
   "display_name": "Python 3",
   "language": "python",
   "name": "python3"
  },
  "language_info": {
   "codemirror_mode": {
    "name": "ipython",
    "version": 3
   },
   "file_extension": ".py",
   "mimetype": "text/x-python",
   "name": "python",
   "nbconvert_exporter": "python",
   "pygments_lexer": "ipython3",
   "version": "3.8.0"
  },
  "livereveal": {
   "start_slideshow_at": "selected"
  }
 },
 "nbformat": 4,
 "nbformat_minor": 1
}
