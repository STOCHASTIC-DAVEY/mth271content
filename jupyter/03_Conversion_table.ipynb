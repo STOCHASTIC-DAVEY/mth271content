{
 "cells": [
  {
   "cell_type": "markdown",
   "metadata": {},
   "source": [
    "# <span style=\"color:rgb(106,127,16)\">Make a conversion table</span>\n",
    "\n",
    "\n",
    "<br>\n",
    "\n"
   ]
  },
  {
   "cell_type": "markdown",
   "metadata": {},
   "source": [
    "By now,  you should have perused the basic language features before coming to this class meeting.  This activity is intended to check and consolidate your understanding. The activity is modeled after a similar one in [[HPL]](https://hplgit.github.io/primer.html/doc/pub/half/book.pdf) and involves a simple conversion formula. \n",
    "\n",
    "\n",
    "You might have seen little cheat sheets (or have one yourself) pinned near kitchen counters."
   ]
  },
  {
   "cell_type": "markdown",
   "metadata": {},
   "source": [
    "<img src=\"../figs/cooking-conversions.jpg\" width=\"300px\">"
   ]
  },
  {
   "cell_type": "markdown",
   "metadata": {},
   "source": [
    "They are very useful when translating old recipes from the \"old continent\". Notwithstanding the name, the old continent has already moved on to  the more rational metric system, so European recipes are bound to have temperatures in Celsius (C). \n"
   ]
  },
  {
   "cell_type": "markdown",
   "metadata": {},
   "source": [
    "\n",
    "\n",
    "Celsius values  can be converted to the Fahrenheit system  by the formula \n",
    "$$\n",
    "F =  \\frac 9 5 C + 32.\n",
    "$$\n",
    "Your task is to print a table of F and C values per this formula. Don't worry about making it fancy enough to post on your kitchen wall. The objective of this activity is simply to \n",
    "recalling the following language features in the process of printing this table:\n",
    "\n",
    "- `while` loop\n",
    "- `for` loop\n",
    "- `range`\n",
    "- `print`\n",
    "- list and tuples\n",
    "- `zip`\n",
    "- list comprehension\n"
   ]
  },
  {
   "cell_type": "markdown",
   "metadata": {},
   "source": [
    "## Using the `while` loop "
   ]
  },
  {
   "cell_type": "markdown",
   "metadata": {},
   "source": [
    "We start by making a table of F and C values, starting from 0 C to 250 C, using the `while` loop.\n"
   ]
  },
  {
   "cell_type": "code",
   "execution_count": null,
   "metadata": {
    "scrolled": false
   },
   "outputs": [],
   "source": [
    "print('F     C')\n",
    "\n",
    "C = 0\n",
    "while C <= 250:\n",
    "    F = 9 * C / 5 + 32\n",
    "    print(F, C)\n",
    "    C += 10"
   ]
  },
  {
   "cell_type": "markdown",
   "metadata": {},
   "source": [
    "## Adjusting the printed output"
   ]
  },
  {
   "cell_type": "markdown",
   "metadata": {},
   "source": [
    "Note how the  output above is not perfectly aligned.   But we can use `print`'s features to align perfectly."
   ]
  },
  {
   "cell_type": "markdown",
   "metadata": {},
   "source": [
    "Formatting options like `%10.3f` can be used for alignment. It's easy to describe this by an  example:\n",
    "```\n",
    "%10.3f: print 3 decimals, field width 10        \n",
    " %9.2e: print 2 decimals, field width 9, scientific notation\n",
    "```\n",
    "Type `help(print)` to recall these and other options.  Below, we use a fixed width of 4 to format F and C values. "
   ]
  },
  {
   "cell_type": "code",
   "execution_count": null,
   "metadata": {},
   "outputs": [],
   "source": [
    "print('   F   C')\n",
    "\n",
    "C = 0\n",
    "while C <= 250:\n",
    "    F = 9 * C / 5 + 32\n",
    "    print('%4.0f %4.0f' % (F, C))\n",
    "    C += 10"
   ]
  },
  {
   "cell_type": "markdown",
   "metadata": {},
   "source": [
    "## Do the same using  `for` loop\n"
   ]
  },
  {
   "cell_type": "markdown",
   "metadata": {},
   "source": [
    "In addition to the `while` loop construct, python  also has a `for` loop, which is often safer from an accidental bug sending the system into an infinite loop. Also recall the very useful `range` construct. The loop `for i in range(4)` runs over `i=0,1,2,3` using default starting value `0` and stepping value `1`. For our temperature conversion task, we step by 10 C instead of the default value below."
   ]
  },
  {
   "cell_type": "code",
   "execution_count": null,
   "metadata": {},
   "outputs": [],
   "source": [
    "print('   F   C')\n",
    "for C in range(0, 250, 10):    \n",
    "    F = 9 * C / 5 + 32\n",
    "    print('%4.0f %4.0f' % (F, C))"
   ]
  },
  {
   "cell_type": "markdown",
   "metadata": {},
   "source": [
    "## Is there a temperature whose F and C values are equal?"
   ]
  },
  {
   "cell_type": "markdown",
   "metadata": {},
   "source": [
    "As you can see from the above values, for a 10 degree increase in the C column, we see a corresponding 18 degree increase in the F column. Due to the these different rates of increase, we should see the values coincide by going to lower C values. Focusing on lower C values, let us run the `for` loop again:"
   ]
  },
  {
   "cell_type": "code",
   "execution_count": null,
   "metadata": {},
   "outputs": [],
   "source": [
    "print('   F   C')\n",
    "for C in range(-50, 50, 5):    \n",
    "    F = 9 * C / 5 + 32\n",
    "    print('%4.0f %4.0f' % (F, C))"
   ]
  },
  {
   "cell_type": "markdown",
   "metadata": {},
   "source": [
    "As you see above, at $-40$ degrees, the Fahrenheit scale and the Celsius scale coincide. If you have lived in Minnesota, you probably know how -40 feels like, and you probably already know the fact we just discovered above: it's common for Minnesotans to throw around this tidbit while commiserating in the cold."
   ]
  },
  {
   "cell_type": "markdown",
   "metadata": {},
   "source": [
    "## Store in a list"
   ]
  },
  {
   "cell_type": "markdown",
   "metadata": {},
   "source": [
    "If we want to use the above-made tables later, we would have to run a loop again. Our conversion problem is so small that there is no cost to run as many loops as we like, but in many practical problems, loops contains expensive computations. So one often wants to store the quantities computed in the loop in order to reuse them later.  Lists are good constructs for this.\n"
   ]
  },
  {
   "cell_type": "markdown",
   "metadata": {},
   "source": [
    "First we should note that python has *lists* and also *tuples*. Only the former can be modified after creation. Here is an example of a list:"
   ]
  },
  {
   "cell_type": "code",
   "execution_count": null,
   "metadata": {},
   "outputs": [],
   "source": [
    "Cs = [0, 10]     # create list using []\n",
    "Cs.append(20)    # modify by appending an entry\n",
    "Cs"
   ]
  },
  {
   "cell_type": "markdown",
   "metadata": {},
   "source": [
    "And here is an example of a tuple:"
   ]
  },
  {
   "cell_type": "code",
   "execution_count": null,
   "metadata": {},
   "outputs": [],
   "source": [
    "Cs = (0, 10)     # create a tuple using ()"
   ]
  },
  {
   "cell_type": "markdown",
   "metadata": {},
   "source": [
    "You access a tuple element just like a list element, so `Cs[0]` will give the first element whether or not `Cs` is a list or a tuple. But the statement `Cs[0] = -10` that changes an element of the container will work only if `Cs` is a list. We say that a list is *mutable*, while a tuple is *immutable*. Tuples are generally faster than lists, but lists are more flexible than tuples.\n",
    "\n",
    "Here is an example of how to store the computed C and F values within a loop into lists."
   ]
  },
  {
   "cell_type": "code",
   "execution_count": null,
   "metadata": {},
   "outputs": [],
   "source": [
    "Cs = []   # empty list \n",
    "Fs = []\n",
    "\n",
    "for C in range(0, 250, 25):    \n",
    "    Cs.append(C)    \n",
    "    Fs.append(9 * C / 5 + 32)"
   ]
  },
  {
   "cell_type": "markdown",
   "metadata": {},
   "source": [
    "The lists `Cs` and `Fs` can be accessed later:"
   ]
  },
  {
   "cell_type": "code",
   "execution_count": null,
   "metadata": {},
   "outputs": [],
   "source": [
    "print(Cs)"
   ]
  },
  {
   "cell_type": "code",
   "execution_count": null,
   "metadata": {},
   "outputs": [],
   "source": [
    "print(Fs)"
   ]
  },
  {
   "cell_type": "markdown",
   "metadata": {},
   "source": [
    "This is not as pretty an output as before. But we can easily run a loop and print the stored values in any format we like. This is a good opportunity to show off a *pythonic* feature `zip` that allows you to traverse two lists *simultaneously:*"
   ]
  },
  {
   "cell_type": "code",
   "execution_count": null,
   "metadata": {},
   "outputs": [],
   "source": [
    "print('   F   C')\n",
    "for C, F in zip(Cs, Fs):\n",
    "    print('%4.0f %4.0f' % (F, C))"
   ]
  },
  {
   "cell_type": "markdown",
   "metadata": {},
   "source": [
    "## List comprehension"
   ]
  },
  {
   "cell_type": "markdown",
   "metadata": {},
   "source": [
    "A really cool way to make lists in python is using its \"list comprehension\" feature. \n",
    "Codes with list comprehension read almost like English. Let's illustrate this by creating the list of F values from the existing list `Cs` of C values.\n",
    "Instead of making `Fs` in a loop as above, in a *list comprehension*, we just say that each value of the list `Fs`  is obtained applying a formula *for each `C` in a list `Cs`:*"
   ]
  },
  {
   "cell_type": "code",
   "execution_count": null,
   "metadata": {},
   "outputs": [],
   "source": [
    "Fs = [9 * C / 5 + 32   for C in Cs]"
   ]
  },
  {
   "cell_type": "markdown",
   "metadata": {},
   "source": [
    "Note how this makes for compact code without sacrificing readability: constructs like this are why your hear so much praise for python's expressiveness. For us mathematicians, the list comprehension syntax is also reminiscent of the set notation: the set  $\\mathsf{Fs}$ is described by \n",
    "$\n",
    "\\mathsf{Fs} = \\{ \\frac 9 5 C + 32: \\; C \\in \\mathsf{Cs}\\}.\n",
    "$ \n",
    "Feel free to check that the `Fs` computed by the above one-liner is the same as the `Fs` we computed previously within a loop."
   ]
  },
  {
   "cell_type": "markdown",
   "metadata": {},
   "source": [
    "\n",
    "<hr>\n",
    "\n",
    "<span style=\"color:rgb(106,127,16); font-size:8pt\">These materials were created by [<span style=\"color:rgb(106,127,16)\">Jay Gopalakrishnan</span>](http://web.pdx.edu/~gjay/) for a sophomore course (MTH 271) offered during the Spring 2020 quarter at Portland State University, and are made available under the [<span style=\"color:rgb(106,127,16)\">CC-BY-SA license</span>](https://creativecommons.org/licenses/by-sa/4.0/legalcode).</span>\n",
    "</span>   \n",
    "  \n",
    "  "
   ]
  }
 ],
 "metadata": {
  "kernelspec": {
   "display_name": "Python 3",
   "language": "python",
   "name": "python3"
  },
  "language_info": {
   "codemirror_mode": {
    "name": "ipython",
    "version": 3
   },
   "file_extension": ".py",
   "mimetype": "text/x-python",
   "name": "python",
   "nbconvert_exporter": "python",
   "pygments_lexer": "ipython3",
   "version": "3.8.0"
  }
 },
 "nbformat": 4,
 "nbformat_minor": 2
}
