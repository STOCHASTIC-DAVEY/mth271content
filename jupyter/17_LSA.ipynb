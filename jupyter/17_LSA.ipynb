{
 "cells": [
  {
   "cell_type": "markdown",
   "metadata": {},
   "source": [
    "# <span style=\"color:rgb(106,127,16)\">Latent Semantic Analysis </span>\n",
    "\n",
    "\n",
    "<div style=\"text-align: right\"><span style=\"color:rgb(106,127,16)\">June 1, 2020\n",
    "    </span></div>\n",
    "<br>\n",
    "\n",
    "\n",
    "\n",
    "In the study of information retrieval systems, a fundamental question is how to extract documents from a large collection in response to a user query. A simplistic way is to pick out all documents which contain the query words. Is there a more \"intelligent\" way?\n",
    "Documents usually have interrelated *concepts* and if a query could be matched to a  concept, perhaps the results extracted would look more intelligent. Documents are written in natural language, using copious amounts of *words*, yet the number of topics that people write about are usually much smaller than the number of words they use.\n",
    "Latent Semantic Analysis (LSA) is a technique to associate *concepts* in a space of much lower dimension than a space of *words* in order to help with the complex task of information retrieval.\n",
    "\n",
    " \n",
    "\n",
    "Of course, a number of details have to be worked out. How can one associate words to a vector space?  How can one identify topics in this space?  How can one represent queries?  It should therefore not be surprising that this is a whole field of study in itself: see e.g., [[MRS]](https://www.amazon.com/Introduction-Information-Retrieval-Christopher-Manning/dp/0521865719). Yet, we are able to take a peek into this machinery because the essential mathematical tool used in LSA is something you already know, namely the [SVD](10_SVD.ipynb)."
   ]
  },
  {
   "cell_type": "markdown",
   "metadata": {},
   "source": [
    "I'm sure yesterday's news is very much on your mind, with the best and the worst of humanity  on display. Shocking police violence and a successful astronaut launch dominated the news headlines.   Having failed to get the news out of my mind, I am going to use sentences from current news for introducing LSA."
   ]
  },
  {
   "cell_type": "markdown",
   "metadata": {},
   "source": [
    "The next graph, obtained from LSA's interpretation of *four news  headlines* on a two-dimensional space made in this lecture, may well be a representation of the country's current state. Today's lecture will show  you how to analyze text and graphically display words and their apparent connections like those displayed below."
   ]
  },
  {
   "cell_type": "markdown",
   "metadata": {},
   "source": [
    "![Nation](../figs/nation.png)"
   ]
  },
  {
   "cell_type": "markdown",
   "metadata": {},
   "source": [
    "If this is a proxy for the country's current state, where we go from here seems critical in this moment."
   ]
  },
  {
   "cell_type": "markdown",
   "metadata": {},
   "source": [
    "## Natural language processing"
   ]
  },
  {
   "cell_type": "markdown",
   "metadata": {},
   "source": [
    "Using a few headlines, we make a *corpus* of text documents to illustrate the basics of LSA as a python dictionary, called `c` below."
   ]
  },
  {
   "cell_type": "code",
   "execution_count": null,
   "metadata": {},
   "outputs": [],
   "source": [
    "c = {'May31': \n",
    "     'Two crises convulse a nation: a pandemic and police violence', \n",
    "          \n",
    "     'May30a': \n",
    "     'Nation’s first astronaut launch to orbit from home soil in nearly a decade', \n",
    "    \n",
    "     'May30b': \n",
    "     'Death of George Floyd at the hands of police set off protests',\n",
    "\n",
    "     'May27':\n",
    "     'SpaceX launch of NASA astronauts is postponed over weather'}"
   ]
  },
  {
   "cell_type": "markdown",
   "metadata": {},
   "source": [
    "In this corpus, `c['May31']` is a *document,* and the `c` has three more documents. Each document is composed of many words, or *terms*. We need to simplify the complexities of natural language to be able to compute anything. With my apologies to the writers among you, we proceed by taking the view that the order of words, declensions and conjugations, and often-used words like articles and prepositions, are all immaterial. Then we view *concepts* as merely  associations of the remaining root words, associations marked by their joint appearances in documents. LSA is only useful under the assumption that words that are close in semantics will occur in similar documents as the corpus of documents become large."
   ]
  },
  {
   "cell_type": "markdown",
   "metadata": {},
   "source": [
    "Applying the above-mentioned language simplifications to even a small corpus is a lot of work, if you try to do it from scratch. But thankfully, there are several python modules that excel in natural language processing (NLP). Below, I will use [`spaCy`](https://spacy.io), one of the  recent additions to the python NLP tool set. (Please install it and also make sure to install their English dataset `en_core_web_sm`,  say by `python3 -m spacy download en_core_web_sm`, before proceeding.)"
   ]
  },
  {
   "cell_type": "code",
   "execution_count": null,
   "metadata": {},
   "outputs": [],
   "source": [
    "import spacy\n",
    "from spacy import displacy\n",
    "\n",
    "# Install dataset: python3 -m spacy download en_core_web_sm\n",
    "nlp = spacy.load('en_core_web_sm')  "
   ]
  },
  {
   "cell_type": "markdown",
   "metadata": {},
   "source": [
    "Consider the first sentence in our corpus."
   ]
  },
  {
   "cell_type": "code",
   "execution_count": null,
   "metadata": {},
   "outputs": [],
   "source": [
    "doc0 = nlp('Two crises convulse a nation')"
   ]
  },
  {
   "cell_type": "markdown",
   "metadata": {},
   "source": [
    "The spacy module is able to process sentences, and identify nouns, verbs, direct objects, and their interrelationships.  In the cell below, after processing a sentence, the result is saved in an SVG figure. The saved image is then displayed as an image in the next cell."
   ]
  },
  {
   "cell_type": "code",
   "execution_count": null,
   "metadata": {},
   "outputs": [],
   "source": [
    "svg = displacy.render(doc0, style=\"dep\", jupyter=False)\n",
    "with open('../figs/sentence0.svg', 'w') as f: f.write(svg)"
   ]
  },
  {
   "cell_type": "markdown",
   "metadata": {},
   "source": [
    "![](../figs/sentence0.svg)"
   ]
  },
  {
   "cell_type": "markdown",
   "metadata": {},
   "source": [
    "Within a Jupyter notebook, one may also directly render the resulting image (without needing to save the image into a file) by specifying  `jupyter=True` instead. Here is an example."
   ]
  },
  {
   "cell_type": "code",
   "execution_count": null,
   "metadata": {},
   "outputs": [],
   "source": [
    "doc1 = nlp('SpaceX launch of NASA astronauts is postponed over weather')\n",
    "displacy.render(doc1, style='ent', jupyter=True, options={'distance':90})         "
   ]
  },
  {
   "cell_type": "markdown",
   "metadata": {},
   "source": [
    "Just in case you are not reading this in a Jupyter notebook and the image does not render on your reading device, I am reproducing the image that displacy generated:"
   ]
  },
  {
   "cell_type": "markdown",
   "metadata": {},
   "source": [
    "![Second sentence](../figs/sentence1.png)"
   ]
  },
  {
   "cell_type": "markdown",
   "metadata": {},
   "source": [
    "As you can see from the annotated sentence, the module can even identify some named entities in the real world: it knows about NASA, but it still does not know about SpaceX!  (We will fix this later in this lecture by adding our own named entity terms.)"
   ]
  },
  {
   "cell_type": "markdown",
   "metadata": {},
   "source": [
    "We shall use the package's capabilities for **tokenization** and **lemmatization**. Tokenization is the process of dividing a sentence or a document into words via demarcation characters like white spaces.  Lemmatization  is the process of identifying the so-called \"lemma\" of a word, allowing us to group together inflected forms of the word into a single item. Here is the result of tokenization and lemmatization on the above sentence. Note how the originally found words \"astronauts\" and \"postponed\" have changed in the output.  "
   ]
  },
  {
   "cell_type": "code",
   "execution_count": null,
   "metadata": {},
   "outputs": [],
   "source": [
    "[w.lemma_ for w in doc1 if not w.is_stop]"
   ]
  },
  {
   "cell_type": "markdown",
   "metadata": {},
   "source": [
    "Here we have also removed **stop words**, a collection of the most common words in a language as previously identified and categorized by the NLP program. In the above example, the words \"of\", \"is\", and \"over\" have been removed. You can view spacy's collection of all stop words if you use the following import statement.\n",
    "```py\n",
    "from spacy.lang.en.stop_words import STOP_WORDS\n",
    "```"
   ]
  },
  {
   "cell_type": "markdown",
   "metadata": {},
   "source": [
    "## Term-document matrix"
   ]
  },
  {
   "cell_type": "markdown",
   "metadata": {},
   "source": [
    "The important mathematical object for LSA is the **term-document** matrix,  a matrix whose rows correspond to terms, whose columns correspond to documents, and whose element at position $(t, d)$ is 1 if the document in column $d$ contains the term in row $t$, and is 0 otherwise.  (You will find variations on this matrix in the literature, e.g., the tranpose, ir refinements beyond 0/1 entries, are often used.) Let's make this matrix with a quick hack (where we have now also asked spacy to ignore punctuations). The matrix will be displayed as a pandas data frame to easily visualize term and document labels of rows and columns."
   ]
  },
  {
   "cell_type": "code",
   "execution_count": null,
   "metadata": {},
   "outputs": [],
   "source": [
    "import pandas as pd\n",
    "from scipy.sparse import lil_matrix\n",
    "\n",
    "d = {}\n",
    "for j, dok in enumerate(c.keys()):\n",
    "    tokens = [w.lemma_ for w in nlp(c[dok])\n",
    "              if not w.is_stop and w.pos_ != 'PUNCT']\n",
    "    for t in tokens:\n",
    "        d[t] = d.setdefault(t, [])\n",
    "        d[t] += [j]\n",
    "A = lil_matrix((len(d.keys()), len(c.keys())), dtype=int)\n",
    "for i, t in enumerate(d.keys()):\n",
    "    for j in d[t]:\n",
    "        A[i, j] = 1   \n",
    "Adf = pd.DataFrame(A.toarray(), index=d.keys(), columns=c.keys()); Adf"
   ]
  },
  {
   "cell_type": "markdown",
   "metadata": {},
   "source": [
    "We might want to have a combination of first and last names treated as a single entity, but the code is not yet smart enough to do that. We'll fix that later, after introducing the idea of LSA. For the moment, note how words have been represented as row vectors and documents as column vectors. This is enough to understand the basics of LSA, as we see next."
   ]
  },
  {
   "cell_type": "markdown",
   "metadata": {},
   "source": [
    "## The idea of LSA"
   ]
  },
  {
   "cell_type": "markdown",
   "metadata": {},
   "source": [
    "The idea is to perform an SVD of the term-document matrix and use its low-rank approximation, with a rank $k$ much less than the number of words. The dominant singular vectors may then be expected to capture patterns in the association of words. Of course, this is not an exact technique, but it does give us something numerical to work with for analysis of large amounts of textual data. For our example of the 4-document corpus, we shall use the best rank-2 approximation (as discussed in the [SVD lecture](10_SVD.ipynb)), the difference now being that we don't actually need the low-rank matrix, but rather the SVD components that go into it."
   ]
  },
  {
   "cell_type": "code",
   "execution_count": null,
   "metadata": {},
   "outputs": [],
   "source": [
    "import numpy as np\n",
    "import matplotlib.pyplot as plt\n",
    "import seaborn; seaborn.set();\n",
    "from numpy.linalg import norm\n",
    "from scipy.linalg import svd"
   ]
  },
  {
   "cell_type": "code",
   "execution_count": null,
   "metadata": {},
   "outputs": [],
   "source": [
    "u, s, vt = svd(A.toarray())"
   ]
  },
  {
   "cell_type": "markdown",
   "metadata": {},
   "source": [
    "Here is the first important step in creating mathematical objects to represent documents.  Using the best rank $k$ approximation,  the first $k$ right singular vectors are used to *represent each document as a $k$ vector.*"
   ]
  },
  {
   "cell_type": "code",
   "execution_count": null,
   "metadata": {},
   "outputs": [],
   "source": [
    "k = 2                                   # Limit to rank k\n",
    "Vt = vt[:k, :]\n",
    "pd.DataFrame(Vt, columns=c.keys())      # Documents as k-vectors"
   ]
  },
  {
   "cell_type": "markdown",
   "metadata": {},
   "source": [
    "The second important step is to represent words (or terms) as mathematical objects in the same space.  Unlike documents, the words/terms are represented by the first $k$ left singular vectors, weighted by the associated singular values. The first five word tokens are displayed below as vectors. "
   ]
  },
  {
   "cell_type": "code",
   "execution_count": null,
   "metadata": {},
   "outputs": [],
   "source": [
    "US = u[:, :k] @ np.diag(s[:k])\n",
    "usp = pd.DataFrame(US, index=d.keys()) # Words as k-vectors\n",
    "usp.head()"
   ]
  },
  {
   "cell_type": "markdown",
   "metadata": {},
   "source": [
    "Many words are mapped to the same point in such a small example. In other words, there is not enough data in our small corpus to distinguish between such words."
   ]
  },
  {
   "cell_type": "markdown",
   "metadata": {},
   "source": [
    "Nonetheless, even in our very small dataset, it is very interesting to see the associations between words in terms of how different the word vectors are.   Ignoring the magnitude of word vectors, one may measure the difference between two word vectors (both drawn from the origin) using a device different from the norm. When magnitude is ignored, the difference between vectors is captured by the *angle* the word vectors make with each other, or by the **cosine** of the angle. Two vectors of the same magnitude are farther apart if the cosine of their angle is smaller. Remember that it's very easy to compute the cosine of the angle between two unit vectors, since it is equal to their dot product. "
   ]
  },
  {
   "cell_type": "code",
   "execution_count": null,
   "metadata": {},
   "outputs": [],
   "source": [
    "astronaut = usp.loc['astronaut', :].to_numpy()\n",
    "crisis    = usp.loc['crisis', :].to_numpy()\n",
    "police    = usp.loc['police', :].to_numpy()"
   ]
  },
  {
   "cell_type": "markdown",
   "metadata": {},
   "source": [
    "Here is an example of an uncanny association the program has made:\n",
    "\n",
    "The word `crisis` is closer to  `police` than to `astronaut`!  This conclusion follows from the two cosine computations below."
   ]
  },
  {
   "cell_type": "code",
   "execution_count": null,
   "metadata": {},
   "outputs": [],
   "source": [
    "crisis.dot(police) / norm(police) / norm(crisis)"
   ]
  },
  {
   "cell_type": "code",
   "execution_count": null,
   "metadata": {},
   "outputs": [],
   "source": [
    "crisis.dot(astronaut) / norm(astronaut) / norm(crisis)"
   ]
  },
  {
   "cell_type": "markdown",
   "metadata": {},
   "source": [
    "Let's dig into this a bit more. In our small example, since words are two-dimensional vectors, we can  plot them to see how they are dispersed in terms of angles measured from the origin. Below, the origin is marked as a red star, and points representing the terminal point of word vectors are annotated with the word. "
   ]
  },
  {
   "cell_type": "code",
   "execution_count": null,
   "metadata": {},
   "outputs": [],
   "source": [
    "w = {}; us = np.round(US, 8) # w[(x,y)] = list of words at that point\n",
    "usr = list(set([tuple(us[i, :]) for i in range(us.shape[0])]))\n",
    "for i in range(len(usr)):\n",
    "    w[usr[i]] = []\n",
    "    for j in range(usp.shape[0]):\n",
    "        if norm(usp.iloc[j, :] - usr[i]) < 1e-6:\n",
    "            w[usr[i]] += [usp.index[j]]            \n",
    "fig = plt.figure(figsize=(10, 8)); ax = fig.gca()\n",
    "ax.arrow(0, 0, crisis[0], crisis[1],       width=0.015, alpha=0.3)\n",
    "ax.arrow(0, 0, police[0], police[1],       width=0.015, alpha=0.3)\n",
    "ax.arrow(0, 0, astronaut[0], astronaut[1], width=0.015, alpha=0.3)\n",
    "ax.scatter(US[: , 0], US[: ,1], alpha=0.5)\n",
    "ax.scatter(0, 0,  color='r', marker='*', s=150, alpha=0.6);\n",
    "for i, key in enumerate(w.keys()):\n",
    "    ax.annotate(', '.join(w[key]), (key[0], key[1]))\n",
    "ax.set_xlim((-1.5, 0.7)); ax.set_ylim((-0.5, 1.5));\n",
    "ax.set_title('Alignment of Word Vectors');"
   ]
  },
  {
   "cell_type": "markdown",
   "metadata": {},
   "source": [
    "The first takeaway from this figure is that the angles the word vectors make is clearly in accordance with the previous cosine computation.\n",
    "\n",
    "The second is more enigmatic.  In our small corpus of four sentences, there were two categories of news, one of violence, and one of exploration. While we as humans can instinctively make that categorization, it is uncanny that some mathematics and a few simple lines of code can separate the words associated to the two categories into different areas of a \"word space\". The word that appears somewhat in the middle of the two categories is `nation`, as it ought to. (The same figure, after a rotation,  modification of arrows, and cleaned up positioning, is what I presented at the beginning of the lecture.) You should now have an idea of why LSA can be useful when applied to a large corpus with many more words, documents,  and hidden associations (or latent semantics). "
   ]
  },
  {
   "cell_type": "markdown",
   "metadata": {},
   "source": [
    "## Language is complex"
   ]
  },
  {
   "cell_type": "markdown",
   "metadata": {},
   "source": [
    "Let me return to the news headlines. During this entire spring term, bad news have been accumulating, of how the pandemic and its repercussions are battering our country, highlighting and amplifying  many of our systemic problems, and finally even \n",
    "more bad news of yet another police violence. All this made the few glorious moments last weekend especially precious.  When SpaceX lifted NASA astronauts Bob Behnken and Doug Hurley into orbit on a reusable rocket that returned to an autonomous droneship, it was a moment of reassurance that our science, industry, and innovation remain peerless. Let me now focus on this bit of positive news and add more sentences on these exciting developments to our text corpus. "
   ]
  },
  {
   "cell_type": "code",
   "execution_count": null,
   "metadata": {},
   "outputs": [],
   "source": [
    "c.update(\n",
    "{\n",
    " 'May30Launch':\n",
    " 'Go NASA! Go SpaceX! Godspeed, Bob and Doug!', \n",
    "    \n",
    " 'NYTimes':\n",
    " 'NASA and SpaceX officials more often than not ' + \n",
    " 'just call the pilots of this historic mission Bob and Doug.',\n",
    " \n",
    " 'May30NASAblog':\n",
    " 'The first stage of the SpaceX rocket has landed ' + \n",
    " 'successfully on the droneship, Of Course I Still Love You.',\n",
    "\n",
    " 'May31NYTimes':\n",
    " 'After a 19 hour trip, NASA astronauts Bob and Doug ' + \n",
    " 'successfully docked their capsule and entered the space station.',             \n",
    "})"
   ]
  },
  {
   "cell_type": "markdown",
   "metadata": {},
   "source": [
    "Do you see the complexities of dealing with real examples of natural language? \n",
    "\n",
    "The ocean droneship, controlled by an autonomous robot to help the rocket land, has a curious name: \"Of Course I Still Love You\". Standard tokenization would simply split it into component words. It would be better to keep it as a single entity. We will do so below with spacy's facilities. But, before that, just in case you don't know, that curious name for the ship is taken from the novel  *The Player of Games* by Iain M. Banks. Elon Musk gave his droneship that name in tribute to Banks. Let me add a sentence from Musk and another from Bank's novel  to our text corpus."
   ]
  },
  {
   "cell_type": "code",
   "execution_count": null,
   "metadata": {},
   "outputs": [],
   "source": [
    "c.update(\n",
    "{     \n",
    " '2015Musk':     \n",
    " 'West Coast droneship under construction will ' + \n",
    " 'be named Of Course I Still Love You',\n",
    " \n",
    " 'IainBanks':    \n",
    " 'These friends of yours are ships. ' + \n",
    " 'Yes, both of them. ' + \n",
    " 'What are they called? ' + \n",
    " 'Of Course I Still Love You and Just Read The Instructions. ' + \n",
    " 'They are not warships? ' + \n",
    " 'With names like that?'\n",
    "})"
   ]
  },
  {
   "cell_type": "markdown",
   "metadata": {},
   "source": [
    "To deal with text items like the droneship name, we need to use the **phrase matching** capabilities of spacy. Three examples of terms to match are added to a `TerminologyList` below. Spacy also does some default phrase matching, e.g.,  it identifies the phrase \"nearly a decade\" as a temporal unit. It is up to us whether we want to use the entire phrase as a token or not. Below, we will modify the tokenization step to keep all phrases as tokens with `_` in place of white space so we can recognize them easily."
   ]
  },
  {
   "cell_type": "code",
   "execution_count": null,
   "metadata": {},
   "outputs": [],
   "source": [
    "from spacy.matcher import PhraseMatcher\n",
    "\n",
    "terms = ['SpaceX', \n",
    "         'Of Course I Still Love You',\n",
    "         'Just Read The Instructions']\n",
    "\n",
    "patterns = [nlp.make_doc(text) for text in terms]\n",
    "\n",
    "matcher = PhraseMatcher(nlp.vocab)\n",
    "matcher.add('TerminologyList', None, *patterns)"
   ]
  },
  {
   "cell_type": "markdown",
   "metadata": {},
   "source": [
    "Next, we use a slicing feature (called `Span`) of spacy to capture the matched phrases as tokens.  We also use the `ents` attribute provided by spacy to add *named entities* (a real-world object with a name) to the document object. "
   ]
  },
  {
   "cell_type": "code",
   "execution_count": null,
   "metadata": {},
   "outputs": [],
   "source": [
    "from spacy.tokens import Span\n",
    "\n",
    "def tokensfromdoc(doc):\n",
    "    d = nlp(doc)\n",
    "    matches = matcher(d)\n",
    "    for match_id, start, end in matches:\n",
    "        term = Span(d, start, end, label='myterms')\n",
    "        d.ents = list(d.ents) + [term]            \n",
    "    tokens = [w.lemma_ for w in d \n",
    "              # no pronouns\n",
    "              if w.pos_ != 'PRON'   \\\n",
    "              # no punctuations\n",
    "              and w.pos_ != 'PUNCT' \\\n",
    "              # not Beginning of a named entity\n",
    "              and w.ent_iob_ != 'B' \\\n",
    "              # not Inside a named entity\n",
    "              and w.ent_iob_ != 'I' \\\n",
    "              # not a stop word\n",
    "              and not w.is_stop]\n",
    "    tokens += [de.string.rstrip().replace(' ', '_') for de in d.ents]  \n",
    "    return tokens\n",
    "\n",
    "def dictokens(corpora):\n",
    "    d = {}\n",
    "    for j, dok in enumerate(corpora.keys()):\n",
    "        for t in tokensfromdoc(corpora[dok]):\n",
    "            d[t] = d.setdefault(t, [])\n",
    "            d[t] += [j]\n",
    "    return d"
   ]
  },
  {
   "cell_type": "markdown",
   "metadata": {},
   "source": [
    "The above function `dictokens` makes a dictionary with lemmatized words as keys and document numbers as values. This can be used to make the term-document matrix as we did for the initial example."
   ]
  },
  {
   "cell_type": "code",
   "execution_count": null,
   "metadata": {},
   "outputs": [],
   "source": [
    "def tdmatrix(d, corpora):    \n",
    "    A = lil_matrix((len(d.keys()), len(corpora.keys())), dtype=int)\n",
    "    for i, t in enumerate(d.keys()):\n",
    "        for j in d[t]:\n",
    "            A[i, j] = 1   \n",
    "    return A"
   ]
  },
  {
   "cell_type": "code",
   "execution_count": null,
   "metadata": {},
   "outputs": [],
   "source": [
    "d = dictokens(c)"
   ]
  },
  {
   "cell_type": "code",
   "execution_count": null,
   "metadata": {},
   "outputs": [],
   "source": [
    "d = dictokens(c)\n",
    "A = tdmatrix(d, c)\n",
    "Adf = pd.DataFrame(A.toarray(), index=d.keys(), columns=c.keys())"
   ]
  },
  {
   "cell_type": "markdown",
   "metadata": {},
   "source": [
    "This array is now a bit too big to meaningfully display here, but here are a few elements of one row, which now displays the droneship name as a single token."
   ]
  },
  {
   "cell_type": "code",
   "execution_count": null,
   "metadata": {},
   "outputs": [],
   "source": [
    "Adf.loc[['Of_Course_I_Still_Love_You'], 'NYTimes':].T"
   ]
  },
  {
   "cell_type": "markdown",
   "metadata": {},
   "source": [
    "## Queries and retrieval"
   ]
  },
  {
   "cell_type": "markdown",
   "metadata": {},
   "source": [
    "Returning to the question of information retrieval posed at the beginning of the lecture, let's consider how to handle queries. *Free text query*, is a form of query popular on internet searches, where query terms are typed in without any connecting operators.  Query terms can be any collection of words extracted from the corpus. A query vector can be made by taking the mean of these query word vectors and normalizing it to a unit vector. (Again this is not  a foolproof strategy,  but it is a simple prescription that often works well.) The cosine separation between the query vector and each document vector is then computed. The most relevant documents are considered to be the ones that make the smallest angle with the query vector, so they are returned first in the output list. Here is a quick implementation  suitable for small datatsets."
   ]
  },
  {
   "cell_type": "code",
   "execution_count": null,
   "metadata": {},
   "outputs": [],
   "source": [
    "def retrieve(querytokns, W, Vt, c):\n",
    "\n",
    "    \"\"\"Given a list of query word token numbers \"querytokns\",\n",
    "    all words vectors \"W\"  and all document vectors \"Vt.T\"\n",
    "    extracted from a corpus c, retrieve the documents\n",
    "    relevant to the query. \"\"\"\n",
    "\n",
    "    q = W[querytokns, :].mean(axis=0)\n",
    "    nrm = norm(q)\n",
    "    q /= nrm\n",
    "    idx = np.argsort(Vt.T @ q)[::-1]\n",
    "    kl = list(c.keys())\n",
    "    keys = [kl[i] for i in idx]\n",
    "    docs = [c[k] for k in keys]\n",
    "    return docs, keys, idx"
   ]
  },
  {
   "cell_type": "markdown",
   "metadata": {},
   "source": [
    "To use this on our current corpus example, let's make the word and document vectors first. "
   ]
  },
  {
   "cell_type": "code",
   "execution_count": null,
   "metadata": {},
   "outputs": [],
   "source": [
    "uu, ss, vvt = svd(A.toarray())   # SVD & rank k approximation\n",
    "k = 4\n",
    "U = uu[:, :k]; S = ss[:k]; \n",
    "Vt = vvt[:k, :]                  # Document vectors\n",
    "W = uu[:, :k] @ np.diag(ss[:k])  # Word vectors "
   ]
  },
  {
   "cell_type": "markdown",
   "metadata": {},
   "source": [
    "Here is an example of a query with two words, `astronaut` and `first`, and the first three matching documents generated by the above strategy."
   ]
  },
  {
   "cell_type": "code",
   "execution_count": null,
   "metadata": {},
   "outputs": [],
   "source": [
    "myquery = np.where((Adf.index=='astronaut') | (Adf.index=='first'))[0]\n",
    "docs, keys, idx = retrieve(myquery, W, Vt, c)\n",
    "docs[:3]"
   ]
  },
  {
   "cell_type": "markdown",
   "metadata": {},
   "source": [
    "The first result has both search words, while the other two has one of the two search words. Below is another example, where somewhat surprisingly, a document without the query word (but certainly what we would consider a relevant document) is listed within the top three matches."
   ]
  },
  {
   "cell_type": "code",
   "execution_count": null,
   "metadata": {},
   "outputs": [],
   "source": [
    "myquery = np.where(Adf.index=='droneship')[0]\n",
    "docs, keys, idx = retrieve(myquery, W, Vt, c)\n",
    "docs[:3]"
   ]
  },
  {
   "cell_type": "markdown",
   "metadata": {},
   "source": [
    "<br> \n",
    "\n",
    "Let me conclude this introduction to the subject of text analysis and information retrieval by noting that the concept of mapping words to vectors is finding increasingly significant uses, such as in automatic translation. I have tried to present ideas in  minimal examples, but you should be aware that there are many extensions in the literature. Some extensions are easy to see as emerging from computational experience. An example is a generalization that we will see in the exercises that modifies the term-document matrix to account for the number of times a term occurs in a document. The resulting matrix will have frequency-weighted entries, not just 0 and 1 as above. This is built into  scikit-learn's text analysis facilities,  which we shall use in the exercise."
   ]
  },
  {
   "cell_type": "markdown",
   "metadata": {},
   "source": [
    "\n",
    "\n",
    "\n",
    "<hr>\n",
    "\n",
    "<span style=\"color:rgb(106,127,16); font-size:8pt\">Author:</span> [<span style=\"color:rgb(106,127,16); font-size:8pt\">Jay Gopalakrishnan</span>](http://web.pdx.edu/~gjay/) \n",
    "<br><span style=\"color:rgb(106,127,16); font-size:8pt\">License:</span> [<span style=\"color:rgb(106,127,16) ; font-size:8pt\">&copy;2020. CC-BY-SA</span>](https://creativecommons.org/licenses/by-sa/4.0/legalcode)\n",
    "<br>[<span style=\"color:rgb(106,127,16) ; font-size:8pt\">$<$Table of Contents</span>](./TOC.ipynb)\n",
    "\n",
    "\n",
    " \n",
    "\n"
   ]
  }
 ],
 "metadata": {
  "kernelspec": {
   "display_name": "Python 3",
   "language": "python",
   "name": "python3"
  },
  "language_info": {
   "codemirror_mode": {
    "name": "ipython",
    "version": 3
   },
   "file_extension": ".py",
   "mimetype": "text/x-python",
   "name": "python",
   "nbconvert_exporter": "python",
   "pygments_lexer": "ipython3",
   "version": "3.8.0"
  }
 },
 "nbformat": 4,
 "nbformat_minor": 2
}
