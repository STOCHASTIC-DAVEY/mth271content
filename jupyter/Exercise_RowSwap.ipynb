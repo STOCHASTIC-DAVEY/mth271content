{
 "cells": [
  {
   "cell_type": "markdown",
   "metadata": {
    "ein.tags": "worksheet-0",
    "slideshow": {
     "slide_type": "-"
    }
   },
   "source": [
    "___\n",
    "\n",
    "\n",
    "# Exercise: Row swap\n",
    "\n",
    "**Task:** Consider the following simple python code to interchange rows `i` and `j` of a numpy array `A`."
   ]
  },
  {
   "cell_type": "code",
   "execution_count": 1,
   "metadata": {
    "autoscroll": false,
    "ein.hycell": false,
    "ein.tags": "worksheet-0",
    "slideshow": {
     "slide_type": "-"
    }
   },
   "outputs": [],
   "source": [
    "def swaprow(i, j, A):\n",
    "    tmp = A[i, :]  \n",
    "    A[i, :] = A[j, :]\n",
    "    A[j, :] = tmp     "
   ]
  },
  {
   "cell_type": "markdown",
   "metadata": {
    "ein.tags": "worksheet-0",
    "slideshow": {
     "slide_type": "-"
    }
   },
   "source": [
    "If there are problems with this (correctness? efficiency? elegance? brevity?), explain them, and produce a better function.  (Please do check for correctness before you check anything else.)"
   ]
  }
 ],
 "metadata": {
  "kernelspec": {
   "display_name": "Python 3",
   "language": "python",
   "name": "python3"
  },
  "language_info": {
   "codemirror_mode": {
    "name": "ipython",
    "version": 3
   },
   "file_extension": ".py",
   "mimetype": "text/x-python",
   "name": "python",
   "nbconvert_exporter": "python",
   "pygments_lexer": "ipython3",
   "version": "3.8.0"
  },
  "name": "Exercise_RowSwap.ipynb"
 },
 "nbformat": 4,
 "nbformat_minor": 2
}
