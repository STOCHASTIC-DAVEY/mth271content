{
 "cells": [
  {
   "cell_type": "markdown",
   "metadata": {},
   "source": [
    "___\n",
    "\n",
    "\n",
    "# Exercise: $k$ Nearest Neighbors\n",
    "___\n",
    "\n",
    "**Task 1:** Write a function that finds, given a finite set of points in the plane and an integer $k$,  the $k$ nearest neighbors of each point in the set using numpy's vectorized facilities.  "
   ]
  },
  {
   "cell_type": "markdown",
   "metadata": {},
   "source": [
    "**Task 2:** Apply your function to this set of points with $k=3$. Plot an arrow from each point to its $k$-nearest neighbors.  "
   ]
  },
  {
   "cell_type": "code",
   "execution_count": 1,
   "metadata": {},
   "outputs": [],
   "source": [
    "import numpy as np\n",
    "\n",
    "P = np.array([[0,0], [0.2, 0.22], [0.1, -0.1],\n",
    "              [1,1], [1.1, 0.9], [0.8, 0.9], [1.1, 0.63],\n",
    "              [0.58, -0.1], [0.63, 0.1], [0.67, -0.3], [0.8,-0.23],\n",
    "              [0.8, 0.6]])\n",
    "k = 3"
   ]
  },
  {
   "cell_type": "markdown",
   "metadata": {},
   "source": [
    "<img src=\"../figs/knearex.png\">"
   ]
  }
 ],
 "metadata": {
  "kernelspec": {
   "display_name": "Python 3",
   "language": "python",
   "name": "python3"
  },
  "language_info": {
   "codemirror_mode": {
    "name": "ipython",
    "version": 3
   },
   "file_extension": ".py",
   "mimetype": "text/x-python",
   "name": "python",
   "nbconvert_exporter": "python",
   "pygments_lexer": "ipython3",
   "version": "3.8.0"
  }
 },
 "nbformat": 4,
 "nbformat_minor": 2
}
