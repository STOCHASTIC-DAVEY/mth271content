{
 "cells": [
  {
   "cell_type": "markdown",
   "metadata": {},
   "source": [
    "# <span style=\"color:rgb(106,127,16)\">The SEIR  model of infectious diseases </span>\n",
    "\n",
    "\n",
    "<div style=\"text-align: right\"><span style=\"color:rgb(106,127,16)\">April 22, 2020\n",
    "    </span></div>\n",
    "<br>\n",
    "\n",
    "\n",
    "\n"
   ]
  },
  {
   "cell_type": "markdown",
   "metadata": {},
   "source": [
    "\n",
    "Recent news of COVID-19 has brought to our attention the stories of the many earlier pandemics the world has seen. A classic case is a strain of influenza that invaded New York City during 1968-1969, then dubbed the Hong Kong flu. The following data (from  [[DM]](https://www.maa.org/press/periodicals/loci/joma/the-sir-model-for-spread-of-disease-background-hong-kong-flu)) shows the number of deaths that winter in New York City believed to be due to this flu."
   ]
  },
  {
   "cell_type": "code",
   "execution_count": null,
   "metadata": {
    "scrolled": true
   },
   "outputs": [],
   "source": [
    "import matplotlib.pyplot as plt\n",
    "%matplotlib inline\n",
    "import seaborn; seaborn.set();\n",
    "plt.bar(range(1,14), [14, 28, 50, 66, 156, 190, 156, 108, 68, 77, 33, 65, 24])\n",
    "plt.xlabel('Week'); plt.ylabel('Excess deaths'); plt.xticks(range(1,14)); plt.title('1968-69 Influenza in New York City');"
   ]
  },
  {
   "cell_type": "markdown",
   "metadata": {},
   "source": [
    "Notice how the data from Week 1 to Week 13 roughly fits into a bell-shaped curve. You have, by now, no doubt heard enough times that we all must do our part to *flatten the curve.* The bell-shaped curve, which has been identified in many disease progressions, is the curve we want to flatten. Some **mathematical models** of epidemic evolution, for instance  the well-known \"SIR model\" discussed in [[DM]](https://www.maa.org/press/periodicals/loci/joma/the-sir-model-for-spread-of-disease-background-hong-kong-flu),  produces such bell curves.  Flattening the curve can then be interpreted as bringing relevant model parameters into a range that produces a shallow bell.\n",
    "\n",
    "\n",
    "Mathematical models are often used as tools for prediction.  However, we should be wary that models only approximate a few features of reality, and only when realistic parameter values (which are often missing) are supplied. Yet, as the saying goes, [\"All models are wrong, but some are useful.\"](https://en.wikipedia.org/wiki/All_models_are_wrong) Even if a model is far away from the \"truth\", the \"whole truth\", it helps us understand the process being modeled by  revealing the consequences of various hypotheses.\n",
    "\n",
    "\n",
    "In this activity, we will study a mathematical model called the *SEIR model of infectious disease progression.* In the last few weeks, many researchers have been furiously working to fit the emerging COVID-19 data into variants of the SEIR model.  A number of contributions can be viewed at the [Bulletin of World Health Organization (WHO)](https://www.who.int/bulletin/en/) which now maintains a special [COVID-19 Open](https://www.who.int/bulletin/online_first/COVID-19/en/) archive.\n",
    "\n",
    "\n",
    "A number that emerges from models like the SIR or the SEIR model, called $R_0$, or the *basic reproduction number* often makes its appearance in popular science. It is even explained in a film from 2011 called the [Contagion](https://en.wikipedia.org/wiki/Contagion_(2011_film)), which has now gained in popularity in view of its almost prescient plot. The *epidemiological definition of $R_0$* is the average number of secondary cases produced by one infected individual introduced into a population entirely of susceptible individuals. One suspects from this definition that if $R_0>1$, then there will be an epidemic outbreak. We will see that this number also naturally emerges from a mathematical model. A quite [readable review  of $R_0$](https://www.ncbi.nlm.nih.gov/pmc/articles/PMC6002118/) (written before the COVID-19 pandemic) gives an $R_0$ of 14.5 for a measles outbreak in Ghana in the sixties. By all current accounts, the $R_0$ for COVID-19 appears to be between 2 and 3."
   ]
  },
  {
   "cell_type": "markdown",
   "metadata": {},
   "source": [
    "## Construction of the SEIR model\n",
    "\n",
    "\n",
    "The SEIR model divides the population into four categories, called \"S\", \"E\", \"I\", and \"R\". \n",
    "- Category \"S\" consists of individuals who are susceptible to the disease being modeled. \n",
    "- Category \"E\" consists of individuals who are exposed to the disease. Diseases (like COVID-19) often have an incubation period or a latency period and this category accommodates it. (The SIR model does not have this category.) \n",
    "- Category \"I\" consists of individuals infected with the disease and are capable of infecting others.  \n",
    "- Category \"R\" consists of individuals who can be removed from the system, e.g., because they have gained immunity to the disease, or because they have succumbed to the disease."
   ]
  },
  {
   "cell_type": "markdown",
   "metadata": {},
   "source": [
    "<img src=\"../figs/seir.png\" style=\"width: 600px;\">"
   ]
  },
  {
   "cell_type": "markdown",
   "metadata": {},
   "source": [
    "The model then postulates rules on how populations in each category can move to other categories. Let us consider the following simple set of rules."
   ]
  },
  {
   "cell_type": "markdown",
   "metadata": {},
   "source": [
    "- Assume that individuals move from S to E at the *exposure rate* $\\lambda$, i.e., the population in category S *decreases* with respect to time $t$ at the rate  $\\lambda \\times S$ and the population in E correspondingly *increases* at  the same rate:\n",
    "$$\n",
    "\\begin{aligned}\n",
    "\\frac{dS}{dt} & = -\\lambda S + \\cdots \n",
    "\\\\\n",
    "\\frac{dE}{dt} & = +\\lambda S + \\cdots\n",
    "\\end{aligned}\n",
    "$$\n",
    "where \"$\\cdots$\" serves  to remind us that there may be other unmodeled factors. In this discussion, the *number* of individuals in each category (S, E, etc.) is denoted in italic type by the same letter ($S, E$ etc.).\n",
    " \n",
    "- The exposure rate $\\lambda$ should grow with $I$, the number of infected individuals.  A standard hypothesis is that $\\lambda$ is the product of the **transmission rate** (or the *rate of contact*) $\\beta$ and the probability of infection given that contact occurred, which is $I / N$ in a *total population of $N$ individuals*, i.e., \n",
    "\n",
    "$$\n",
    "\\lambda = \\frac{\\beta \\, I}{N}.\n",
    "$$\n",
    "\n",
    "- The **incubation rate** $\\sigma$ is the rate at which exposed hosts become infected, i.e., \n",
    "\n",
    "$$\n",
    "\\begin{alignat*}{4}\n",
    "\\frac{dE}{dt} & = +\\lambda S &- \\sigma E + \\cdots\n",
    "\\\\\n",
    "\\frac{dI}{dt} & = & + \\sigma E  + \\cdots\n",
    "\\end{alignat*}\n",
    "$$\n",
    "\n",
    "- The **recovery rate** $\\gamma$ is the rate at which infected individuals move to the R category:\n",
    "\n",
    "\n",
    "$$\n",
    "\\begin{alignat*}{4}\n",
    "\\frac{dI}{dt} & = + \\sigma E   & - \\gamma I + \\cdots\n",
    "\\\\\n",
    "\\frac{dR}{dt} & =             & + \\gamma I  + \\cdots\n",
    "\\end{alignat*}\n",
    "$$"
   ]
  },
  {
   "cell_type": "markdown",
   "metadata": {},
   "source": [
    "Collecting the above-derived equations (and omitting the unknown/unmodeled \"$\\cdots$\"), we have the following basic SEIR model system: \n",
    "\n",
    "\n",
    "$$\n",
    "\\begin{aligned}\n",
    "\\frac{dS}{dt} & = -\\frac{\\beta \\, I}{N} S,\n",
    "\\\\\n",
    "\\frac{dE}{dt} & = \\frac{\\beta \\, I}{N}  S - \\sigma E,\n",
    "\\\\\n",
    "\\frac{dI}{dt} & =  \\sigma E   - \\gamma I \n",
    "\\\\\n",
    "\\frac{dR}{dt} & =              \\gamma I  \n",
    "\\end{aligned}\n",
    "$$\n",
    "\n",
    "The three critical parameters in the model are $\\beta, \\sigma,$ and $\\gamma$.\n",
    "\n",
    "\n",
    "Note that we have left several features *unmodeled*:  exposed individuals in \"E\" might contribute to $\\lambda$ to spread the infection; some exposed individuals in \"E\" might move directly to the \"R\" category; some infected individuals in category \"I\" might not gain perfect immunity and so may move back to susceptible category \"S.\" Despite these limitations, even this basic SEIR model can provide some useful insights on the disease evolution."
   ]
  },
  {
   "cell_type": "markdown",
   "metadata": {},
   "source": [
    "## Initial value problem"
   ]
  },
  {
   "cell_type": "markdown",
   "metadata": {},
   "source": [
    "A system of ordinary differential equations (ODE) like the above, together with initial conditions (at the model starting time $t=0$), make up an *initial value problem*, or  **IVP**. Before we see how to solve an IVP, let us make a simplification. The total population $N$ in the system (the sum of individuals in all categories) is likely to be a huge number. Instead of working with such large numbers, let us divide each side of each equation by $N$ and work instead with the proportions\n",
    "$$\n",
    "s = \\frac{S}{N}, \\quad e = \\frac{E}{N}, \\quad i = \\frac{I}{N}, \\quad r =\\frac{R}{N}.\n",
    "$$\n",
    "\n",
    "The equivalent ODE system to be solved has now become \n",
    "$$\n",
    "\\begin{aligned}\n",
    "\\frac{ds}{dt} & = -\\beta \\, i \\, s ,\n",
    "\\\\\n",
    "\\frac{de}{dt} & = \\beta \\, i \\, s - \\sigma \\,e,\n",
    "\\\\\n",
    "\\frac{di}{dt} & =  \\sigma \\, e   - \\gamma\\, i \n",
    "\\\\\n",
    "\\frac{dr}{dt} & =              \\gamma \\, i.\n",
    "\\end{aligned}\n",
    "$$\n",
    "When supplemented with some initial conditions, say \n",
    "$$\n",
    "s(0) = 0.99, \\quad e(0) = 0.01, \\quad i(0) = 0, \\quad r(0) = 0, \n",
    "$$\n",
    "we have completed our formulation of the IVP to be solved. Note that  the above initial conditions correspond to a starting scenario where just 1% of the population is exposed."
   ]
  },
  {
   "cell_type": "markdown",
   "metadata": {},
   "source": [
    "## Solving the IVP using `scipy` module"
   ]
  },
  {
   "cell_type": "code",
   "execution_count": null,
   "metadata": {},
   "outputs": [],
   "source": [
    "from scipy.integrate import solve_ivp\n",
    "import numpy as np"
   ]
  },
  {
   "cell_type": "markdown",
   "metadata": {},
   "source": [
    "Scipy's `integrate` module provides a `solve_ivp` facility for solving IVPs like the above. The facility assumes you have an IVP of the form \n",
    "$$\n",
    "\\begin{aligned}\n",
    "\\frac{d\\vec{Y}}{dt} &= \\vec{f} (t, \\vec{Y}), && \\qquad t_0  \\le t \\le t_1,\n",
    "\\\\\n",
    "\\vec{Y}(t_0) & = \\vec{Y}_0, && \\qquad t = t_0,\n",
    "\\end{aligned}\n",
    "$$\n",
    "where you know the function $\\vec{f}: [t_0, t_1]  \\times \\mathbb{R}^n \\to \\mathbb{R}^n$ and the initial data $\\vec{Y}_0$. It can then compute an approximation of the solution $\\vec{Y}(t)$ for $t$ in the interval $[t_0, t_1]$ using numerical ODE solvers that you might learn about if you take a numerical analysis course. Type in `help(solve_ivp)` into a cell to get more information on how to use this function. "
   ]
  },
  {
   "cell_type": "markdown",
   "metadata": {},
   "source": [
    "Let us apply this to the SEIR model. To fit to the  setting required for `solve_ivp`, we put \n",
    "$$\n",
    "\\vec Y = \n",
    "\\begin{bmatrix}\n",
    "s \\\\ e \\\\ i \\\\ r\n",
    "\\end{bmatrix}\n",
    "$$\n",
    "and \n",
    "$$\n",
    " \\vec{f} (t, \\vec{Y}) = \n",
    " \\begin{bmatrix}\n",
    "-\\beta \\, i \\, s ,\n",
    "\\\\\n",
    " \\beta \\, i \\, s - \\sigma \\,e,\n",
    "\\\\\n",
    " \\sigma \\, e   - \\gamma\\, i \n",
    "\\\\\n",
    " \\gamma \\, i\n",
    "\\end{bmatrix}.\n",
    "$$\n",
    "We have to give this $\\vec f$ as a function argument to `solve_ivp`. Let's first define this $\\vec f$, called `seir_f` in the code below, keeping in mind that we also need to provide some values of $\\beta, \\sigma,$ and $\\gamma$ before we can solve it. We pass these values as additional arguments to `seir_f`. "
   ]
  },
  {
   "cell_type": "code",
   "execution_count": null,
   "metadata": {},
   "outputs": [],
   "source": [
    "def seir_f(t, y, beta, sigma, gamma):\n",
    "    s, e, i, r = y\n",
    "    return np.array([-beta * i * s,\n",
    "                     -sigma * e + beta * i * s, \n",
    "                     -gamma * i + sigma * e, \n",
    "                     gamma * i])"
   ]
  },
  {
   "cell_type": "code",
   "execution_count": null,
   "metadata": {},
   "outputs": [],
   "source": [
    "# try some parameter values\n",
    "beta = 1\n",
    "sigma = 1\n",
    "gamma = 0.1"
   ]
  },
  {
   "cell_type": "markdown",
   "metadata": {},
   "source": [
    "Following the documentation from `help(solve_ivp)` we now proceed to solve by calling `solve_ivp` as follows."
   ]
  },
  {
   "cell_type": "code",
   "execution_count": null,
   "metadata": {},
   "outputs": [],
   "source": [
    "sol = solve_ivp(seir_f, [0, 60], [0.99, 0.01, 0, 0], \n",
    "                rtol=1e-6, args=(beta, sigma, gamma))"
   ]
  },
  {
   "cell_type": "markdown",
   "metadata": {},
   "source": [
    "Examining the resulting solution object `sol` you will notice that it has a numpy array as its data member `sol.y` containing the values of the computed  solution $\\vec Y (t)$  at values of `t` contained in another data member `sol.t`. We can easily send these arrays to the `matplotlib` module to get a plot of the solution."
   ]
  },
  {
   "cell_type": "code",
   "execution_count": null,
   "metadata": {},
   "outputs": [],
   "source": [
    "fig = plt.figure(); ax = fig.gca()\n",
    "curves = ax.plot(sol.t, sol.y.T)\n",
    "ax.legend(curves, ['S', 'E', 'I', 'R']);"
   ]
  },
  {
   "cell_type": "markdown",
   "metadata": {},
   "source": [
    "As you can see, even with 1% exposed population, the number of infections rapidly rise. However, with more time, they begin to fall, making for a bell-shaped curve, like the one from the previously mentioned New York City data."
   ]
  },
  {
   "cell_type": "markdown",
   "metadata": {},
   "source": [
    "## Parameter study"
   ]
  },
  {
   "cell_type": "markdown",
   "metadata": {},
   "source": [
    "Having a function to compute and plot $E$ and $I$ together makes it easy to study the variations in solutions with respect to the three parameters. Let's make such a function by putting together the previous steps."
   ]
  },
  {
   "cell_type": "code",
   "execution_count": null,
   "metadata": {},
   "outputs": [],
   "source": [
    "def plot_ei(beta=1, sigma=1, gamma=0.1, s0=0.99, e0=0.01, i0=0, r0=0, t1=60):\n",
    "\n",
    "    # apply ODE solver \n",
    "    sol = solve_ivp(seir_f, [0, t1], [s0, e0, i0, r0], rtol=1e-7,\n",
    "                    args=(beta, sigma, gamma))\n",
    "    \n",
    "    # plot I and E components \n",
    "    fig = plt.figure(); ax = fig.gca()\n",
    "    ax.plot(sol.t, sol.y[1, :].T, color='brown', linestyle='dashed', label='Exposed')\n",
    "    ax.plot(sol.t, sol.y[2, :].T, color='red', label='Infected')\n",
    "    ax.legend()\n",
    "\n",
    "    return ax"
   ]
  },
  {
   "cell_type": "code",
   "execution_count": null,
   "metadata": {},
   "outputs": [],
   "source": [
    "plot_ei();   # baseline with the default  parameters above"
   ]
  },
  {
   "cell_type": "code",
   "execution_count": null,
   "metadata": {},
   "outputs": [],
   "source": [
    "plot_ei(beta=0.5);    # what happens if beta is reduced?  "
   ]
  },
  {
   "cell_type": "code",
   "execution_count": null,
   "metadata": {},
   "outputs": [],
   "source": [
    "plot_ei(gamma=0.5);   # what happens if gamma is increased?  "
   ]
  },
  {
   "cell_type": "code",
   "execution_count": null,
   "metadata": {},
   "outputs": [],
   "source": [
    "plot_ei(sigma=0.1);   # what's the effect of sigma? "
   ]
  },
  {
   "cell_type": "markdown",
   "metadata": {},
   "source": [
    "## Equilibria"
   ]
  },
  {
   "cell_type": "markdown",
   "metadata": {},
   "source": [
    "In the study of evolution of dynamical systems like the SEIR model, equilibria play an important role. An *equilibrium state* is a value of the $\\vec Y $ (i.e., values of  $s, e, i,$ and $ r$) for which the rate of change $d\\vec Y/dt = 0$, i.e., if the system happens to enter an exact equilibrium, then it no longer changes.\n",
    "\n",
    "For our SEIR system, an equilibrium state $s, e, i, r$ satisfies \n",
    "$$\n",
    "\\begin{bmatrix}\n",
    "0 \\\\ 0 \\\\ 0 \\\\ 0\n",
    "\\end{bmatrix}\n",
    "= \\begin{bmatrix}\n",
    "-\\beta \\, i \\, s ,\n",
    "\\\\\n",
    " \\beta \\, i \\, s - \\sigma \\,e,\n",
    "\\\\\n",
    " \\sigma \\, e   - \\gamma\\, i \n",
    "\\\\\n",
    " \\gamma \\, i\n",
    "\\end{bmatrix}.\n",
    "$$\n",
    "You should be able to conclude (exercise!) that the only solutions for this system are of the form \n",
    "$$\n",
    "s \\equiv constant, \\quad e = i = 0, \\qquad r \\equiv constant.\n",
    "$$\n",
    "In other words, since $e=i=0$, all equilibria of our model are **disease-free equilibria**. This matches our previous observations from our simulations. After a transitional phase, where $i$ and $e$ increases and decreases per the bell-curve, the system settles into an equilibrium of the form above.   \n",
    "\n",
    "\n",
    "There are other scenarios where an infection persists and never quite disappears from the population. Such equilibria where the disease is endemic are sometimes called **endemic equilibria**.   \n",
    "\n",
    "As an example, suppose our model represents a city's population, and suppose **travel into and out of the city is allowed**. Then we must add terms that represent the *influx* of travelers in each category (the number of people entering minus the number of people leaving). Even if we assume  that infected people do not travel, a small influx into susceptible category S and exposed category E will disturb the disease-free equilibrium of our model. Let us add terms `a` and `b` representing these influxes and see what happens."
   ]
  },
  {
   "cell_type": "code",
   "execution_count": null,
   "metadata": {},
   "outputs": [],
   "source": [
    "def seir_f2(t, y, beta, sigma, gamma, a, b):\n",
    "    s, e, i, r = y\n",
    "    return np.array([-beta * i * s + a,\n",
    "                     -sigma * e + beta * i * s  + b, \n",
    "                     -gamma * i + sigma * e, \n",
    "                     gamma * i - (a + b)])\n",
    "\n",
    "def plot_ei2(beta=1, sigma=1, gamma=0.1, a=0.005, b=0.001, t1=150):\n",
    "    sol = solve_ivp(seir_f2, [0, t1], [0.99, 0.01, 0, 0], rtol=1e-7,\n",
    "                    args=(beta, sigma, gamma, a, b))\n",
    "    fig = plt.figure(); ax = fig.gca()\n",
    "    ax.plot(sol.t, sol.y[1, :].T, color='brown', linestyle='dashed', label='Exposed')\n",
    "    ax.plot(sol.t, sol.y[2, :].T, color='red', label='Infected')\n",
    "    ax.legend()"
   ]
  },
  {
   "cell_type": "code",
   "execution_count": null,
   "metadata": {},
   "outputs": [],
   "source": [
    "plot_ei2(a=0.005, b=0.001)"
   ]
  },
  {
   "cell_type": "markdown",
   "metadata": {},
   "source": [
    "As you can see from this output,  the percentage of the population with the disease now remains at around 5% and never quite vanishes, an example of an endemic equilibrium."
   ]
  },
  {
   "cell_type": "markdown",
   "metadata": {},
   "source": [
    "## The emergence of $R_0$"
   ]
  },
  {
   "cell_type": "markdown",
   "metadata": {},
   "source": [
    "The stability of equilibria is another important consideration in the study of dynamical systems. Loosely speaking, an equilibrium is considered stable if a solution, when perturbed from the equilibrium, moves back to it over time.  Returning to our simple model \n",
    "$$\n",
    "\\frac{d}{dt} \n",
    " \\begin{bmatrix}\n",
    " s \\\\ e \\\\ i \\\\ r\n",
    " \\end{bmatrix} = \n",
    " \\begin{bmatrix}\n",
    "-\\beta \\, i \\, s ,\n",
    "\\\\\n",
    " \\beta \\, i \\, s - \\sigma \\,e,\n",
    "\\\\\n",
    " \\sigma \\, e   - \\gamma\\, i \n",
    "\\\\\n",
    " \\gamma \\, i\n",
    "\\end{bmatrix}\n",
    "$$\n",
    "suppose we want to guess the stability of one of the previously discussed disease-free equilibrium states, \n",
    "$$\n",
    "s = s_0, \\quad  e = i = 0, \\quad r = r_0.\n",
    "$$\n",
    "where $s_0$ and $r_0$ are some constants.  Adding the $e$ and the $i$ equations, we observe that \n",
    "$$\n",
    "\\begin{aligned}\n",
    "\\frac{d (e + i)}{ d t}\n",
    "& = (\\beta \\,  s    - \\gamma)\\, i.\n",
    "\\end{aligned}\n",
    "$$\n",
    "Thus, despite a perturbation brought about by a small surge in the infected population  (resulting in a small positive $i$ value), if the above derivative is negative, i.e., if \n",
    "$$\n",
    "\\beta \\,  s_0    - \\gamma <0,\n",
    "$$ \n",
    "then, the value of $e+i$ will decrease to its equilibrium value. This simple argument already hints at the relevance of the number \n",
    "$$\n",
    "R_0 = \\frac{\\beta}{\\gamma}s_0,\n",
    "$$\n",
    "which is the basic reproductive number for this model. In some texts, $R_0$ is defined (to match the epidemiological definition) using an initial population that is 100% susceptible, in which case $s_0=1$ and \n",
    "$\n",
    "R_0 = \\beta/\\gamma.\n",
    "$"
   ]
  },
  {
   "cell_type": "markdown",
   "metadata": {},
   "source": [
    "\n",
    "\n",
    "\n",
    "The argument sketched above was not a proof that the system will return to the disease-free equilibrium, but rather  a sketch to show you why $R_0$ naturally emerges from the model, using only the calculus tools you have already studied.  (Nonetheless, one can indeed rigorously prove that if $R_0 < 1$, the disease-free equilibrium is stable, see e.g., [[HSW]](https://royalsocietypublishing.org/doi/pdf/10.1098/rsif.2005.0042).)"
   ]
  },
  {
   "cell_type": "markdown",
   "metadata": {},
   "source": [
    "## The effect of $R_0$: outbreak or no outbreak\n",
    "\n",
    "\n",
    "The simple argument sketched above shows that if $R_0 = \\beta s_0/ \\gamma >1$ then $e+i$ will increase (at least for some time), while if $R_0 <1$, then $e+i$ will decrease. Let us return to the code and examine the results from the model to see if there is agreement. \n",
    "\n",
    "Here is an example where $R_0 = \\beta s_0/ \\gamma < 1$.  "
   ]
  },
  {
   "cell_type": "code",
   "execution_count": null,
   "metadata": {},
   "outputs": [],
   "source": [
    "plot_ei(beta=0.6, gamma=1, s0=0.9, i0=0.1);"
   ]
  },
  {
   "cell_type": "markdown",
   "metadata": {},
   "source": [
    "Clearly,  the infected population, despite a positive bump in infections,  decays as seen below. In other words, when $R_0<1$ *there is no outbreak*."
   ]
  },
  {
   "cell_type": "markdown",
   "metadata": {},
   "source": [
    "\n",
    "\n",
    "Next, consider an example where $R_0 >1$. "
   ]
  },
  {
   "cell_type": "code",
   "execution_count": null,
   "metadata": {
    "scrolled": true
   },
   "outputs": [],
   "source": [
    "plot_ei(beta=1, gamma=0.5, s0=0.9, i0=0.1);"
   ]
  },
  {
   "cell_type": "markdown",
   "metadata": {},
   "source": [
    "This output clearly shows  that the small percentage of introduced infections rapidly increase. The system eventually goes on to attain (the only) disease-free equilibrium, but only after inflicting some damage.  Summarizing,  *when $R_0 >1,$ we can expect an epidemic outbreak.*"
   ]
  },
  {
   "cell_type": "markdown",
   "metadata": {},
   "source": [
    "\n",
    "Regarding the **impact of vaccinations** (provided a vaccine exists) the model does have something to say. If a fraction, say $v$, of the population is vaccinated, then that population moves directly from the $s$ category to the $r$ category. Therefore, changing $s_0$ to $s_0(1-v)$, we see that $R_0$  reduces to    $R_0 = \\beta s_0 (1- v) / \\gamma$. A vaccine would therefore be effective to prevent an epidemic outbreak if enough people are vaccinated, i.e., if $v$ is sufficiently large in order to bring $R_0$ under  1. "
   ]
  },
  {
   "cell_type": "markdown",
   "metadata": {},
   "source": [
    "## Application to COVID-19"
   ]
  },
  {
   "cell_type": "markdown",
   "metadata": {},
   "source": [
    "There are a number of difficulties  in applying the SEIR model to the COVID-19 epidemic we are now facing. One difficulty is in applying it to a single country: we would have to carefully develop terms that model inflow due to travel to/from the country. Of course, this problem disappears if we consider the entire world as our system. But other problems remain. As you must have heard in the news,  we now suspect that  exposed individuals in E category, who are not symptomatic, might be spreading the infection (i.e., $\\lambda$ might depend not only on $I$, but also on $E$).  Our model does not take this into account. Although we can easily add terms to model this, without accurate testing of both symptomatic and asymptomatic populations, it is impossible to conclude the required parameter values. Notwithstanding these (significant) limitations, we can forge ahead to see what a simulation would give us, provided we can gather some data on the remaining parameter values. \n",
    "\n",
    "[A recent submission](http://dx.doi.org/10.2471/BLT.20.255695) to the  Bulletin of WHO uses an $R_0$ of $2.2$, which was [reported in an earlier paper](https://www.nejm.org/doi/full/10.1056/NEJMoa2001316), published in January 2020, in the New England Journal of Medicine. Other reported values now found in the internet seem to be  higher. (Inexact parameter values are indeed one of the difficulties in dealing with real-word problems.) Nonetheless, let us continue with $R_0 = \\beta/\\gamma = 2.2$. Let us also use the values of $\\sigma$ and $\\gamma$ that [others](http://dx.doi.org/10.2471/BLT.20.255695)  have used:\n",
    "\n",
    "- $\\sigma = 1/5.2$ $\\text{days}^{-1}$,\n",
    "- $\\gamma = 1/2.3$ $\\text{days}^{-1}$,  \n",
    "- $\\beta = R_0 \\gamma = 2.2 \\gamma.$\n"
   ]
  },
  {
   "cell_type": "markdown",
   "metadata": {},
   "source": [
    "\n",
    "Finally, let us additionally assume a scenario where 0.02% of the world's  population is  infected at the start of the simulation, and thrice that many are exposed. (The current number of active infections worldwide appear to be around 0.02% of the world's population.) Here are the outputs of the simulation under these values."
   ]
  },
  {
   "cell_type": "code",
   "execution_count": null,
   "metadata": {},
   "outputs": [],
   "source": [
    "ax = plot_ei(beta=2.2/2.3, sigma=1/5.2, gamma=1/2.3, i0=0.02/100, e0=3*0.02/100, t1=100)\n",
    "ax.set_xlabel('days'); ax.set_ylabel('population fraction');"
   ]
  },
  {
   "cell_type": "markdown",
   "metadata": {},
   "source": [
    "These output curves seem to suggest that the infection will proceed well into the next two months before subsiding.\n",
    "\n",
    "\n",
    "The social distancing and other governmental measures that we are now practicing can be viewed from the perspective of this simple SEIR model. They are designed to reduce the transmission rate $\\beta$.  Please go ahead and experiment to see what you get with lower beta values you might imagine. You will see that lowering $\\beta$ has two effects: \n",
    "\n",
    "- it reduces the peak value of the curves (multiply the percentage value by the world's population $\\approx$ 7.5 billion, to see the effect in terms of the reduction in number of people affected), and \n",
    "\n",
    "- it moves the location of the infection peak farther out in time (i.e.,  the infection persists longer but in lower numbers).\n"
   ]
  },
  {
   "cell_type": "markdown",
   "metadata": {},
   "source": [
    "\n",
    "\n",
    "<hr>\n",
    "\n",
    "\n",
    "\n",
    "\n",
    "<span style=\"color:rgb(106,127,16); font-size:8pt\">These materials were created by</span> [<span style=\"color:rgb(106,127,16); font-size:8pt\">Jay Gopalakrishnan</span>](http://web.pdx.edu/~gjay/) <span style=\"color:rgb(106,127,16); font-size:8pt\">for a sophomore course (MTH 271) offered during the Spring 2020 quarter at Portland State University, and are made available under the</span> [<span style=\"color:rgb(106,127,16) ; font-size:8pt\">CC-BY-SA license</span>](https://creativecommons.org/licenses/by-sa/4.0/legalcode).\n",
    " \n",
    "\n",
    "\n",
    "\n",
    "\n",
    "\n"
   ]
  }
 ],
 "metadata": {
  "kernelspec": {
   "display_name": "Python 3",
   "language": "python",
   "name": "python3"
  },
  "language_info": {
   "codemirror_mode": {
    "name": "ipython",
    "version": 3
   },
   "file_extension": ".py",
   "mimetype": "text/x-python",
   "name": "python",
   "nbconvert_exporter": "python",
   "pygments_lexer": "ipython3",
   "version": "3.8.0"
  }
 },
 "nbformat": 4,
 "nbformat_minor": 2
}
