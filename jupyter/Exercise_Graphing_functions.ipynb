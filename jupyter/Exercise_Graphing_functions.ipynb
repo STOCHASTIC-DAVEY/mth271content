{
 "cells": [
  {
   "cell_type": "markdown",
   "metadata": {},
   "source": [
    "___\n",
    "\n",
    "\n",
    "# Exercise: Graphing  functions\n",
    "___\n",
    "\n",
    "\n",
    "This exercise is to double-check that you learnt the basic usage of numpy and matplotlib.\n",
    "\n"
   ]
  },
  {
   "cell_type": "code",
   "execution_count": 1,
   "metadata": {},
   "outputs": [],
   "source": [
    "import matplotlib.pyplot as plt\n",
    "import numpy as np\n",
    "%matplotlib notebook"
   ]
  },
  {
   "cell_type": "markdown",
   "metadata": {},
   "source": [
    "#### Task 1: Graph a function of one variable\n",
    "\n",
    "Plot the graph of $\\sin(x)$ for $x$ in the interval $[0,10].$\n",
    "\n",
    "#### Task 2: Graph a function of two variables\n",
    "\n",
    "\n",
    "Plot the graph of $\\cos(\\sqrt{x^2 + y^2})$ for $(x, y) \\in [-5,5] \\times [-5,5]$.\n"
   ]
  }
 ],
 "metadata": {
  "kernelspec": {
   "display_name": "Python 3",
   "language": "python",
   "name": "python3"
  },
  "language_info": {
   "codemirror_mode": {
    "name": "ipython",
    "version": 3
   },
   "file_extension": ".py",
   "mimetype": "text/x-python",
   "name": "python",
   "nbconvert_exporter": "python",
   "pygments_lexer": "ipython3",
   "version": "3.8.0"
  }
 },
 "nbformat": 4,
 "nbformat_minor": 2
}
