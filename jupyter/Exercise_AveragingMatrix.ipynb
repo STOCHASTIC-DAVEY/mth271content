{
 "cells": [
  {
   "cell_type": "markdown",
   "metadata": {},
   "source": [
    "___\n",
    "\n",
    "\n",
    "# Exercise: Averaging matrix\n",
    "\n",
    "\n",
    "**Task:** Make an $n \\times n$  matrix whose entries on the diagonal, $k$ superdiagonals, and $k$ subdiagonals, are one, and whose remaining entries are zero. E.g., for $k=2$ and $n=6$, the matrix looks like \n",
    "```\n",
    "      [[1., 1., 1., 0., 0., 0.],\n",
    "       [1., 1., 1., 1., 0., 0.],\n",
    "       [1., 1., 1., 1., 1., 0.],\n",
    "       [0., 1., 1., 1., 1., 1.],\n",
    "       [0., 0., 1., 1., 1., 1.],\n",
    "       [0., 0., 0., 1., 1., 1.]]\n",
    " ```\n"
   ]
  },
  {
   "cell_type": "markdown",
   "metadata": {},
   "source": [
    "Now modify the unit entries in each row to another constant such that all the row sums of the matrix equal one. We shall call the resulting matrix  an averaging operator $A$. After making the $A$ matrix, do the following tasks:\n",
    "- Apply A to a vector $x$ whose entries are $x_j = (-1)^j$, say for $n=20,$ and $k=2.$\n",
    "and comment on the resulting vector.\n",
    "\n",
    "- Apply A to a vector whose entries are values of $f(x) = x^2 + 2\\sin(10 x)$, say at $n=1000$ equally spaced points in the interval [0, 10] and $k=100.$\n",
    "\n",
    "In both cases investigate the effect of varying $k$, report any edge effects, and discuss your observations."
   ]
  }
 ],
 "metadata": {
  "kernelspec": {
   "display_name": "Python 3",
   "language": "python",
   "name": "python3"
  },
  "language_info": {
   "codemirror_mode": {
    "name": "ipython",
    "version": 3
   },
   "file_extension": ".py",
   "mimetype": "text/x-python",
   "name": "python",
   "nbconvert_exporter": "python",
   "pygments_lexer": "ipython3",
   "version": "3.8.0"
  }
 },
 "nbformat": 4,
 "nbformat_minor": 2
}
