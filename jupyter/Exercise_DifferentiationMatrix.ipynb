{
 "cells": [
  {
   "cell_type": "markdown",
   "metadata": {},
   "source": [
    "___\n",
    "\n",
    "\n",
    "# Exercise: Differentiation matrix\n",
    "\n",
    "\n",
    "**Task:** Make an $(n-1) \\times n$  matrix $D$ with the property that when it is applied to a vector $f \\in \\mathbb{R}^n$ we get $Df \\in \\mathbb{R}^{n-1}$ whose entries are \n",
    "$$\n",
    "[D f]_i = f_{i+1} - f_{i}, \\qquad i=0, 1, \\ldots, n-1.\n",
    "$$\n",
    "Use the `diag` facility of `numpy` to make `D` fast. Put $x_j = j h$ for some positive grid spacing $h$. If $f_j$ equals $f(x_j)$ for some differentiable function $f$, then $h^{-1} Df$ produces  approximations to the derivative of $f$, so we shall call $h^{-1}D$ the differentiation matrix."
   ]
  },
  {
   "cell_type": "code",
   "execution_count": 1,
   "metadata": {},
   "outputs": [],
   "source": [
    "import numpy as np\n",
    "from numpy import diag"
   ]
  },
  {
   "cell_type": "markdown",
   "metadata": {},
   "source": [
    "- Apply $D$ to obtain an approximation of the derivative of $f(x) = \\sin(x)$, plot the result, and verify that you get what you expect.\n",
    "\n",
    "- Apply $D$ to obtain an approximation of the derivative of $f(x) = x^2 + 2\\sin(10 x)$ for a thousand or more equally spaced values of $x$. Plot the result. Experiment with what happens if you add the averaging operator from the previous exercise into the mix. "
   ]
  },
  {
   "cell_type": "markdown",
   "metadata": {},
   "source": [
    "**Optional Extra Task:** Install `scipy` if you don't have it already. Then make `D` as a sparse matrix (that doesn't store zeros) using the following facility in `scipy.sparse` module:"
   ]
  },
  {
   "cell_type": "code",
   "execution_count": 2,
   "metadata": {},
   "outputs": [],
   "source": [
    "from scipy.sparse import diags"
   ]
  },
  {
   "cell_type": "markdown",
   "metadata": {},
   "source": [
    "Apply the sparse differentiation matrix to the functions described above and note if there are any performance gains."
   ]
  }
 ],
 "metadata": {
  "kernelspec": {
   "display_name": "Python 3",
   "language": "python",
   "name": "python3"
  },
  "language_info": {
   "codemirror_mode": {
    "name": "ipython",
    "version": 3
   },
   "file_extension": ".py",
   "mimetype": "text/x-python",
   "name": "python",
   "nbconvert_exporter": "python",
   "pygments_lexer": "ipython3",
   "version": "3.8.0"
  }
 },
 "nbformat": 4,
 "nbformat_minor": 2
}
