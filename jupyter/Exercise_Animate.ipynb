{
 "cells": [
  {
   "cell_type": "markdown",
   "metadata": {},
   "source": [
    "___\n",
    "\n",
    "\n",
    "# Exercise: Animation\n",
    "___\n",
    "\n",
    "Let $x$ represent a point in the spatial interval $[0, 10]$, let $t>0$ represent time,  and let \n",
    "$$\n",
    "f(x, t) = \\frac 1 2 (x+t)^2 + 2 \\sin(10(x-t)).\n",
    "$$\n",
    "The following tasks are to be completed in a `.py` python file (*not in this notebook*).\n",
    "\n",
    "<br>\n",
    "\n",
    "**Task 1:** Use [`matplotlib.animation`](https://matplotlib.org/3.2.1/api/animation_api.html) module to display changes in the plot of $f$ over $x$ with respect to time $t$. \n",
    "\n",
    "**Task 2:** Use the [`celluloid`](https://github.com/jwkvam/celluloid) module to perform  the same task. \n",
    "\n",
    "**Task 3:** Add a text labeling the time at each snapshot that the animation is composed of. "
   ]
  }
 ],
 "metadata": {
  "kernelspec": {
   "display_name": "Python 3",
   "language": "python",
   "name": "python3"
  },
  "language_info": {
   "codemirror_mode": {
    "name": "ipython",
    "version": 3
   },
   "file_extension": ".py",
   "mimetype": "text/x-python",
   "name": "python",
   "nbconvert_exporter": "python",
   "pygments_lexer": "ipython3",
   "version": "3.8.0"
  }
 },
 "nbformat": 4,
 "nbformat_minor": 2
}
