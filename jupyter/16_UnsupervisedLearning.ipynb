{
 "cells": [
  {
   "cell_type": "markdown",
   "metadata": {},
   "source": [
    "# <span style=\"color:rgb(106,127,16)\">Unsupervised learning </span>\n",
    "\n",
    "\n",
    "<div style=\"text-align: right\"><span style=\"color:rgb(106,127,16)\">May 27, 2020\n",
    "    </span></div>\n",
    "<br>\n",
    "\n",
    "\n",
    "Recall from the [previous lecture](15_SupervisedLearning.ipynb) that  *unsupervised learning* refers to machine learning models that identify structure in unlabeled data. In this activity, we study **Principal Component Analysis (PCA)** which is a commonly used technique in unsupervised learning, often used for discovering structure in high-dimensional data, and for dimensionality reduction.\n",
    "\n",
    "In this activity, I will extensively draw upon what you studied in earlier activities: in particular, I will try to detail the connections between PCA and [SVD](10_SVD.ipynb), the differences in the jargon, and highlight the distinctions between PCA and [regression](15_SupervisedLearning.ipynb), particularly to illustrate how unsupervised machine learning is different from supervised machine learning. "
   ]
  },
  {
   "cell_type": "code",
   "execution_count": 1,
   "metadata": {},
   "outputs": [],
   "source": [
    "import numpy as np\n",
    "import matplotlib.pyplot as plt\n",
    "%matplotlib inline\n",
    "import matplotlib.colors as colors\n",
    "from matplotlib.collections import LineCollection\n",
    "import matplotlib.cm as cmx\n",
    "from sklearn.decomposition import PCA\n",
    "from scipy.linalg import svd\n",
    "from numpy.linalg import norm\n",
    "rng = np.random.default_rng(13)"
   ]
  },
  {
   "cell_type": "markdown",
   "metadata": {},
   "source": [
    "## Definitions"
   ]
  },
  {
   "cell_type": "markdown",
   "metadata": {},
   "source": [
    "- Given a *one*-dimensional data vector $ x = [x_1, x_2, \\ldots, x_m]^t$, its *mean*, or **sample mean** is \n",
    "$$\n",
    "\\bar x =\\frac 1 m  \\sum_{i=1}^m x_i.\n",
    "$$\n",
    "\n",
    "- Consider a *multi*-dimensional $m \\times n$ data array $X$ representing \n",
    "$$\n",
    "m \\text{ samples/observations/rows} \\quad \\text{ for }\\quad \n",
    "n  \\text{ variables/features/columns}.\n",
    "$$\n",
    "The $j$th column of $X$, denoted by $X_j$, represents a number of samples of a single variable. We say that such an $X$ represents **centered data** if the sample mean of $X_j$ is zero for every column $j$.    Let $R_i$ denote the $i$th row of the data matrix $X$. We use $R_i$ to define the principal components of any centered data, as follows.\n",
    "\n",
    "\n",
    "- The **first principal component**  of any centered data $X$ is defined as a *unit* vector $v_1 \\in \\mathbb{R}^n$ that maximizes\n",
    "$$\n",
    " \\sum_{i=1}^m (v_1 \\cdot  R_i )^2.\n",
    "$$\n",
    "\n",
    "- The  **second principal component** of any centered data $X$ (defined when $n \\ge 2$) is a unit vector $v_2 \\in \\mathbb{R}^n$ that is orthogonal to the first principal component $v_1$ and  maximizes \n",
    "$$\n",
    " \\sum_{i=1}^m (v_2 \\cdot  R_i )^2, \\quad \\text{  subject to }  v_1 \\cdot v_2 = 0.\n",
    "$$\n",
    "\n",
    "- The third principal component of $X$ (defined when $n \\ge 3$)  is a unit vector $v_3 \\in \\mathbb{R}^n$ that is orthogonal to both $v_1 $ and $v_2$ while maximizing $\n",
    " \\sum_{i=1}^m (v_3 \\cdot  R_i )^2$. \n",
    " \n",
    "\n",
    "You should now see the pattern to define any number of further principal components. Note that if $v$ is a principal component vector, then $-v$ is also one. Note also that  principal components are also often referred to as  *principal axes* or *principal directions.*   "
   ]
  },
  {
   "cell_type": "markdown",
   "metadata": {},
   "source": [
    "To understand why these principal components reveal structure in the data, first recall that the dot product of two vectors $a$ and $b$ is maximal when the vectors are collinear: remember that $|a \\cdot b| = \\| a\\| \\| b \\| |\\cos(\\theta)|$ where $\\theta$ is the angle between $a$ and $b$, and $|\\cos(\\theta)|$ is maximal when $\\theta$ is 0 or integer multiples of $\\pi$. Hence the first principal component $v_1$  may be interpreted as the vector that is \"most  collinear\" with all the rows/observations/samples $R_i$. A dependency between multiple variables/features/columns hidden inside the many samples/observations in $X$ can thus be brought out using $v_1$. While $v_1$ gives the dominant dependency, the later principal components reveal further dependencies in spaces orthogonal to the previous principal components. You should now begin to see why PCA might be able to automatically  discover hidden structures in data, one of the primary objectives in *unsupervised machine learning.*"
   ]
  },
  {
   "cell_type": "markdown",
   "metadata": {},
   "source": [
    "## Two-dimensional example\n",
    "\n",
    "Let's consider a small two-dimensional example where we can graphically visualize all aspects. "
   ]
  },
  {
   "cell_type": "code",
   "execution_count": 2,
   "metadata": {},
   "outputs": [
    {
     "data": {
      "image/png": "[encoded data removed]",
      "text/plain": [
       "<Figure size 432x288 with 1 Axes>"
      ]
     },
     "metadata": {
      "needs_background": "light"
     },
     "output_type": "display_data"
    }
   ],
   "source": [
    "x = 3 * rng.random(20) \n",
    "y = x + 0.75* rng.random(20)\n",
    "fig = plt.figure(); ax = plt.gca()\n",
    "ax.scatter(x, y, color='b')\n",
    "ax.scatter(x.mean(), y.mean(),  color='r', marker='*', s=150, alpha=0.6); ax.axis('equal'); "
   ]
  },
  {
   "cell_type": "markdown",
   "metadata": {},
   "source": [
    "We put the data in the form of *$m$ samples/observations/rows* for *$n$ variables/features/columns.*"
   ]
  },
  {
   "cell_type": "code",
   "execution_count": 3,
   "metadata": {},
   "outputs": [],
   "source": [
    "XX = np.array([x, y]).T\n",
    "m, n = XX.shape"
   ]
  },
  {
   "cell_type": "markdown",
   "metadata": {},
   "source": [
    "Next, we need to *center the data.* This just means subtracting the mean of each feature/variable. Note that the mean is the marked (as the red star) in above figure."
   ]
  },
  {
   "cell_type": "code",
   "execution_count": 4,
   "metadata": {},
   "outputs": [],
   "source": [
    "X = XX - XX.mean(axis=0)"
   ]
  },
  {
   "cell_type": "markdown",
   "metadata": {},
   "source": [
    "For the visual thinker, centering the data just means moving the origin to the mean (the red star)."
   ]
  },
  {
   "cell_type": "code",
   "execution_count": 5,
   "metadata": {},
   "outputs": [
    {
     "data": {
      "image/png": "[encoded data removed]",
      "text/plain": [
       "<Figure size 432x288 with 1 Axes>"
      ]
     },
     "metadata": {
      "needs_background": "light"
     },
     "output_type": "display_data"
    }
   ],
   "source": [
    "def plotX(X, ax=None):\n",
    "    if ax is None: fig = plt.figure(); ax = plt.gca()\n",
    "    ax.scatter(X[:, 0], X[:, 1], color='b')\n",
    "    t = np.linspace(-3, 3, 100); o = np.zeros_like(t)\n",
    "    ax.plot(t, o, 'k', o, t, 'k', linewidth=0.5);\n",
    "    ax.scatter(0, 0,  color='r', marker='*', s=150, alpha=0.6); \n",
    "    ax.axis('equal'); \n",
    "    ax.set(xlim=(-1.5,1.5), ylim=(-1.7,1.7));\n",
    "plotX(X);"
   ]
  },
  {
   "cell_type": "markdown",
   "metadata": {},
   "source": [
    "Now comes the part that's harder to see, namely the graphical meaning of the maximization problem that defines the first principal component. Consider the figure below where a number of unit vectors are drawn colored."
   ]
  },
  {
   "cell_type": "code",
   "execution_count": 8,
   "metadata": {},
   "outputs": [
    {
     "data": {
      "image/png": "[encoded data removed]",
      "text/plain": [
       "<Figure size 432x288 with 2 Axes>"
      ]
     },
     "metadata": {
      "needs_background": "light"
     },
     "output_type": "display_data"
    }
   ],
   "source": [
    "fig = plt.figure(); ax = plt.gca()\n",
    "ax.set_title('The maximization over unit vectors')\n",
    "theta = np.linspace(0, 2*np.pi, num=100)     # draw unit circle\n",
    "ax.plot(np.cos(theta), np.sin(theta), ':r', alpha=0.3)\n",
    "\n",
    "theta = np.linspace(0, 2*np.pi, num=19)\n",
    "v = np.array([np.cos(theta), np.sin(theta)]) # unit vectors\n",
    "f = ((X @ v) ** 2).sum(axis=0)               # function to maximize over v\n",
    "\n",
    "nrm  = colors.Normalize(vmin=np.min(f), vmax=np.max(f))\n",
    "sm = cmx.ScalarMappable(norm=nrm, cmap='YlOrRd')\n",
    "for i in range(v.shape[1]):                  # color vectors based on f value\n",
    "    ax.arrow(0, 0, v[0, i], v[1, i], width=0.025, color=sm.to_rgba(f[i]), alpha=0.6)\n",
    "plt.colorbar(sm); plotX(X, ax)"
   ]
  },
  {
   "cell_type": "markdown",
   "metadata": {},
   "source": [
    "Here, the arrows represent unit vectors $v$, and they are colored according to the value of the following function of the vectors $v$:  \n",
    "$$\n",
    "f(v) = \\sum_{i=1}^m (v \\cdot R_i)^2.\n",
    "$$\n",
    "From the figure, there is no doubt that the vectors $v$ for which this function takes the largest values indicate the \"dominant\" direction of the data points. Once we find the first maximal vector, then we can restrict to the orthogonal complement of that vector and repeat the same maximization to compute further principal components. (In two dimensions, this becomes trivial, so we proceed ignoring further components.)\n",
    "\n",
    "Statistical literature usually considers the maximization of the function \n",
    "$$\n",
    "g(v) = \\frac{1}{m-1}\\sum_{i=1}^m (v \\cdot R_i)^2\n",
    "$$\n",
    "instead of the above $f$. Of course, the maximizers of $f$ and $g$ are the same. The function $g$ represents the *variance* of the data $R_i$ projected onto $v$, which is the statistical quantity that the first principal component maximizes.\n",
    "\n",
    "How do we solve the maximization problem? The answer is given in the next theorem. "
   ]
  },
  {
   "cell_type": "markdown",
   "metadata": {},
   "source": [
    "## PCA and SVD\n",
    "\n",
    "The key mathematical device for PCA is a tool we have studied in a [prior lecture, the SVD](10_SVD.ipynb)."
   ]
  },
  {
   "cell_type": "markdown",
   "metadata": {},
   "source": [
    "\n",
    "<span style=\"color:blue\"><b>Theorem 1.</b> \n",
    "    Let $X = U \\Sigma V^t$ be an SVD of $X \\in \\mathbb{R}^{m \\times n}$ and let $V = [v_1, v_2, \\ldots, v_n]$.\n",
    "    If $X$ represents centered data, then its $i$th\n",
    "    **principal component** vector \n",
    "    equals (up to a sign) the $i$th **right singular vector** $v_i$ of the SVD of $X$.\n",
    "</span>\n"
   ]
  },
  {
   "cell_type": "markdown",
   "metadata": {},
   "source": [
    "For an example, we return to the previous two-dimensional centered dataset `X` and compute its SVD."
   ]
  },
  {
   "cell_type": "code",
   "execution_count": 9,
   "metadata": {},
   "outputs": [],
   "source": [
    "u, s, vt = svd(X)"
   ]
  },
  {
   "cell_type": "markdown",
   "metadata": {},
   "source": [
    "Plotting the first right singular vector as an arrow through the centered data  immediately illustrates the theorem's claim. We find that the first right singular vector is in one of the two directions where we expected the maximizer of $f$, in view of the previous figure. "
   ]
  },
  {
   "cell_type": "code",
   "execution_count": 10,
   "metadata": {},
   "outputs": [
    {
     "data": {
      "image/png": "[encoded data removed]",
      "text/plain": [
       "<Figure size 432x288 with 1 Axes>"
      ]
     },
     "metadata": {
      "needs_background": "light"
     },
     "output_type": "display_data"
    }
   ],
   "source": [
    "fig = plt.figure(); ax = plt.gca()\n",
    "ax.arrow(0, 0, vt[0, 0], vt[0, 1], width=0.025, color='brown', alpha=0.6)\n",
    "plotX(X, ax)"
   ]
  },
  {
   "cell_type": "markdown",
   "metadata": {},
   "source": [
    "The second singular vector is of course orthogonal to the one shown. (Recall that the columns of a unitary matrix are orthonormal.)\n",
    "\n",
    "You might now be thinking that this figure is beginning to look like the linear regression figure of the previous lecture, especially if I draw a line through that arrow.  Let me check that thinking right away.  "
   ]
  },
  {
   "cell_type": "markdown",
   "metadata": {},
   "source": [
    "## PCA is different from regression \n",
    "\n",
    "PCA and linear regression are fundamentally different. Note these differences: \n",
    "\n",
    "- In supervised learning by regression, the data points were expressed as $(x_i, f_i)$ to indicate that the labels $f_i$ were *dependent* on the data $x_i$.\n",
    "\n",
    "- In contrast, now the data is viewed as just points on the plane (without any labels) so we express the same points as $(x_i, y_i)$.  We do not start with an  assumption that one data component depends on the other.\n",
    "\n",
    "- In supervised learning by regression, the task was to predict values of the label $f$ for new values of $x$. In PCA, the task is to discover what relationship exists, if any,  between the $x$ and $y$ values. \n",
    "\n",
    "So, in spite of these philosophical differences between linear regression and PCA, why is it producing  similar-looking pictures  in this two-dimensional example?\n",
    "\n",
    "Actually, the pictures are not quite identical. Let us compute and plot the line obtained with linear regression applied to the same points, now viewing one of the variables (the second) as dependent on the other (the first)."
   ]
  },
  {
   "cell_type": "code",
   "execution_count": 11,
   "metadata": {},
   "outputs": [
    {
     "data": {
      "image/png": "[encoded data removed]",
      "text/plain": [
       "<Figure size 432x288 with 1 Axes>"
      ]
     },
     "metadata": {
      "needs_background": "light"
     },
     "output_type": "display_data"
    }
   ],
   "source": [
    "def plot_reg(X, ax):\n",
    "    x = X[:, 0]; f = X[:, 1] # hypothesizing that f depends on x, perform regression\n",
    "    X1 = np.array([np.ones(X.shape[0]), x]).T \n",
    "    a = np.linalg.inv(X1.T @ X1) @ X1.T @ f\n",
    "    x_predict = np.linspace(-2, 2, num=100) \n",
    "    f_predict = a[0]  + a[1] * x_predict    \n",
    "    plotX(X, ax)\n",
    "    ax.plot(x_predict, f_predict, 'c');\n",
    "    fp = X1 @ a\n",
    "    lc = LineCollection([[(x[i], f[i]), (x[i], fp[i])] for i in range(len(x))], color='r', linewidth=4, alpha=0.5)\n",
    "    ax.add_collection(lc)\n",
    "    ax.set_title('The minimization behind regression');\n",
    "fig = plt.figure(); ax = plt.gca()\n",
    "plot_reg(X, ax)"
   ]
  },
  {
   "cell_type": "markdown",
   "metadata": {},
   "source": [
    "Recall that the line in this linear regression is arrived at by minimizing the sum of the squares of the lengths of the (red) vertical line segments."
   ]
  },
  {
   "cell_type": "markdown",
   "metadata": {},
   "source": [
    "In PCA, a different quantity is minimized. Although we defined the principal components using a maximization, we can transform it to a minimization as follows. Recall from linear algebra that any vector can be decomposed into its projection along a given vector and a component in the  orthogonal complement. In particular, for the above two dimensional data,  the vector $R_i$ can be decomposed into its projection along $v$,\n",
    "$\n",
    "(v \\cdot R_i) v\n",
    "$\n",
    "plus the component of $R_i$ in the orthogonal complement of $v$, which using a unit vector $v^\\perp$ perpendicular to $v$, may be expressed as\n",
    "$\n",
    "(v^\\perp \\cdot R_i) v^\\perp,\n",
    "$\n",
    "i.e., \n",
    "$$\n",
    "R_i = (v \\cdot R_i)\\, v + (v^\\perp \\cdot R_i)\\, v^\\perp.\n",
    "$$\n",
    "By Pythagoras theorem, \n",
    "$$\n",
    "\\| R_i \\|^2 =   (v \\cdot R_i )^2 + (v^\\perp \\cdot R_i)^2.\n",
    "$$\n",
    "Since the left hand side is fixed by the data, maximizing $(v \\cdot R_i )^2$ over all $v$ is equivalent to minimizing $(v^\\perp \\cdot R_i)^2$ over the perpendicular $v^\\perp$.  Thus we arrive at the conclusion that the first principal component $v$ that maximizes\n",
    "$$\n",
    "\\sum_{i=1}^m (v \\cdot R_i)^2\n",
    "$$\n",
    "is also the same vector whose $v^\\perp$  minimizes \n",
    "$$\n",
    "\\sum_{i=1}^m (v^\\perp \\cdot R_i)^2.\n",
    "$$\n",
    "Below is the graphical illustration of this minimization behind the PCA (left plot). We draw little orange line segments from each data point $R_i$ in the direction $v^\\perp$ such that its length  equals $ (v^\\perp \\cdot R_i)^2$. Please  compare it with the previous figure for linear regression, also  reproduced aside below (right plot). "
   ]
  },
  {
   "cell_type": "code",
   "execution_count": 13,
   "metadata": {},
   "outputs": [
    {
     "data": {
      "image/png": "[encoded data removed]",
      "text/plain": [
       "<Figure size 864x288 with 2 Axes>"
      ]
     },
     "metadata": {
      "needs_background": "light"
     },
     "output_type": "display_data"
    }
   ],
   "source": [
    "def plot_pca(X, ax):\n",
    "    u, s, vt = svd(X)\n",
    "    t = np.linspace(-3, 3, 100); v1 = vt[0, :]\n",
    "    ax.plot(t*v1[0], t*v1[1], color='orange')\n",
    "    ax.arrow(0, 0, v1[0], v1[1], width=0.04, color='brown', alpha=0.6)\n",
    "    Xp = v1[:, np.newaxis] * (X @ v1) \n",
    "    lc = LineCollection([[(X[i, 0], X[i, 1]), (Xp[0, i], Xp[1, i])]  for i in range(X.shape[0])], color='r', linewidth=4, alpha=0.5)\n",
    "    ax.add_collection(lc)\n",
    "    plotX(X, ax)\n",
    "    ax.set_title('The minimization behind PCA');\n",
    "fig = plt.figure(figsize=(12, 4))\n",
    "axl, axr = fig.subplots(1, 2)\n",
    "plot_pca(X, axl); plot_reg(X, axr)"
   ]
  },
  {
   "cell_type": "markdown",
   "metadata": {},
   "source": [
    "Clearly the two minimizations are different. The result of the different minimizations happened to be close for the above example. But this need not happen always. The results can indeed be quite different, as the quick example below shows. "
   ]
  },
  {
   "cell_type": "code",
   "execution_count": 14,
   "metadata": {},
   "outputs": [
    {
     "data": {
      "image/png": "[encoded data removed]",
      "text/plain": [
       "<Figure size 864x288 with 2 Axes>"
      ]
     },
     "metadata": {
      "needs_background": "light"
     },
     "output_type": "display_data"
    }
   ],
   "source": [
    "rng = np.random.default_rng(13)\n",
    "z0 = 1.5 * rng.random(20); z1 = z0 + 2.7 * rng.random(20)\n",
    "ZZ = np.array([z0, z1 ]).T\n",
    "Z = ZZ - ZZ.mean(axis=0)\n",
    "fig = plt.figure(figsize=(12, 4))\n",
    "axl, axr = fig.subplots(1, 2)\n",
    "plot_pca(Z, axl); plot_reg(Z, axr)"
   ]
  },
  {
   "cell_type": "markdown",
   "metadata": {},
   "source": [
    "## PCA in scikit-learn"
   ]
  },
  {
   "cell_type": "markdown",
   "metadata": {},
   "source": [
    "Instead of getting the principal components from first principles using  the SVD, as we have done above, you may just use scikit-learn's PCA facility to get the same result. "
   ]
  },
  {
   "cell_type": "code",
   "execution_count": 15,
   "metadata": {},
   "outputs": [],
   "source": [
    "from sklearn.decomposition import PCA"
   ]
  },
  {
   "cell_type": "markdown",
   "metadata": {},
   "source": [
    "To use it, one constructs a `PCA` object using some hypothesized `n_components` which can be less than the data dimensions $m$ and $n$. To draw the analogies with the previous computation, let's apply PCA to the previous data setting `n_components=2` (noting that $\\min(m, n)=2$ in this example)."
   ]
  },
  {
   "cell_type": "code",
   "execution_count": 16,
   "metadata": {},
   "outputs": [],
   "source": [
    "pca = PCA(n_components=2)"
   ]
  },
  {
   "cell_type": "markdown",
   "metadata": {},
   "source": [
    "You can directly give PCA a data set that is not centered. It will do the centering behind the scenes. "
   ]
  },
  {
   "cell_type": "code",
   "execution_count": 17,
   "metadata": {},
   "outputs": [],
   "source": [
    "pca.fit(XX);   # fit with raw (uncentered) data"
   ]
  },
  {
   "cell_type": "markdown",
   "metadata": {},
   "source": [
    "Now, you may ask for the principal components of the data:"
   ]
  },
  {
   "cell_type": "code",
   "execution_count": 18,
   "metadata": {},
   "outputs": [
    {
     "data": {
      "text/plain": [
       "array([[-0.69180966, -0.72207991],\n",
       "       [ 0.72207991, -0.69180966]])"
      ]
     },
     "execution_count": 18,
     "metadata": {},
     "output_type": "execute_result"
    }
   ],
   "source": [
    "pca.components_"
   ]
  },
  {
   "cell_type": "markdown",
   "metadata": {},
   "source": [
    "This matches the principal components we computed using the SVD, reproduced below. (Since principal components are defined only up to a sign, the vectors  need only match up to a sign.)"
   ]
  },
  {
   "cell_type": "code",
   "execution_count": 19,
   "metadata": {},
   "outputs": [
    {
     "data": {
      "text/plain": [
       "array([[-0.69180966, -0.72207991],\n",
       "       [ 0.72207991, -0.69180966]])"
      ]
     },
     "execution_count": 19,
     "metadata": {},
     "output_type": "execute_result"
    }
   ],
   "source": [
    "vt"
   ]
  },
  {
   "cell_type": "markdown",
   "metadata": {},
   "source": [
    "##  Mapping PCA and SVD jargon\n",
    "\n",
    "To expand on the above seen relationships, let's consider a larger data set (one that we will examine in more detail in the next section), to bring out the correspondences between what `PCA` provides and what `svd` provides. This will help us understand the concepts from different viewpoints.  "
   ]
  },
  {
   "cell_type": "code",
   "execution_count": 20,
   "metadata": {},
   "outputs": [
    {
     "data": {
      "text/plain": [
       "(1797, 64)"
      ]
     },
     "execution_count": 20,
     "metadata": {},
     "output_type": "execute_result"
    }
   ],
   "source": [
    "from sklearn.datasets import load_digits\n",
    "digits = load_digits()\n",
    "XX = digits.data\n",
    "X = XX - XX.mean(axis=0)\n",
    "m, n = XX.shape; m, n"
   ]
  },
  {
   "cell_type": "markdown",
   "metadata": {},
   "source": [
    "The following two lines computes PCA (using scikit-learn) and SVD (using scipy). We will use the resulting outputs to establish correspondences between them so we can be fluent in both languages."
   ]
  },
  {
   "cell_type": "code",
   "execution_count": 21,
   "metadata": {},
   "outputs": [],
   "source": [
    "pca = PCA(svd_solver='full').fit(XX)"
   ]
  },
  {
   "cell_type": "code",
   "execution_count": 22,
   "metadata": {},
   "outputs": [],
   "source": [
    "u, s, vt = svd(X)"
   ]
  },
  {
   "cell_type": "markdown",
   "metadata": {},
   "source": [
    "\n",
    "#### Correspondences\n",
    "\n",
    "Now we make a series of observations regarding the outputs from `svd` and `PCA`."
   ]
  },
  {
   "cell_type": "markdown",
   "metadata": {},
   "source": [
    "***First,*** the most obvious correspondence is that `pca.singular_values_` and the singular values from scipy's `svd` are the same:"
   ]
  },
  {
   "cell_type": "code",
   "execution_count": 23,
   "metadata": {},
   "outputs": [
    {
     "data": {
      "text/plain": [
       "0.0"
      ]
     },
     "execution_count": 23,
     "metadata": {},
     "output_type": "execute_result"
    }
   ],
   "source": [
    "norm(pca.singular_values_ - s)"
   ]
  },
  {
   "cell_type": "markdown",
   "metadata": {},
   "source": [
    "***Second,*** the principal components returned by `pca` are equal to $\\pm$ ($i$th right singular vector) from the SVD. Let me illustrate this using the above `pca` and `svd` outputs. To check that two vectors are equal except for the sign \"$\\pm$,\" we define a function that computes the norms of  the sum and the difference of the vectors and prints them out. Only *one of them* need be zero to have a match up to $\\pm$."
   ]
  },
  {
   "cell_type": "code",
   "execution_count": 24,
   "metadata": {},
   "outputs": [],
   "source": [
    "def vectors_plus_minus_diff(v1, v2):\n",
    "    print('%2.1f %2.1f' %(norm(v1 - v2), norm(v1 + v2)))"
   ]
  },
  {
   "cell_type": "markdown",
   "metadata": {},
   "source": [
    "Using this function we check if the first seven principal components equal the corresponding singular vector up to $\\pm$. Note how one of the printed out norms (either that of the sum or that of  the difference) is zero."
   ]
  },
  {
   "cell_type": "code",
   "execution_count": 25,
   "metadata": {},
   "outputs": [
    {
     "name": "stdout",
     "output_type": "stream",
     "text": [
      "2.0 0.0\n",
      "2.0 0.0\n",
      "2.0 0.0\n",
      "2.0 0.0\n",
      "2.0 0.0\n",
      "0.0 2.0\n",
      "0.0 2.0\n"
     ]
    }
   ],
   "source": [
    "for i in range(7):\n",
    "    vectors_plus_minus_diff(pca.components_[i, :], vt[i, :])    "
   ]
  },
  {
   "cell_type": "markdown",
   "metadata": {},
   "source": [
    "***Third,*** projections of the original data onto the principal axes can be obtained by `transform` (or the `fit_transform`) method of PCA. They can also be obtained from the SVD $X = U \\Sigma V^t$, and the correspondence is as follows:\n",
    "$$\n",
    "i^\\text{th} \\text{column of } \\mathtt{pca.fit}\\_\\mathtt{transform(X)} = \\pm\\, i^\\text{th} \\text{column of } U \\Sigma.\n",
    "$$\n",
    "Here is an illustration of this correspondence for the current example."
   ]
  },
  {
   "cell_type": "code",
   "execution_count": 26,
   "metadata": {},
   "outputs": [],
   "source": [
    "# projected data from pca (you can also use pca.fit_transform(XX)):\n",
    "ftX = pca.transform(XX)"
   ]
  },
  {
   "cell_type": "code",
   "execution_count": 27,
   "metadata": {},
   "outputs": [],
   "source": [
    "# projected data from svd:\n",
    "us = u[:, :len(s)] @ np.diag(s)  "
   ]
  },
  {
   "cell_type": "code",
   "execution_count": 28,
   "metadata": {},
   "outputs": [
    {
     "name": "stdout",
     "output_type": "stream",
     "text": [
      "1134.0 0.0\n",
      "1084.5 0.0\n",
      "1009.3 0.0\n",
      "852.2 0.0\n",
      "706.7 0.0\n",
      "0.0 651.6\n",
      "0.0 610.5\n"
     ]
    }
   ],
   "source": [
    "# check they are same upto a sign\n",
    "for i in range(7):\n",
    "    vectors_plus_minus_diff(ftX[:, i], us[:, i])"
   ]
  },
  {
   "cell_type": "markdown",
   "metadata": {},
   "source": [
    "***Fourth,*** to relate to the low-rank approximation using SVD that we studied in [the SVD lecture](10_SVD.ipynb), recall that an SVD of $X$ can be rewritten using outer products as \n",
    "$$\n",
    "X = \\sum_{j=1}^{\\min(m, n)} \\sigma_j u_j v_j^*\n",
    "$$\n",
    "from which the best rank $\\ell$ approximation to $X$, denoted by $X_\\ell$,  can be extracted simply by throwing away the later summands:\n",
    "$$\n",
    "X_\\ell = \\sum_{j=1}^{\\ell} \\sigma_j u_j v_j^*.\n",
    "$$\n",
    "In scikit-learn, this is accomplished by giving the `n_components` argument, which tells PCA how many principal components to compute."
   ]
  },
  {
   "cell_type": "code",
   "execution_count": 29,
   "metadata": {},
   "outputs": [],
   "source": [
    "l = 5   # The rank l approximation needs only l principal components\n",
    "pcal = PCA(n_components=l, svd_solver='full').fit(XX)"
   ]
  },
  {
   "cell_type": "markdown",
   "metadata": {},
   "source": [
    "Now, to get the best rank $\\ell$ approximation from PCA, we use the `transform` method (which gives $U \\Sigma$, per the above discussion), together with the PCA `components_` attribute (which gives $V^t$):"
   ]
  },
  {
   "cell_type": "code",
   "execution_count": 30,
   "metadata": {},
   "outputs": [],
   "source": [
    "Xl_pca = pcal.transform(XX) @ pcal.components_"
   ]
  },
  {
   "cell_type": "markdown",
   "metadata": {},
   "source": [
    "The best rank $\\ell$ approximation of $X$ is also easy to compute from the SVD:"
   ]
  },
  {
   "cell_type": "code",
   "execution_count": 31,
   "metadata": {},
   "outputs": [],
   "source": [
    "Xl_svd = u[:, :l] @ np.diag(s[:l]) @ vt[:l, :]"
   ]
  },
  {
   "cell_type": "markdown",
   "metadata": {},
   "source": [
    "The relative difference in norm between `Xl_pca` and `Xl_svd`  can now be easily verified to be close to machine precision."
   ]
  },
  {
   "cell_type": "code",
   "execution_count": 33,
   "metadata": {},
   "outputs": [
    {
     "data": {
      "text/plain": [
       "2.3845543284064683e-15"
      ]
     },
     "execution_count": 33,
     "metadata": {},
     "output_type": "execute_result"
    }
   ],
   "source": [
    "norm(Xl_pca - Xl_svd) / norm(Xl_pca)"
   ]
  },
  {
   "cell_type": "markdown",
   "metadata": {},
   "source": [
    "***Fifth,***  consider the attribute called the `explained_variance` array of the `pca` object. This represents variances explained by the principal components (see the covariance matrix discussion below for more on this terminology). The elements of this array are related to the singular values $\\sigma_i$ as follows.\n",
    "$$\n",
    "\\mathtt{pca.explained}\\_\\mathtt{variance}\\_\\mathtt{[i]} = \\frac{1}{m-1} \\sigma_i^2\n",
    "$$"
   ]
  },
  {
   "cell_type": "code",
   "execution_count": 34,
   "metadata": {},
   "outputs": [
    {
     "data": {
      "text/plain": [
       "0.0"
      ]
     },
     "execution_count": 34,
     "metadata": {},
     "output_type": "execute_result"
    }
   ],
   "source": [
    "norm(pca.explained_variance_ - (s**2/(m-1)))"
   ]
  },
  {
   "cell_type": "markdown",
   "metadata": {},
   "source": [
    "***Sixth,***  consider another attribute of the `pca` object called `explained_variance_ratio_`. It is related to singular values as follows: \n",
    "$$\n",
    "\\mathtt{pca.explained}\\_\\mathtt{variance}\\_\\mathtt{ratio}\\_\\mathtt{[i]} = \\frac{\\sigma_i^2}{ \\sum_{j} \\sigma_j^2}\n",
    "$$\n",
    "Obviously, from this, we expect the sum of all the explained variance ratios to be one:"
   ]
  },
  {
   "cell_type": "code",
   "execution_count": 35,
   "metadata": {},
   "outputs": [
    {
     "data": {
      "text/plain": [
       "0.9999999999999999"
      ]
     },
     "execution_count": 35,
     "metadata": {},
     "output_type": "execute_result"
    }
   ],
   "source": [
    "pca.explained_variance_ratio_.sum()"
   ]
  },
  {
   "cell_type": "code",
   "execution_count": 37,
   "metadata": {},
   "outputs": [
    {
     "data": {
      "text/plain": [
       "6.661408213830422e-17"
      ]
     },
     "execution_count": 37,
     "metadata": {},
     "output_type": "execute_result"
    }
   ],
   "source": [
    "norm(pca.explained_variance_ratio_ - (s**2)/(s**2).sum())"
   ]
  },
  {
   "cell_type": "markdown",
   "metadata": {},
   "source": [
    "#### Covariance matrix\n",
    "\n",
    "To understand the origin of some of the terms used in `pca` attributes, recall how \n",
    "the *covariance matrix* is defined: For centered data, the covariance matrix is \n",
    "$$\n",
    "C = \\frac{1}{m-1} X^t X.\n",
    "$$\n",
    "The \"explained variances\" are the eigenvalues of $C$. \n",
    "Of course, since $X = U \\Sigma V^t$ is an SVD of $X$, the covariance matrix $C$ may be alternately \n",
    "expressed as \n",
    "$$\n",
    "C = V \\frac{\\Sigma^2}{m-1}  V^t,\n",
    "$$\n",
    "from which we conclude that the $i$th eigenvalue of $C$ is $\\sigma_i^2 / (m-1)$, \n",
    "which matches our observation above."
   ]
  },
  {
   "cell_type": "markdown",
   "metadata": {},
   "source": [
    "This observation also tells us that the right singular vectors (the columns of $V$) are actually eigenvectors of $C$, since the above factorization of $C$ is actually a diagonalization of $C$. Therefore, one can  alternately compute the right singular vectors, aka, principal components, as the *eigenvectors of the covariance matrix* simply using numpy's or scipy's `eig`. Indeed, for the current example, we can immediately cross check that we get the same results: "
   ]
  },
  {
   "cell_type": "code",
   "execution_count": 38,
   "metadata": {},
   "outputs": [],
   "source": [
    "ew, ev = np.linalg.eig(X.T @ X / (m-1)) # eigenvalues & eigenvectors of C\n",
    "ii = ew.argsort()[::-1]\n",
    "ew = ew[ii]; ev = ev[:, ii]             # sort by descending order of eigenvalues"
   ]
  },
  {
   "cell_type": "code",
   "execution_count": 39,
   "metadata": {},
   "outputs": [
    {
     "data": {
      "text/plain": [
       "6.25037049393972e-13"
      ]
     },
     "execution_count": 39,
     "metadata": {},
     "output_type": "execute_result"
    }
   ],
   "source": [
    "norm(ew - s**2 / (m-1))   # eigenvalues equal singular values squared / (m-1)"
   ]
  },
  {
   "cell_type": "code",
   "execution_count": 40,
   "metadata": {},
   "outputs": [
    {
     "name": "stdout",
     "output_type": "stream",
     "text": [
      "2.0 0.0\n",
      "2.0 0.0\n",
      "2.0 0.0\n",
      "0.0 2.0\n",
      "2.0 0.0\n",
      "0.0 2.0\n",
      "0.0 2.0\n"
     ]
    }
   ],
   "source": [
    "for i in range(7):        # eigenvectors equal +/- principal components\n",
    "    vectors_plus_minus_diff(pca.components_[i, :], ev[:, i])"
   ]
  },
  {
   "cell_type": "markdown",
   "metadata": {},
   "source": [
    "#### What is better,  `eig` or `svd`? "
   ]
  },
  {
   "cell_type": "markdown",
   "metadata": {},
   "source": [
    "The relationship between PCA/SVD and eigenvectors of the  covariance matrix discussed above raises a natural question. If both give the same vectors (principal components), which one should be recommended for computations? \n",
    "\n",
    "Even though both give the same vectors mathematically, it's better to use SVD (or scikit-learn's PCA, which uses SVD) to avoid round-off errors in the formation of $X^t X$ that arise in some circumstances. A classical example is the case of a  Läuchli matrix, an $N\\times (N-1)$ rectangular matrix of the form \n",
    "$$\n",
    "X = \n",
    "\\begin{bmatrix}\n",
    "1        &    1      &  \\cdots & 1 \\\\\n",
    "\\epsilon &           &         & 0 \\\\\n",
    "0        & \\epsilon  &         & \\vdots \\\\\n",
    "\\vdots   &           & \\ddots  \\\\\n",
    "\\vdots        &           &         & \\epsilon \\\\\n",
    "0        &           &         & 0\n",
    "\\end{bmatrix} \n",
    "$$\n",
    "with a small number $\\epsilon$.\n",
    "The matrix $X^t X$ then has $1+\\epsilon^2$ on the diagonal, and ones everywhere else. This matrix is very close to being singular numerically. For example, in the $N=4$   case,  the matrix\n",
    "$$\n",
    "X^t X = \n",
    "\\begin{bmatrix}\n",
    "1 + \\epsilon^2 &    1           &  1\\\\\n",
    "1              & 1 + \\epsilon^2 &  1 \\\\\n",
    "1              &    1            & 1 + \\epsilon^2\n",
    "\\end{bmatrix} \n",
    "$$\n",
    "has eigenvalues  $3+ \\epsilon^2, \\epsilon^2, \\epsilon^2$ by hand calculation. However, `eig` is unable to distinguish the latter from zero. "
   ]
  },
  {
   "cell_type": "code",
   "execution_count": 51,
   "metadata": {},
   "outputs": [
    {
     "data": {
      "text/plain": [
       "array([[1.e+00, 1.e+00, 1.e+00],\n",
       "       [1.e-08, 0.e+00, 0.e+00],\n",
       "       [0.e+00, 1.e-08, 0.e+00],\n",
       "       [0.e+00, 0.e+00, 1.e-08],\n",
       "       [0.e+00, 0.e+00, 0.e+00]])"
      ]
     },
     "execution_count": 51,
     "metadata": {},
     "output_type": "execute_result"
    }
   ],
   "source": [
    "N = 4\n",
    "eps = 1e-8\n",
    "X = np.diag(eps * np.ones(N), k=-1)\n",
    "X[0, :] = 1;  X = X[:, :(N-1)]; X"
   ]
  },
  {
   "cell_type": "code",
   "execution_count": 52,
   "metadata": {},
   "outputs": [
    {
     "data": {
      "text/plain": [
       "array([ 3.00000000e+00,  0.00000000e+00, -2.22044605e-16])"
      ]
     },
     "execution_count": 52,
     "metadata": {},
     "output_type": "execute_result"
    }
   ],
   "source": [
    "ew, ev = np.linalg.eig(X.T @ X)\n",
    "ii = ew.argsort()[::-1]; ev = ev[:, ii]; ew = ew[ii]\n",
    "ew"
   ]
  },
  {
   "cell_type": "markdown",
   "metadata": {},
   "source": [
    "Now, we may attempt to compute the singular values by taking square roots of these eigenvalues."
   ]
  },
  {
   "cell_type": "code",
   "execution_count": 53,
   "metadata": {},
   "outputs": [
    {
     "name": "stderr",
     "output_type": "stream",
     "text": [
      "<ipython-input-53-6f1372a76c3a>:1: RuntimeWarning: invalid value encountered in sqrt\n",
      "  np.sqrt(ew)\n"
     ]
    },
    {
     "data": {
      "text/plain": [
       "array([1.73205081, 0.        ,        nan])"
      ]
     },
     "execution_count": 53,
     "metadata": {},
     "output_type": "execute_result"
    }
   ],
   "source": [
    "np.sqrt(ew)"
   ]
  },
  {
   "cell_type": "markdown",
   "metadata": {},
   "source": [
    "In contrast, the SVD is able to output the singular values fairly close to the exact ones\n",
    "$\\sqrt{3+ \\epsilon^2}, \\epsilon, \\epsilon$ without difficulty."
   ]
  },
  {
   "cell_type": "code",
   "execution_count": 44,
   "metadata": {},
   "outputs": [
    {
     "data": {
      "text/plain": [
       "array([1.73205081e+00, 1.00000000e-08, 5.77350269e-09])"
      ]
     },
     "execution_count": 44,
     "metadata": {},
     "output_type": "execute_result"
    }
   ],
   "source": [
    "u, s, vt = svd(X)\n",
    "s"
   ]
  },
  {
   "cell_type": "markdown",
   "metadata": {},
   "source": [
    "## Hand-written digits dataset"
   ]
  },
  {
   "cell_type": "markdown",
   "metadata": {},
   "source": [
    "Scikit-learn comes with an example dataset representing many images of hand-written digits for use as a test problem in optical character recognition. Actually, this  is the same `digits` data we have been working with above. Let's take a closer look at this  dataset."
   ]
  },
  {
   "cell_type": "code",
   "execution_count": 54,
   "metadata": {},
   "outputs": [
    {
     "data": {
      "text/plain": [
       "dict_keys(['data', 'target', 'target_names', 'images', 'DESCR'])"
      ]
     },
     "execution_count": 54,
     "metadata": {},
     "output_type": "execute_result"
    }
   ],
   "source": [
    "from sklearn.datasets import load_digits\n",
    "digits = load_digits()\n",
    "digits.keys()"
   ]
  },
  {
   "cell_type": "markdown",
   "metadata": {},
   "source": [
    "We used `digits.data` previously. The `images` key gives the images of the handwritten digits. "
   ]
  },
  {
   "cell_type": "code",
   "execution_count": 55,
   "metadata": {},
   "outputs": [
    {
     "data": {
      "text/plain": [
       "((1797, 8, 8), (1797, 64))"
      ]
     },
     "execution_count": 55,
     "metadata": {},
     "output_type": "execute_result"
    }
   ],
   "source": [
    "digits.images.shape, digits.data.shape"
   ]
  },
  {
   "cell_type": "markdown",
   "metadata": {},
   "source": [
    "There are 1797 images, each of 8 x 8 pixels. The flattened array versions of these images are in `digits.data` while the $8 \\times 8$ image versions are in `digits.images`. Here are the first few of the 1797 images:"
   ]
  },
  {
   "cell_type": "code",
   "execution_count": 56,
   "metadata": {},
   "outputs": [
    {
     "data": {
      "image/png": "[encoded data removed]",
      "text/plain": [
       "<Figure size 576x576 with 100 Axes>"
      ]
     },
     "metadata": {},
     "output_type": "display_data"
    }
   ],
   "source": [
    "fig, axes = plt.subplots(10, 10, figsize=(8, 8), subplot_kw={'xticks':[], 'yticks':[]})\n",
    "for i, ax in enumerate(axes.flat):\n",
    "    ax.imshow(digits.images[i], cmap='binary')"
   ]
  },
  {
   "cell_type": "markdown",
   "metadata": {},
   "source": [
    "To apply PCA, we need to put these images into the tidy data format of \n",
    "$m$  samples/observations/rows $ \\times$ $n$  variables/features/columns. We set \n",
    "- each *pixel* to be a *feature*/variable, \n",
    "- each *image* to be a *sample*/observation.\n",
    "\n",
    "Actually, this is the form the data is contained in `digits.data`, where  each $8 \\times 8$ image is one of 1797 samples of a 64-variable dataset."
   ]
  },
  {
   "cell_type": "code",
   "execution_count": 57,
   "metadata": {},
   "outputs": [
    {
     "data": {
      "text/plain": [
       "(1797, 64)"
      ]
     },
     "execution_count": 57,
     "metadata": {},
     "output_type": "execute_result"
    }
   ],
   "source": [
    "m, n = digits.data.shape\n",
    "m, n "
   ]
  },
  {
   "cell_type": "markdown",
   "metadata": {},
   "source": [
    "We construct a `PCA` object using this data asking specifically to retain only $10$ principal components."
   ]
  },
  {
   "cell_type": "code",
   "execution_count": 58,
   "metadata": {},
   "outputs": [],
   "source": [
    "pca = PCA(n_components=10).fit(digits.data)"
   ]
  },
  {
   "cell_type": "markdown",
   "metadata": {},
   "source": [
    "Would you hazard a guess that the 10 principal components are the usual 10 digits?\n",
    "\n",
    "Well $\\ldots$. Here is how  the 10 principal components look like: "
   ]
  },
  {
   "cell_type": "code",
   "execution_count": 59,
   "metadata": {},
   "outputs": [
    {
     "data": {
      "image/png": "[encoded data removed]",
      "text/plain": [
       "<Figure size 576x288 with 10 Axes>"
      ]
     },
     "metadata": {},
     "output_type": "display_data"
    }
   ],
   "source": [
    "fig, axes = plt.subplots(1, 10, figsize=(8, 4), subplot_kw={'xticks':[], 'yticks':[]})\n",
    "for i, ax in enumerate(axes.flat):\n",
    "    ax.imshow(pca.components_[i, :].reshape(8, 8), cmap='binary')"
   ]
  },
  {
   "cell_type": "markdown",
   "metadata": {},
   "source": [
    "Obviously, they don't look anything like recognizable digits.  It is important to understand in what sense these garbled images represent something \"principal\" about the original data set. Proceed on to gain this understanding."
   ]
  },
  {
   "cell_type": "markdown",
   "metadata": {},
   "source": [
    "## PCA is a feature finder"
   ]
  },
  {
   "cell_type": "markdown",
   "metadata": {},
   "source": [
    "To make sense of the above garbled images as a basis, let's use the `transform` method (which computes $U \\Sigma$).  "
   ]
  },
  {
   "cell_type": "code",
   "execution_count": 60,
   "metadata": {},
   "outputs": [
    {
     "data": {
      "text/plain": [
       "(1797, 10)"
      ]
     },
     "execution_count": 60,
     "metadata": {},
     "output_type": "execute_result"
    }
   ],
   "source": [
    "dgt = pca.transform(digits.data)\n",
    "dgt.shape"
   ]
  },
  {
   "cell_type": "markdown",
   "metadata": {},
   "source": [
    "Each row of `dgt` contains 10 coefficients, which when multiplied by the 10 principal components, reveal what's going on. Of course, we must also correct for the previously subtracted mean. The first row of `dgt` then yields the following image (left). Compare it with the original first image in the data (right)."
   ]
  },
  {
   "cell_type": "code",
   "execution_count": 61,
   "metadata": {},
   "outputs": [
    {
     "data": {
      "image/png": "[encoded data removed]",
      "text/plain": [
       "<Figure size 432x144 with 2 Axes>"
      ]
     },
     "metadata": {
      "needs_background": "light"
     },
     "output_type": "display_data"
    }
   ],
   "source": [
    "fig = plt.figure(figsize=(6, 2))\n",
    "axl, axr = fig.subplots(1, 2)\n",
    "im0 = dgt[0, :] @ pca.components_ + pca.mean_\n",
    "axl.imshow(im0.reshape(8, 8), cmap='binary')\n",
    "axr.imshow(digits.images[0], cmap='binary');"
   ]
  },
  {
   "cell_type": "markdown",
   "metadata": {},
   "source": [
    "Let's dig a bit more into this. Writing the SVD of the centered image data array `X` as\n",
    "$$\n",
    "X = \\sum_k \\sigma_k u_k v_k^t,\n",
    "$$\n",
    "we may read off the the $i$th row $R_i$, which represents the $i$th image in this dataset, as follows:\n",
    "$$\n",
    "[R_i]_j = X_{ij} = \\sum_k \\sigma_k [u_k]_i [v_k]_j.\n",
    "$$\n",
    "The `pca` object above computed the rank-10 best approximation by restricting the above sum to the first 10 summands. This is what was implemented by the  line of code that generated the left image above,  \n",
    "```py\n",
    "im0 = dgt[0, :] @ pca.components_ + pca.mean_\n",
    "```\n",
    "which further restricted to the first image, the $i=0$ case, and also corrected for the mean (since PCA performs SVD  on centered data)."
   ]
  },
  {
   "cell_type": "markdown",
   "metadata": {},
   "source": [
    "It is instructive to view the  above formula for the $i$th image/row $R_i$ as the sum \n",
    "\n",
    "$$\n",
    "f(x) = a_0 \\phi_0(x) + a_1 \\phi_1(x) + \\cdots a_{9} \\phi_{9}(x)\n",
    "$$\n",
    "\n",
    "where the numbers $a_k = [\\sigma_k u_k]_i$ represent coefficients in a basis expansion with the *basis images* $\\phi_k$ set by $\\phi_k = v_k$, and where $x$ represents one of the 64 pixels. In this viewpoint, what PCA has done is to fit the 10-term formula to a data set of 1797 images. While this is reminiscent of regression, note  two important differences:\n",
    "\n",
    "- PCA found the basis $\\phi_k$ (while regression needs $\\phi_k$ as input).\n",
    "- The coefficients $a_k$ change for each data row (unlike in regression where it's fixed for the whole dataset).\n",
    "\n",
    "To summarize,  *PCA automatically finds features/basis to represent datasets* (while regression needs you to provide a basis - see e.g., the curve fitting examples we have seen previously). This exemplifies one of the differences between supervised and unsupervised learning."
   ]
  },
  {
   "cell_type": "markdown",
   "metadata": {},
   "source": [
    "## PCA is useful for dimensionality reduction \n",
    "\n",
    "Looking back to the left (PCA) and right (original data)  images in the previous figure, the following interpretation is hard to miss:  the original 64-dimensional dataset might actually be well represented in a 10-dimensional space. "
   ]
  },
  {
   "cell_type": "markdown",
   "metadata": {},
   "source": [
    "The number 10 was, of course, arbitrary, and somewhat of a red herring in a dataset of images of 10 digits. It would be better if the data itself can lead us to some number of relevant dimensions it possesses. This is where the `explained_variance_ratio` becomes useful. Let's return to the full PCA and examine this array. Recall that it is an array that sums to one, so its *cumulative sums* indicate how close we are to fully representing the data."
   ]
  },
  {
   "cell_type": "code",
   "execution_count": 62,
   "metadata": {},
   "outputs": [
    {
     "data": {
      "image/png": "[encoded data removed]",
      "text/plain": [
       "<Figure size 432x288 with 1 Axes>"
      ]
     },
     "metadata": {
      "needs_background": "light"
     },
     "output_type": "display_data"
    }
   ],
   "source": [
    "pca = PCA().fit(digits.data)\n",
    "plt.plot(np.cumsum(pca.explained_variance_ratio_))\n",
    "plt.grid(True)\n",
    "plt.xlabel('number of components')\n",
    "plt.ylabel('cumulative explained variance');"
   ]
  },
  {
   "cell_type": "markdown",
   "metadata": {},
   "source": [
    "Clearly, with 10 components, we are far away from the cumulative sum of 1. We are much closer to the point of diminishing returns, retaining about 95% of the variance, if we instead choose,  say 30 components. "
   ]
  },
  {
   "cell_type": "code",
   "execution_count": 63,
   "metadata": {},
   "outputs": [
    {
     "data": {
      "image/png": "[encoded data removed]",
      "text/plain": [
       "<Figure size 432x144 with 2 Axes>"
      ]
     },
     "metadata": {
      "needs_background": "light"
     },
     "output_type": "display_data"
    }
   ],
   "source": [
    "pca = PCA(n_components=30).fit(digits.data)\n",
    "dgt = pca.fit_transform(digits.data)\n",
    "fig = plt.figure(figsize=(6, 2))\n",
    "axl, axr = fig.subplots(1, 2)\n",
    "im0 = dgt[0, :] @ pca.components_ + pca.mean_\n",
    "axl.imshow(im0.reshape(8, 8), cmap='binary')\n",
    "axr.imshow(digits.images[0], cmap='binary');"
   ]
  },
  {
   "cell_type": "markdown",
   "metadata": {},
   "source": [
    "In other words, the 64-dimensional data set may effectively be reduced to a 30-dimensional dataset retaining 95% of the information. (Per our discussion in SVD, you can, of course, convert this statement into a measure of relative error in the Frobenius norm.)  Summarizing, PCA is also useful as a dimensionality reduction tool."
   ]
  },
  {
   "cell_type": "markdown",
   "metadata": {},
   "source": [
    "\n",
    "\n",
    "<hr>\n",
    "\n",
    "\n",
    "\n",
    "\n",
    "<span style=\"color:rgb(106,127,16); font-size:8pt\">These materials were created by</span> [<span style=\"color:rgb(106,127,16); font-size:8pt\">Jay Gopalakrishnan</span>](http://web.pdx.edu/~gjay/) <span style=\"color:rgb(106,127,16); font-size:8pt\">for a sophomore course (MTH 271) offered during the Spring 2020 quarter at Portland State University, and are made available under the</span> [<span style=\"color:rgb(106,127,16) ; font-size:8pt\">CC-BY-SA license</span>](https://creativecommons.org/licenses/by-sa/4.0/legalcode).\n",
    " \n",
    "\n",
    "\n",
    "\n",
    "\n",
    "\n",
    "\n",
    "\n",
    "\n"
   ]
  }
 ],
 "metadata": {
  "kernelspec": {
   "display_name": "Python 3",
   "language": "python",
   "name": "python3"
  },
  "language_info": {
   "codemirror_mode": {
    "name": "ipython",
    "version": 3
   },
   "file_extension": ".py",
   "mimetype": "text/x-python",
   "name": "python",
   "nbconvert_exporter": "python",
   "pygments_lexer": "ipython3",
   "version": "3.8.0"
  }
 },
 "nbformat": 4,
 "nbformat_minor": 2
}
