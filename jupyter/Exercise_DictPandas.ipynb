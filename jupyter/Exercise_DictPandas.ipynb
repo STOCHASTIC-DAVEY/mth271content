{
 "cells": [
  {
   "cell_type": "markdown",
   "metadata": {},
   "source": [
    "---\n",
    "# Exercise: Pandas from dictionaries\n",
    "---"
   ]
  },
  {
   "cell_type": "code",
   "execution_count": 1,
   "metadata": {},
   "outputs": [],
   "source": [
    "import pandas as pd"
   ]
  },
  {
   "cell_type": "markdown",
   "metadata": {},
   "source": [
    "\n",
    "While numpy arrays have an *implicitly defined* integer index used to access the values, the `pandas` objects have an *explicitly defined* index associated with the values, a feature shared with the python dictionary construct. To begin our `pandas` discussion, start by converting  dictionaries to pandas objects. \n",
    "\n",
    "\n",
    "**Tasks:**  \n",
    "\n",
    "#### 1. Convert `d0` to a  corresponding pandas object `pd0`."
   ]
  },
  {
   "cell_type": "code",
   "execution_count": 2,
   "metadata": {},
   "outputs": [],
   "source": [
    "d0 = {2:'a', 1:'b', 3:'c'}"
   ]
  },
  {
   "cell_type": "markdown",
   "metadata": {},
   "source": [
    "#### 2. Sort indices of `pd0`.\n",
    "\n",
    "Newer versions of `pandas` do not sort dictionary keys (unlike what is mentioned in your textbook [[JV-H]](https://jakevdp.github.io/PythonDataScienceHandbook/), which uses an earlier version). "
   ]
  },
  {
   "cell_type": "markdown",
   "metadata": {},
   "source": [
    "#### 3. Convert `d1,  d2` (together) to a pandas object `dd`."
   ]
  },
  {
   "cell_type": "code",
   "execution_count": 5,
   "metadata": {},
   "outputs": [],
   "source": [
    "d1 = {'a': 1, 'b': 2}\n",
    "d2 = {'b': 3, 'c': 4}"
   ]
  },
  {
   "cell_type": "markdown",
   "metadata": {},
   "source": [
    "#### 4. Give examples of indexing and slicing on `dd`.\n",
    "\n",
    "In pandas, *indexing* refers to accessing columns by their names, in a syntax reminiscent of dictionary access by keys, while *slicing* refers to row access like in numpy."
   ]
  },
  {
   "cell_type": "markdown",
   "metadata": {},
   "source": [
    "#### 5. Give examples of implicit and explicit indexing on `dd`."
   ]
  },
  {
   "cell_type": "markdown",
   "metadata": {},
   "source": [
    "#### 6. Forward fill and backfill missing values using various axis."
   ]
  }
 ],
 "metadata": {
  "kernelspec": {
   "display_name": "Python 3",
   "language": "python",
   "name": "python3"
  },
  "language_info": {
   "codemirror_mode": {
    "name": "ipython",
    "version": 3
   },
   "file_extension": ".py",
   "mimetype": "text/x-python",
   "name": "python",
   "nbconvert_exporter": "python",
   "pygments_lexer": "ipython3",
   "version": "3.8.0"
  }
 },
 "nbformat": 4,
 "nbformat_minor": 2
}
