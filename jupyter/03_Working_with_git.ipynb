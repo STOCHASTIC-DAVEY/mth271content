{
 "cells": [
  {
   "cell_type": "markdown",
   "metadata": {},
   "source": [
    "\n",
    "# <span style=\"color:rgb(106,127,16)\">Working with git</span>\n",
    "\n",
    "<div style=\"text-align: right\"><span style=\"color:rgb(106,127,16)\">April 2, 2020 \n",
    "    </span></div>\n",
    "<br>\n",
    "\n",
    "\n"
   ]
  },
  {
   "cell_type": "markdown",
   "metadata": {},
   "source": [
    "**Git** a distributed version control system (and is a program often used independently  of python). A version control system tracks the history of changes in projects with many files, including data files, and codes, which many people  access simultaneously. Git facilitates identification of changes made, fetching revisions from a cloud repository in git format, and pushing revisions to the cloud.\n",
    "\n",
    "\n",
    "[**GitHub**](https://github.com) is a cloud server that specializes in serving data in the form of `git` repositories. Many other such cloud services exists, such as  Atlassian's [**BitBucket**](https://bitbucket.org).\n",
    "\n",
    "\n",
    "Here we describe how to access the course materials from a remote git repository.  We will also use this opportunity to introduce some object-oriented terminology like classes, objects, constructor, data members, and methods.\n",
    "\n",
    "\n",
    "## Course materials in GitHub\n",
    "\n",
    "We shall use `git` for organizing materials in this course. All course content is located in this GitHub repository: \n",
    "\n",
    "https://github.com/jayggg/mth271content\n",
    "\n",
    "It is being updated as new materials are being developed. \n",
    "\n",
    "- All students should know how to fetch materials from this repository. Running this notebook (see below) will pull the updated data.\n",
    "\n",
    "\n",
    "- If you want to know more about git, there are many resources online, such as \n",
    "the [Git Handbook](https://guides.github.com/introduction/git-handbook/). The most common way to fetch materials from a remote repository is using `git`'s command line tools, but for our purposes, the following python code will suffice. \n"
   ]
  },
  {
   "cell_type": "markdown",
   "metadata": {},
   "source": [
    "## Working with git within python \n",
    "\n",
    "We shall use the python package `gitpython` to work with `git`. We use  the same approach that  we briefly \n",
    "glimpsed in [01 Overview of tools applied to the COVID-19 case](01_Overview_of_tools_applied_to_COVID-19_example.ipynb) to pull the most up to date data on COVID-19 from another GitHub repository. The [documentation of `gitpython`](https://gitpython.readthedocs.io/en/stable/) contains a lot of information on how to use its facilities. The main facility is the **class** called `Repo` which it uses \n",
    "to represent git repositories."
   ]
  },
  {
   "cell_type": "code",
   "execution_count": null,
   "metadata": {},
   "outputs": [],
   "source": [
    "from git import Repo"
   ]
  },
  {
   "cell_type": "markdown",
   "metadata": {},
   "source": [
    "Python is an object-oriented language. Everything in the workspace is an **object.** An object is an instance of a class. The definition and features of the class `Repo` were imported into this workspace by the above line of code. A class has **members**, which could be **data members** (some objects in its memory layout), or function members, called **methods**, which provide functionalities of the class.   \n",
    "\n",
    "You can query the functionalities of `Repo` using `help`. We will use the method `clone_from` below:  pay particular attention to reading its documentation in the output below:"
   ]
  },
  {
   "cell_type": "code",
   "execution_count": null,
   "metadata": {
    "scrolled": true
   },
   "outputs": [],
   "source": [
    "help(Repo)"
   ]
  },
  {
   "cell_type": "markdown",
   "metadata": {},
   "source": [
    "Classes have a special method called **constructor**, which you would find listed in the output above as `__init__`. This method  is called when you type in `Repo(...)` with the arguments allowed in `__init__`. Below, we will initialize a `Repo` object using our course repository. \n",
    "\n",
    "To begin, let us identify and specify a location on your computer where you want the course materials to reside. Please put your folder name into a string variable `coursefolder`:"
   ]
  },
  {
   "cell_type": "code",
   "execution_count": null,
   "metadata": {},
   "outputs": [],
   "source": [
    "coursefolder = '/Users/Jay/tmpdir/'"
   ]
  },
  {
   "cell_type": "markdown",
   "metadata": {},
   "source": [
    "Python provides a module `os` to perform operating system dependent tasks in a portable (platform-independent) way. If you did not give the *full* name of the folder, `os` can attempt to produce it as follows:"
   ]
  },
  {
   "cell_type": "code",
   "execution_count": null,
   "metadata": {},
   "outputs": [],
   "source": [
    "import os\n",
    "os.path.abspath(coursefolder)"
   ]
  },
  {
   "cell_type": "markdown",
   "metadata": {},
   "source": [
    "Please double-check that  the output is  what you expected: if not,  please go back and revise `coursefolder` before proceeding."
   ]
  },
  {
   "cell_type": "markdown",
   "metadata": {},
   "source": [
    "## Fetch course materials\n",
    "\n",
    "We proceed to clone the course materials from GitHub. By default, it will be stored in a subfolder of `coursefolder` called  `mth271content`, which is the name of the git repository."
   ]
  },
  {
   "cell_type": "code",
   "execution_count": null,
   "metadata": {},
   "outputs": [],
   "source": [
    "mth271 = os.path.join(os.path.abspath(coursefolder), 'mth271content')\n",
    "mth271"
   ]
  },
  {
   "cell_type": "markdown",
   "metadata": {},
   "source": [
    "The value of the string variable `mth271` output above is where your copy of the course materials from GitHub will reside. You can check if this folder already exists using another facility from `os`: "
   ]
  },
  {
   "cell_type": "code",
   "execution_count": null,
   "metadata": {},
   "outputs": [],
   "source": [
    "os.path.isdir(mth271)"
   ]
  },
  {
   "cell_type": "markdown",
   "metadata": {},
   "source": [
    "The first time you run this file, this folder is new and therefore will not exist. When you run it after you have executed the following code at least once, you would already have cloned the repository, so the folder will exist. \n",
    "\n",
    "The code below uses the conditionals `if` and `else` (which you should have learnt before coming to class today) to check if the folder exists:\n",
    "- If it does not exist, a new local copy of the GitHub repository is **cloned** into your local hard drive.\n",
    "- If it exists, then only the **differences** (or updates) between your local copy and the remote repository are fetched, so that your local copy is up to date with the remote.\n",
    "    "
   ]
  },
  {
   "cell_type": "code",
   "execution_count": null,
   "metadata": {},
   "outputs": [],
   "source": [
    "if os.path.isdir(mth271):       # if repo exists, pull newest data \n",
    "    repo = Repo(mth271) \n",
    "    repo.remotes.origin.pull()\n",
    "else:                           # otherwise, clone from remote\n",
    "    repo = Repo.clone_from('https://github.com/jayggg/mth271content', mth271)\n"
   ]
  },
  {
   "cell_type": "markdown",
   "metadata": {},
   "source": [
    "- Here `repo` is an **object** of **class** `Repo`. \n",
    "- `Repo(mth271)` invokes the constructor, namely the `__init__` method.\n",
    "- `Repo.clone_from(...)` calls the `clone_from(...)` method."
   ]
  },
  {
   "cell_type": "markdown",
   "metadata": {},
   "source": [
    "Now you have the updated course materials in your computer in a local folder. The object `repo` stores  information about this folder, which you gave to the constructor in the string variable `mth271`, in a **data member** called `working_dir`. You can access any data members of an object in memory and you do so just like you access a method, using a dot `.` followed by the member name. Here is an example:"
   ]
  },
  {
   "cell_type": "code",
   "execution_count": null,
   "metadata": {},
   "outputs": [],
   "source": [
    "repo.working_dir"
   ]
  },
  {
   "cell_type": "markdown",
   "metadata": {},
   "source": [
    "Note how the `Repo` object was either initialized with `mth271` (if that folder exists) or set to clone a remote repository at a URL. "
   ]
  },
  {
   "cell_type": "markdown",
   "metadata": {},
   "source": [
    "\n",
    "A copy of the few relevant lines needed for updating course materials are included in file [update_course.py](../pyfiles/update_course.py) within the `pyfiles` folder. You should move this file outside of the repository and save it after changing the value of the string `coursefolder` to your specific local folder name. Then any time you need to update the course materials, you just need to run `update_course.py` using python on the command line."
   ]
  },
  {
   "cell_type": "markdown",
   "metadata": {},
   "source": [
    "\n",
    "\n",
    "<hr>\n",
    "\n",
    "\n",
    "\n",
    "\n",
    "<span style=\"color:rgb(106,127,16); font-size:8pt\">These materials were created by</span> [<span style=\"color:rgb(106,127,16); font-size:8pt\">Jay Gopalakrishnan</span>](http://web.pdx.edu/~gjay/) <span style=\"color:rgb(106,127,16); font-size:8pt\">for a sophomore course (MTH 271) offered during the Spring 2020 quarter at Portland State University, and are made available under the</span> [<span style=\"color:rgb(106,127,16) ; font-size:8pt\">CC-BY-SA license</span>](https://creativecommons.org/licenses/by-sa/4.0/legalcode).\n",
    " "
   ]
  }
 ],
 "metadata": {
  "kernelspec": {
   "display_name": "Python 3",
   "language": "python",
   "name": "python3"
  },
  "language_info": {
   "codemirror_mode": {
    "name": "ipython",
    "version": 3
   },
   "file_extension": ".py",
   "mimetype": "text/x-python",
   "name": "python",
   "nbconvert_exporter": "python",
   "pygments_lexer": "ipython3",
   "version": "3.8.0"
  }
 },
 "nbformat": 4,
 "nbformat_minor": 2
}
