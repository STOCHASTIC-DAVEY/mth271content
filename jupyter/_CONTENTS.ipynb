{
 "cells": [
  {
   "cell_type": "markdown",
   "metadata": {},
   "source": [
    "\n",
    "<img style=\"float:right;width:250px;\" src=\"../figs/PSU_logo_transparent.png\"> \n",
    "\n",
    "# <span style=\"color:rgb(106,127,16)\">MTH 271 Spring 2020</span>\n",
    " \n",
    "<span style=\"color:rgb(106,127,16)\">March 30 - June 5, 2020 </span>\n",
    "\n",
    "\n",
    "<hr>\n",
    "\n",
    "\n"
   ]
  },
  {
   "cell_type": "markdown",
   "metadata": {},
   "source": [
    "\n",
    "## Table of Contents\n",
    "\n",
    "\n",
    "<br>\n",
    "\n",
    "- [Syllabus](http://web.pdx.edu/~gjay/teaching/mth271_2020/html/syllabus.html)\n",
    "\n",
    "\n",
    "####  Activity units\n",
    "\n",
    "- [00 Starting up](./00_Starting_up.ipynb)\n",
    "- [01 Overview of some tools using COVID-19 data](./01_Overview_of_tools_applied_to_COVID-19_example.ipynb)\n",
    "- [02 Interacting with your python installation](./02_Interacting_with_python.ipynb)\n",
    "- [03 Working with git](03_Working_with_git.ipynb)\n",
    "- [04 Conversion table](04_Conversion_table.ipynb)\n",
    "- [05 Approximating derivatives](05_Derivative_Approximation.ipynb)\n",
    "- [06 Genome of SARS-CoV-2 virus](06_Genome_of_SARS-CoV-2.ipynb)\n",
    "- [07 Fibonacci primes](07_Fibonacci_primes.ipynb)\n",
    "- [08 Numpy blitz](08_Numpy_blitz.ipynb)\n",
    "- [09 SEIR model of infectious diseases](09_SEIR_model.ipynb)\n",
    "\n",
    "####  In class  exercises\n",
    "\n",
    "- [Power sum](Exercise_Sum_Integer_Powers.ipynb)\n",
    "- [Graph functions](Exercise_Graphing_functions.ipynb)\n",
    "- [Argument passing](Exercise_FunctionArgument.ipynb) \n",
    "- [Piecewise functions](Exercise_Piecewise.ipynb) \n",
    "- [Row swap](Exercise_RowSwap.ipynb)\n",
    "- [Averaging Matrix](Exercise_AveragingMatrix.ipynb) \n",
    "- [Differentiation Matrix](Exercise_DifferentiationMatrix.ipynb) \n",
    "- [Pairwise differences](Exercise_PairwiseDiff.ipynb) \n",
    "- [Hausdorff distance](Exercise_HausdorffDistance.ipynb) \n",
    "- [$k$-nearest neighbors](Exercise_kNearestNeighbors.ipynb)\n",
    "\n",
    "#### Take home assignments\n",
    "\n",
    "- [Bisection](Assignment_A_Bisection.ipynb)\n",
    "- [Rise of CO$_2$ in the atmosphere](Assignment_CO2rise.ipynb)\n",
    "- [COVID-19 cases in the west coast](Assignment_Z_Growth_of_COVID-19_cases.ipynb)\n",
    "\n",
    "#### Code\n",
    "\n",
    "- [GitHub Repository of Codes & Notebooks](https://github.com/jayggg/mth271content)"
   ]
  },
  {
   "cell_type": "markdown",
   "metadata": {},
   "source": [
    "\n",
    "<hr>\n",
    "\n",
    "\n",
    "\n",
    "\n",
    "<span style=\"color:rgb(106,127,16); font-size:8pt\">These materials were created by</span> [<span style=\"color:rgb(106,127,16); font-size:8pt\">Jay Gopalakrishnan</span>](http://web.pdx.edu/~gjay/) <span style=\"color:rgb(106,127,16); font-size:8pt\">for a sophomore course (MTH 271) offered during the Spring 2020 quarter at Portland State University, and are made available under the</span> [<span style=\"color:rgb(106,127,16) ; font-size:8pt\">CC-BY-SA license</span>](https://creativecommons.org/licenses/by-sa/4.0/legalcode).\n",
    " \n",
    "  "
   ]
  }
 ],
 "metadata": {
  "kernelspec": {
   "display_name": "Python 3",
   "language": "python",
   "name": "python3"
  },
  "language_info": {
   "codemirror_mode": {
    "name": "ipython",
    "version": 3
   },
   "file_extension": ".py",
   "mimetype": "text/x-python",
   "name": "python",
   "nbconvert_exporter": "python",
   "pygments_lexer": "ipython3",
   "version": "3.8.0"
  }
 },
 "nbformat": 4,
 "nbformat_minor": 2
}
