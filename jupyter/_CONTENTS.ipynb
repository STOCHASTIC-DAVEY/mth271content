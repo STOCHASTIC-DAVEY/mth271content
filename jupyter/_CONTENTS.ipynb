{
 "cells": [
  {
   "cell_type": "markdown",
   "metadata": {},
   "source": [
    "\n",
    "<img style=\"float:right;width:250px;\" src=\"../figs/PSU_logo_transparent.png\"> \n",
    "\n",
    "# <span style=\"color:rgb(106,127,16)\">MTH 271 Spring 2020</span>\n",
    " \n",
    "\n",
    "\n",
    "\n",
    "<hr>\n",
    "\n",
    "\n"
   ]
  },
  {
   "cell_type": "markdown",
   "metadata": {},
   "source": [
    "\n",
    "## Table of Contents\n",
    "\n",
    "\n",
    "<br>\n",
    "\n",
    "- [Syllabus](http://web.pdx.edu/~gjay/teaching/mth271_2020/html/syllabus.html)\n",
    "\n",
    "<hr> \n",
    "\n",
    "- [00_Starting up](./00_Starting_up.ipynb)\n",
    "- [01_Overview of some tools using COVID-19 data](./01_Overview_of_tools_applied_to_COVID-19_example.ipynb)\n",
    "- [02_Interacting with your python installation](./02_Interacting_with_python.ipynb)\n",
    "\n",
    "<hr>\n",
    "\n",
    "\n",
    "- [Git Repository of Codes & Notebooks](https://github.com/jayggg/mth271content)"
   ]
  },
  {
   "cell_type": "markdown",
   "metadata": {},
   "source": [
    "\n",
    "<hr>\n",
    "\n",
    "\n",
    "\n",
    "\n",
    "<span style=\"color:rgb(106,127,16); font-size:8pt\">These materials were created by</span> [<span style=\"color:rgb(106,127,16); font-size:8pt\">Jay Gopalakrishnan</span>](http://web.pdx.edu/~gjay/) <span style=\"color:rgb(106,127,16); font-size:8pt\">for a sophomore course (MTH 271) offered during the Spring 2020 quarter at Portland State University, and are made available under the</span> [<span style=\"color:rgb(106,127,16) ; font-size:8pt\">CC-BY-SA license</span>](https://creativecommons.org/licenses/by-sa/4.0/legalcode).\n",
    " \n",
    "  "
   ]
  }
 ],
 "metadata": {
  "kernelspec": {
   "display_name": "Python 3",
   "language": "python",
   "name": "python3"
  },
  "language_info": {
   "codemirror_mode": {
    "name": "ipython",
    "version": 3
   },
   "file_extension": ".py",
   "mimetype": "text/x-python",
   "name": "python",
   "nbconvert_exporter": "python",
   "pygments_lexer": "ipython3",
   "version": "3.8.0"
  }
 },
 "nbformat": 4,
 "nbformat_minor": 2
}
