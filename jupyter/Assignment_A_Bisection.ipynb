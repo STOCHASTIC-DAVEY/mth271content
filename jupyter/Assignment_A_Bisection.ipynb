{
 "cells": [
  {
   "cell_type": "markdown",
   "metadata": {
    "slideshow": {
     "slide_type": "slide"
    }
   },
   "source": [
    "\n",
    "\n",
    "___\n",
    "\n",
    "\n",
    "# Assignment:  Bisection Method\n",
    "\n",
    "\n",
    "\n",
    "\n",
    "\n"
   ]
  },
  {
   "cell_type": "markdown",
   "metadata": {
    "slideshow": {
     "slide_type": "slide"
    }
   },
   "source": [
    "\n",
    "Your task is to implement the *bisection method* for finding a solution $x$ of the equation \n",
    "$$\n",
    "f(x)=0.\n",
    "$$ \n",
    "Here $f$ is a real-valued function of a single real variable $x$ and the solution of the above equation is called  a _root_ of $f$.\n",
    "\n",
    "Many nonlinear algebraic equations, such as  $x = 1 + \\cos x$\n",
    "do not admit a closed form solution.  But a numerical method can find an approximate solution by finding the root of\n",
    "$f(x) = x - 1 - \\cos x.$\n",
    "\n",
    "Bisection is a numerical method to solve for a root of a function $f(x)$ of a single real variable $x$. Here is its description:\n",
    "\n"
   ]
  },
  {
   "cell_type": "markdown",
   "metadata": {
    "slideshow": {
     "slide_type": "slide"
    }
   },
   "source": [
    "**The Bisection method**\n",
    "\n",
    "1. Start with an interval $[a,b]$ in which $f(x)$ changes sign.\n",
    "2. Then there must be (at least) one root in $[a,b]$.\n",
    "3. Halve the interval and set the midpoint $m = (a+b)/2$.\n",
    "\n",
    "    - Does $f$ change sign in left half $[a,m]$?\n",
    "    - If Yes: Repeat with the left interval $[a,m]$ (set $b=m$)\n",
    "    - If No: Repeat with the right interval $[m,b]$ (set $a=m$)\n",
    "\n",
    "\n",
    "4. At the $n$th step, the initial interval $[a,b]$ has been halved $n$ times and we know that $f(x)$ must have a root inside a small subinterval of length $2^{-n}(b-a)$. Since the root is contained in this subinterval, \n",
    "$\\text{error}\\le 2^{-n}(b-a).$\n",
    "\n",
    "5. Hence we may stop the subdivisions when $n$ is such  that \n",
    "$$\n",
    "  2^{-n}(b-a) \\le \\epsilon.\n",
    "$$\n",
    "for some user specified error tolerance $\\epsilon$, and take the midpoint $m$ as the root."
   ]
  },
  {
   "cell_type": "markdown",
   "metadata": {
    "collapsed": true,
    "slideshow": {
     "slide_type": "slide"
    }
   },
   "source": [
    "**Hints and suggestions**\n",
    "\n",
    "1. Write down your steps as a precise algorithm (before you code) in terms of `for`/`while`, `if`, `else`, etc. Use this to map out how you will write your code.\n",
    "\n",
    "2. Write a first version of the code and make sure it is working on a test problem. Your code should be in the form of a function \n",
    "```py \n",
    "    def bisection(f, a, b, eps, niters):\n",
    "        # Code goes here.\n",
    "```\n",
    "where `f, a, b,` and `eps` represent $f$, $a$, $b$ and $\\epsilon$ in the above description, and `niters` is the maximal number of iterations, which in this case is the maximal number of subdivisions of the initial interval you will make (whether or not the `eps` tolerance is met).\n",
    "\n",
    "3. Test your bisection code on the function $f(x)$ whose roots you know, say $f(x) = \\cos(x)$. Once you know your current code is working correctly, proceed to the next step. If you jump this step, beware that \"premature optimization is the root of all evil,\" according to Donald Knuth. \n",
    "\n",
    "\n",
    "4. Refactor/improve/optimize: When halving the interval, can you reuse a previously used value of $f$ to make the code more efficient? (This would be important when the evaluation of $f$ is expensive.) Also have you made sure you have included comments? Does you function have a [docstring](https://www.python.org/dev/peps/pep-0257/)? "
   ]
  }
 ],
 "metadata": {
  "kernelspec": {
   "display_name": "Python 3",
   "language": "python",
   "name": "python3"
  },
  "language_info": {
   "codemirror_mode": {
    "name": "ipython",
    "version": 3
   },
   "file_extension": ".py",
   "mimetype": "text/x-python",
   "name": "python",
   "nbconvert_exporter": "python",
   "pygments_lexer": "ipython3",
   "version": "3.8.0"
  }
 },
 "nbformat": 4,
 "nbformat_minor": 1
}
