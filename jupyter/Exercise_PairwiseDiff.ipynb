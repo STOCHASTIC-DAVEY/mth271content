{
 "cells": [
  {
   "cell_type": "markdown",
   "metadata": {},
   "source": [
    "___\n",
    "\n",
    "\n",
    "# Exercise: Pairwise differences\n",
    "___\n",
    "\n",
    "**Task:** Given a 1D numpy array $x$, produce the 2D numpy array $D$ whose entries are\n",
    "$$\n",
    "D_{ij} = x_i - x_j\n",
    "$$\n",
    "in one line of  code. "
   ]
  },
  {
   "cell_type": "code",
   "execution_count": 7,
   "metadata": {},
   "outputs": [],
   "source": [
    "import numpy as np\n",
    "x = np.random.rand(5)"
   ]
  },
  {
   "cell_type": "markdown",
   "metadata": {},
   "source": [
    "## Solution"
   ]
  },
  {
   "cell_type": "markdown",
   "metadata": {},
   "source": [
    "We do this by adding an artifical index to $x$. If $x$ is of length $n$, consider the $n \\times n$ matrix \n",
    "$$\n",
    "X_{i, k} = x_i\n",
    "$$\n",
    "and the $n \\times n$ matrix \n",
    "$$\n",
    "Y_{k, i} = x_i.\n",
    "$$\n",
    "Clearly, \n",
    "$$\n",
    "D_{ij} = X_{ij} - Y_{ij}\n",
    "$$\n",
    "Since $X$ and $Y$ can be made without additional memory using `np.newaxis` and since $X-Y$ can be done efficiently by broadcasting, we get the following code."
   ]
  },
  {
   "cell_type": "code",
   "execution_count": 8,
   "metadata": {},
   "outputs": [],
   "source": [
    "D = x[:, np.newaxis] - x[np.newaxis, :]"
   ]
  },
  {
   "cell_type": "code",
   "execution_count": 10,
   "metadata": {},
   "outputs": [
    {
     "data": {
      "text/plain": [
       "(array([0.23097152, 0.90570492, 0.96892417, 0.2942292 , 0.90370856]),\n",
       " array([[ 0.        , -0.67473339, -0.73795265, -0.06325767, -0.67273704],\n",
       "        [ 0.67473339,  0.        , -0.06321925,  0.61147572,  0.00199636],\n",
       "        [ 0.73795265,  0.06321925,  0.        ,  0.67469497,  0.06521561],\n",
       "        [ 0.06325767, -0.61147572, -0.67469497,  0.        , -0.60947936],\n",
       "        [ 0.67273704, -0.00199636, -0.06521561,  0.60947936,  0.        ]]))"
      ]
     },
     "execution_count": 10,
     "metadata": {},
     "output_type": "execute_result"
    }
   ],
   "source": [
    "x, D"
   ]
  }
 ],
 "metadata": {
  "kernelspec": {
   "display_name": "Python 3",
   "language": "python",
   "name": "python3"
  },
  "language_info": {
   "codemirror_mode": {
    "name": "ipython",
    "version": 3
   },
   "file_extension": ".py",
   "mimetype": "text/x-python",
   "name": "python",
   "nbconvert_exporter": "python",
   "pygments_lexer": "ipython3",
   "version": "3.8.0"
  }
 },
 "nbformat": 4,
 "nbformat_minor": 2
}
