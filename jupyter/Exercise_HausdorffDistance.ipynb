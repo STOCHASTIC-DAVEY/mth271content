{
 "cells": [
  {
   "cell_type": "markdown",
   "metadata": {},
   "source": [
    "___\n",
    "\n",
    "\n",
    "# Exercise: Hausdorff distance\n",
    "___\n",
    "\n",
    "**Task:** Given two collections $P$ and $Q$ of points in the plane, compute the Hausdorff distance between sets $P$ and $Q$. \n",
    "The Hausdorff distance between $P$ and $Q$, denoted here by $H(P, Q)$, is \n",
    "defined as follows. Let \n",
    "\n",
    "$$\n",
    "h(P, Q) = \\max_{p \\in P} \\min_{q \\in Q} \\| p  - q\\| \n",
    "$$\n",
    "\n",
    "where, for any $p \\in \\mathbb{R}^2$, the notation $\\| p \\|$ denotes the Euclidean distance $\\sqrt{p\\cdot p}$. Using this, the Hausdorff distance is defined by \n",
    "$$\n",
    "H(P, Q) = \\max \\big[ h(P, Q),\\;  h(Q, P) \\big].\n",
    "$$"
   ]
  },
  {
   "cell_type": "code",
   "execution_count": 2,
   "metadata": {},
   "outputs": [],
   "source": [
    "import numpy as np\n",
    "P = np.random.rand(5, 2)\n",
    "Q = np.random.rand(7, 2)"
   ]
  }
 ],
 "metadata": {
  "kernelspec": {
   "display_name": "Python 3",
   "language": "python",
   "name": "python3"
  },
  "language_info": {
   "codemirror_mode": {
    "name": "ipython",
    "version": 3
   },
   "file_extension": ".py",
   "mimetype": "text/x-python",
   "name": "python",
   "nbconvert_exporter": "python",
   "pygments_lexer": "ipython3",
   "version": "3.8.0"
  }
 },
 "nbformat": 4,
 "nbformat_minor": 2
}
