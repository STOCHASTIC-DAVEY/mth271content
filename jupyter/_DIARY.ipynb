{
 "cells": [
  {
   "cell_type": "markdown",
   "metadata": {
    "ein.tags": "worksheet-0",
    "slideshow": {
     "slide_type": "-"
    }
   },
   "source": [
    "\n",
    "# <span style=\"color:rgb(106,127,16)\">Class Diary: MTH 271 Spring 2020</span>\n",
    " \n",
    "\n",
    "\n",
    "#### <span style=\"color:rgb(106,127,16)\">Instructor:</span> &nbsp;  [<span style=\"color:rgb(106,127,16)\">Jay Gopalakrishnan</span>](http://web.pdx.edu/~gjay/)\n",
    "\n",
    "#### <span style=\"color:rgb(106,127,16)\">Meetings:</span>&nbsp; <span style=\"color:rgb(106,127,16)\">Tue, Thu: 14:00-15:50 on  Zoom</span>\n",
    "   \n",
    "<hr>\n"
   ]
  },
  {
   "cell_type": "markdown",
   "metadata": {
    "ein.tags": "worksheet-0",
    "slideshow": {
     "slide_type": "-"
    }
   },
   "source": [
    "### How to study\n",
    "\n",
    "\n",
    "You have to write code yourself to understand coding. It is not enough to just read code in a book.\n",
    "\n",
    "While you write code, you will find that you need to refer to online documentation.\n",
    "If you are new to reading software manuals or code documentation online, \n",
    "you might want to try browsing them instead of deep reading. This is\n",
    "because you will usually be  trying to find some specific information\n",
    "in a sea of many specifics in a manual: you need an approach that\n",
    "gets you the relevant fraction of information  fast.\n",
    "\n",
    "\n",
    "In contrast to reading documentation, while reading mathematics,\n",
    "the suggested approach is quite the opposite:\n",
    "instead of casual reading or browsing, you have to  work through \n",
    "all the mathematical details yourself to really understand the content. \n"
   ]
  },
  {
   "cell_type": "markdown",
   "metadata": {
    "ein.tags": "worksheet-0",
    "slideshow": {
     "slide_type": "-"
    }
   },
   "source": [
    "### Daily preparation & class activities\n",
    "\n",
    "\n",
    "\n",
    "Make sure to allocate  time to prepare BEFORE class: you must prepare for each class in advance as indicated below.\n",
    "\n"
   ]
  },
  {
   "cell_type": "markdown",
   "metadata": {
    "ein.tags": "worksheet-0",
    "slideshow": {
     "slide_type": "-"
    }
   },
   "source": [
    "\n",
    "|#  | Class date       | To review before class |  Activities during class |\n",
    "|:--|:-----------------|:------------|:-------|\n",
    "|1. | 2020-03-31 <br> Tuesday  | Set up your work environment using [00 Starting up](./00_Starting_up.ipynb). <br> Start browsing basic language facilities either from <br> the official [Python tutorial](https://docs.python.org/3/tutorial/) or from [[JV-W]](https://jakevdp.github.io/WhirlwindTourOfPython/index.html).  | [00 Starting up](./00_Starting_up.ipynb) <br>[01 Overview of tools (applied to COVID-19)](01_Overview_of_tools_applied_to_COVID-19_example.ipynb) <br> [02 Interacting with python](02_Interacting_with_python.ipynb) |\n",
    "|2. | 2020-04-02 <br> Thursday | Learn basic language facilities either from <br> the official [Python tutorial](https://docs.python.org/3/tutorial/) or from [[JV-W]](https://jakevdp.github.io/WhirlwindTourOfPython/index.html). <br> Before coming to class you should have <br> already  experimented with  [`if`](https://docs.python.org/3/tutorial/controlflow.html#if-statements), [`while`](https://jakevdp.github.io/WhirlwindTourOfPython/07-control-flow-statements.html), <br> [`for`,`range`](https://docs.python.org/3/tutorial/controlflow.html#for-statements), [`print`](https://docs.python.org/3/library/functions.html#print), lists `[]`, tuples `()`, <br> and [list comprehension](https://jakevdp.github.io/WhirlwindTourOfPython/11-list-comprehensions.html).| [03 Working with git](03_Working_with_git.ipynb) <br> [04 Conversion table](04_Conversion_table.ipynb) <br> [Exercise: Power sum](Exercise_Sum_Integer_Powers.ipynb) <br> Last opportunity to seek live install help  |\n",
    "|3. | 2020-04-07 <br> Tuesday | Continue to learn basic language facilities  from <br>  [Python tutorial](https://docs.python.org/3/tutorial/) or  [[JV-W]](https://jakevdp.github.io/WhirlwindTourOfPython/index.html). Learn  about functions <br> [`def`](https://jakevdp.github.io/WhirlwindTourOfPython/08-defining-functions.html),[`lambda`,](https://docs.python.org/3/tutorial/controlflow.html#lambda-expressions) [dictionaries `{}`,](https://jakevdp.github.io/WhirlwindTourOfPython/06-built-in-data-structures.html) [strings](https://jakevdp.github.io/WhirlwindTourOfPython/14-strings-and-regular-expressions.html) <br> and file operations [`open`,](https://docs.python.org/3/library/functions.html#open) [`readlines`](https://docs.python.org/3/library/codecs.html?highlight=.readlines#codecs.StreamReader).| [05 Approximating derivatives](05_Derivative_Approximation.ipynb) <br>[06 Genome of SARS-CoV-2 virus](06_Genome_of_SARS-CoV-2.ipynb) |\n",
    "|4. | 2020-04-09 <br> Thursday | Learn  [`numpy` basics from [JV-H]](https://jakevdp.github.io/PythonDataScienceHandbook/02.02-the-basics-of-numpy-arrays.html), [pytest](https://docs.pytest.org/en/latest/index.html), <br> [how to make simple plots using `matplotlib`](https://jakevdp.github.io/PythonDataScienceHandbook/04.01-simple-line-plots.html), <br> [generator expressions, `yield`](https://jakevdp.github.io/WhirlwindTourOfPython/12-generators.html), [filter](https://docs.python.org/3/library/functions.html#filter)| [07 Fibonacci primes.ipynb](07_Fibonacci_primes.ipynb) <br> [Exercise: Graphing functions](Exercise_Graphing_functions.ipynb) |\n",
    "|5. | 2020-04-14 <br> Tuesday | Learn  more about numpy: [ufuncs](https://jakevdp.github.io/PythonDataScienceHandbook/02.03-computation-on-arrays-ufuncs.html), [broadcasting](https://jakevdp.github.io/PythonDataScienceHandbook/02.05-computation-on-arrays-broadcasting.html), <br> [indexing](https://jakevdp.github.io/PythonDataScienceHandbook/02.07-fancy-indexing.html), [masking](https://jakevdp.github.io/PythonDataScienceHandbook/02.06-boolean-arrays-and-masks.html). Assignment due. | [08 Numpy blitz](08_Numpy_blitz.ipynb) <br> [Exercise: Argument passing](Exercise_FunctionArgument.ipynb) <br> [Exercise: Piecewise functions](Exercise_Piecewise.ipynb) |\n",
    "|6. | 2020-04-16 <br> Thursday | Learn [sorting, partitioning [JV-H]](https://jakevdp.github.io/PythonDataScienceHandbook/02.08-sorting.html), [aggregations](https://jakevdp.github.io/PythonDataScienceHandbook/02.04-computation-on-arrays-aggregates.html) <br> and [quick ways to make matrices [numpy.org]](https://numpy.org/devdocs/reference/routines.array-creation.html).  |  Talks by Joe, Eric, Zachary  <br> [Exercise: Row Swap](Exercise_RowSwap.ipynb) <br> [Exercise: Averaging Matrix](Exercise_AveragingMatrix.ipynb) |\n",
    "|7. | 2020-04-21 <br> Tuesday | Get an overview of [scipy facilities](https://docs.scipy.org/doc/scipy/reference/tutorial/index.html). <br>Online [scipy lecture notes](https://scipy-lectures.org) are very helpful.  | <br> [Exercise: Differentiation Matrix](Exercise_DifferentiationMatrix.ipynb) <br> [Exercise: Pairwise differences](Exercise_PairwiseDiff.ipynb) <br> [Exercise: Hausdorff distance](Exercise_HausdorffDistance.ipynb) <br> [Exercise:_$k$-nearest neighbors](Exercise_kNearestNeighbors.ipynb) |\n",
    "|8. | 2020-04-23 <br> Thursday| Familiarize yourselves with  scipy's <br> [`sparse`](https://docs.scipy.org/doc/scipy/reference/sparse.html) and [`integrate`](https://docs.scipy.org/doc/scipy/reference/integrate.html) modules.  | [09 SEIR model of infectious diseases](09_SEIR_model.ipynb) <br> [Exercise: Predator-prey model](Exercise_PredatorPrey.ipynb) |\n",
    "|9. | 2020-04-28 <br> Tuesday | Learn numpy facilities for [matrix factorizations](https://numpy.org/doc/1.18/reference/routines.linalg.html), <br> [eigenvalues](https://numpy.org/doc/1.18/reference/generated/numpy.linalg.eig.html#numpy.linalg.eig) etc.  Assignment due. | Talks by Alder & Max <br>  [10 Singular value decomposition](10_SVD.ipynb) <br> [Exercise: Column space](Exercise_Column_space.ipynb) <br> [Exercise: Null space](Exercise_Null_space.ipynb)|\n",
    "|10.| 2020-04-30 <br> Thursday | Learn [pandas](https://jakevdp.github.io/PythonDataScienceHandbook/03.00-introduction-to-pandas.html).   See if you can collect <br>  tools for solving Assignment Z. | Talks by Colton & Jacob | \n",
    "|11.| 2020-05-05 <br> Tuesday |  |\n",
    "|12.| 2020-05-07 <br> Thursday | Familiarize yourselves with [geopandas](https://geopandas.org). |\n",
    "|13.| [2020-05-12 Tuesday]\n",
    "|14.| [2020-05-14 Thursday]\n",
    "|15.| [2020-05-19 Tuesday]\n",
    "|16.| [2020-05-21 Thursday]\n",
    "|17.| [2020-05-26 Tuesday]\n",
    "|18.| [2020-05-28 Thursday]\n",
    "|19.| [2020-06-02 Tuesday]\n",
    "|20.| [2020-06-04 Thursday]\n"
   ]
  },
  {
   "cell_type": "markdown",
   "metadata": {
    "ein.tags": "worksheet-0",
    "slideshow": {
     "slide_type": "-"
    }
   },
   "source": [
    "### Assignments\n",
    "\n",
    "- Assignment A. [Bisection](Assignment_A_Bisection.ipynb)\n",
    "- Assignment C. [Rise of CO$_2$ in the atmosphere](Assignment_CO2rise.ipynb)\n",
    "- Assignment Z. [Growth of COVID-19 cases in the west coast](Assignment_Z_Growth_of_COVID-19_cases.ipynb)"
   ]
  }
 ],
 "metadata": {
  "kernelspec": {
   "display_name": "Python 3",
   "language": "python",
   "name": "python3"
  },
  "language_info": {
   "codemirror_mode": {
    "name": "ipython",
    "version": 3
   },
   "file_extension": ".py",
   "mimetype": "text/x-python",
   "name": "python",
   "nbconvert_exporter": "python",
   "pygments_lexer": "ipython3",
   "version": "3.8.0"
  },
  "name": "_DIARY.ipynb"
 },
 "nbformat": 4,
 "nbformat_minor": 2
}
