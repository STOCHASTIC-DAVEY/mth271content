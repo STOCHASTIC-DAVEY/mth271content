{
 "cells": [
  {
   "cell_type": "markdown",
   "metadata": {
    "ein.tags": "worksheet-0",
    "slideshow": {
     "slide_type": "-"
    }
   },
   "source": [
    "\n",
    "# <span style=\"color:rgb(106,127,16)\">Class Diary: MTH 271 Spring 2020</span>\n",
    " \n",
    "\n",
    "\n",
    "#### <span style=\"color:rgb(106,127,16)\">Instructor:</span> &nbsp;  [<span style=\"color:rgb(106,127,16)\">Jay Gopalakrishnan</span>](http://web.pdx.edu/~gjay/)\n",
    "\n",
    "#### <span style=\"color:rgb(106,127,16)\">Meetings:</span>&nbsp; <span style=\"color:rgb(106,127,16)\">Tue, Thu: 14:00-15:50 on  Zoom</span>\n",
    "   \n",
    "<hr>\n"
   ]
  },
  {
   "cell_type": "markdown",
   "metadata": {
    "ein.tags": "worksheet-0",
    "slideshow": {
     "slide_type": "-"
    }
   },
   "source": [
    "### How to study\n",
    "\n",
    "\n",
    "You have to write code yourself to understand coding. It is not enough to just read code in a book.\n",
    "\n",
    "While you write code, you will find that you need to refer to online documentation.\n",
    "If you are new to reading software manuals or code documentation online, \n",
    "you might want to try browsing them instead of deep reading. This is\n",
    "because you will usually be  trying to find some specific information\n",
    "in a sea of many specifics in a manual: you need an approach that\n",
    "gets you the relevant fraction of information  fast.\n",
    "\n",
    "\n",
    "In contrast to reading documentation, while reading mathematics,\n",
    "the suggested approach is quite the opposite:\n",
    "instead of casual reading or browsing, you have to  work through \n",
    "all the mathematical details yourself to really understand the content. \n"
   ]
  },
  {
   "cell_type": "markdown",
   "metadata": {
    "ein.tags": "worksheet-0",
    "slideshow": {
     "slide_type": "-"
    }
   },
   "source": [
    "### Daily preparation & class activities\n",
    "\n",
    "\n",
    "\n",
    "Make sure to allocate  time to prepare BEFORE class: you must prepare for each class in advance as indicated below.\n",
    "\n"
   ]
  },
  {
   "cell_type": "markdown",
   "metadata": {
    "ein.tags": "worksheet-0",
    "slideshow": {
     "slide_type": "-"
    }
   },
   "source": [
    "\n",
    "|#  | Class date       | To review before class |  Activities during class |\n",
    "|:--|:-----------------|:------------|:-------|\n",
    "|1. | 2020-03-31 <br> Tuesday  | Set up your work environment <br> using [00 Starting up](./00_Starting_up.ipynb). Start browsing <br>  basic  language facilities either from <br> the official [Python tutorial](https://docs.python.org/3/tutorial/) or from [[JV-W]](https://jakevdp.github.io/WhirlwindTourOfPython/index.html).  | [00 Starting up](./00_Starting_up.ipynb) <br>[01 Overview of tools (applied to COVID-19)](01_Overview_of_tools_applied_to_COVID-19_example.ipynb) <br> [02 Interacting with python](02_Interacting_with_python.ipynb) |\n",
    "|2. | 2020-04-02 <br> Thursday | Learn basic language facilities either from <br> the official [Python tutorial](https://docs.python.org/3/tutorial/) or from [[JV-W]](https://jakevdp.github.io/WhirlwindTourOfPython/index.html). <br> Before coming to class you should have <br> already  experimented with  [`if`](https://docs.python.org/3/tutorial/controlflow.html#if-statements), [`while`](https://jakevdp.github.io/WhirlwindTourOfPython/07-control-flow-statements.html), <br> [`for`,`range`](https://docs.python.org/3/tutorial/controlflow.html#for-statements), [`print`](https://docs.python.org/3/library/functions.html#print), lists `[]`, <br> tuples `()`,  and [list comprehension](https://jakevdp.github.io/WhirlwindTourOfPython/11-list-comprehensions.html).| [03 Working with git](03_Working_with_git.ipynb) <br> [04 Conversion table](04_Conversion_table.ipynb) <br> [Exercise: Power sum](Exercise_Sum_Integer_Powers.ipynb) <br> Last opportunity to seek live install help  |\n",
    "|3. | 2020-04-07 <br> Tuesday | Continue to learn basic language <br> facilities  from   [Python tutorial](https://docs.python.org/3/tutorial/) or  [[JV-W]](https://jakevdp.github.io/WhirlwindTourOfPython/index.html). <br> Learn  about functions [`def`](https://jakevdp.github.io/WhirlwindTourOfPython/08-defining-functions.html), <br>[`lambda`,](https://docs.python.org/3/tutorial/controlflow.html#lambda-expressions) [dictionaries `{}`,](https://jakevdp.github.io/WhirlwindTourOfPython/06-built-in-data-structures.html) [strings](https://jakevdp.github.io/WhirlwindTourOfPython/14-strings-and-regular-expressions.html) <br> and file operations [`open`,](https://docs.python.org/3/library/functions.html#open) [`readlines`](https://docs.python.org/3/library/codecs.html?highlight=.readlines#codecs.StreamReader).| [05 Approximating derivatives](05_Derivative_Approximation.ipynb) <br>[06 Genome of SARS-CoV-2 virus](06_Genome_of_SARS-CoV-2.ipynb) |\n",
    "|4. | 2020-04-09 <br> Thursday | Learn  [`numpy` basics from [JV-H]](https://jakevdp.github.io/PythonDataScienceHandbook/02.02-the-basics-of-numpy-arrays.html), [pytest](https://docs.pytest.org/en/latest/index.html), <br> [make simple plots using `matplotlib`](https://jakevdp.github.io/PythonDataScienceHandbook/04.01-simple-line-plots.html), <br> [generator expressions, `yield`](https://jakevdp.github.io/WhirlwindTourOfPython/12-generators.html), [filter](https://docs.python.org/3/library/functions.html#filter)| [07 Fibonacci primes.ipynb](07_Fibonacci_primes.ipynb) <br> [Exercise: Graphing functions](Exercise_Graphing_functions.ipynb) |\n",
    "|5. | 2020-04-14 <br> Tuesday | Learn  more about numpy: [ufuncs](https://jakevdp.github.io/PythonDataScienceHandbook/02.03-computation-on-arrays-ufuncs.html), <br> [broadcasting](https://jakevdp.github.io/PythonDataScienceHandbook/02.05-computation-on-arrays-broadcasting.html) [indexing](https://jakevdp.github.io/PythonDataScienceHandbook/02.07-fancy-indexing.html), [masking](https://jakevdp.github.io/PythonDataScienceHandbook/02.06-boolean-arrays-and-masks.html). <br>Assignment due. | [08 Numpy blitz](08_Numpy_blitz.ipynb) <br> [Exercise: Argument passing](Exercise_FunctionArgument.ipynb) <br> [Exercise: Piecewise functions](Exercise_Piecewise.ipynb) |\n",
    "|6. | 2020-04-16 <br> Thursday | Learn [sorting, partitioning [JV-H]](https://jakevdp.github.io/PythonDataScienceHandbook/02.08-sorting.html), <br> [aggregations](https://jakevdp.github.io/PythonDataScienceHandbook/02.04-computation-on-arrays-aggregates.html) and [quick ways to make matrices [numpy.org]](https://numpy.org/devdocs/reference/routines.array-creation.html).  |  Talks by Joe, Eric, Zachary  <br> [Exercise: Row Swap](Exercise_RowSwap.ipynb) <br> [Exercise: Averaging Matrix](Exercise_AveragingMatrix.ipynb) <br> [Exercise: Differentiation Matrix](Exercise_DifferentiationMatrix.ipynb) |  \n",
    "|7. | 2020-04-21 <br> Tuesday | Get an overview of [scipy facilities](https://docs.scipy.org/doc/scipy/reference/tutorial/index.html). <br>Online [scipy lecture notes](https://scipy-lectures.org) are very helpful.  | [Exercise: Pairwise differences](Exercise_PairwiseDiff.ipynb) <br> [Exercise: Hausdorff distance](Exercise_HausdorffDistance.ipynb) <br> [Exercise:_$k$-nearest neighbors](Exercise_kNearestNeighbors.ipynb) |\n",
    "|8. | 2020-04-23 <br> Thursday| Familiarize yourselves with  scipy's <br> [`sparse`](https://docs.scipy.org/doc/scipy/reference/sparse.html) and [`integrate`](https://docs.scipy.org/doc/scipy/reference/integrate.html) modules.  | [09 SEIR model of infectious diseases](09_SEIR_model.ipynb) <br> [Exercise: Predator-prey model](Exercise_PredatorPrey.ipynb) |\n",
    "|9. | 2020-04-28 <br> Tuesday | Learn numpy facilities for <br> [matrix factorizations](https://numpy.org/doc/1.18/reference/routines.linalg.html),  [eigenvalues](https://numpy.org/doc/1.18/reference/generated/numpy.linalg.eig.html#numpy.linalg.eig) etc.<br>  Assignment due. | Talks by Alder & Max <br>  [10 Singular value decomposition](10_SVD.ipynb) <br> [Exercise: Column space](Exercise_Column_space.ipynb) <br> [Exercise: Null space](Exercise_Null_space.ipynb)|\n",
    "|10.| 2020-04-30 <br> Thursday | Learn [pandas](https://jakevdp.github.io/PythonDataScienceHandbook/03.00-introduction-to-pandas.html). There is a lot in this chapter <br> so please allocate more time. Collect tools <br>  from this chapter for solving Assignment Z. | Talks by Colton, Jacob, Keaton <br> [Exercise: Pandas from dictionaries](Exercise_DictPandas.ipynb) <br> [Exercise: Iris flower dataset](Exercise_Iris.ipynb) | \n",
    "|11.| 2020-05-05 <br> Tuesday |  Reinforce your [pandas](https://jakevdp.github.io/PythonDataScienceHandbook/03.00-introduction-to-pandas.html)  skills.  |   [11 Bikes on Tilikum Crossing](11_TilikumCrossingBikes.ipynb) <br> [Exercise: Stock prices](Exercise_Stocks.ipynb) <br> [Exercise: Passengers on the Titanic](Exercise_Titanic.ipynb)|\n",
    "|12.| 2020-05-07 <br> Thursday | Familiarize yourselves with [geopandas](https://geopandas.org), <br>   [cartopy](https://scitools.org.uk/cartopy/docs/latest/), and  [matplotlib.animation](https://matplotlib.org/3.2.1/api/animation_api.html).| [12 Visualizing geospatial data](12_VisualizingGeospatialData.ipynb) <br> [Exercise: Animate functions](Exercise_Animate.ipynb)|\n",
    "|13.| 2020-05-12 <br> Tuesday | Review  [scipy.sparse](https://docs.scipy.org/doc/scipy/reference/sparse.html).<br> Check out [NetworkX](http://networkx.github.io) if you have time. | [13 Gambler's Ruin](13_GamblersRuin.ipynb) <br> [Exercise: Insurance Company](Exercise_InsuranceCompany.ipynb)  |\n",
    "|14.| 2020-05-14 <br> Thursday | No preparation work assigned to allow <br> students to focus on Assignments Z & W.  <br> Assignment Z due before class. | Talks by Ethan, Lissette,  Rex & Braxton <br> [Exercise: Probabilities on small graphs](Exercise_HittingProbabilities.ipynb)  |\n",
    "|15.| 2020-05-19 <br>Tuesday | No preparation work assigned to allow <br> students to focus on Assignments W. | Talks by Chri & Stephanie <br> [14 Google's PageRank](14_GooglePageRank.ipynb) <br> [Exercise: Ehrenfest thought experiment](Exercise_EhrenfestUrns.ipynb)|\n",
    "|16.| 2020-05-21 <br> Thursday |Review  [scipy.sparse](https://docs.scipy.org/doc/scipy/reference/sparse.html)'s COO <br> and CSR formats for matrices. <br> Assignment W due. |  Talks by Zach & <strike>BT</strike> <br> [Exercise: Power method for large graphs](Exercise_Power4LargeGraphs.ipynb) <br> [Exercise: Google's toy graph](Exercise_GoogleGraph.ipynb) |\n",
    "|17.| 2020-05-26 <br> Tuesday |  Read [introduction to machine learning](https://jakevdp.github.io/PythonDataScienceHandbook/05.01-what-is-machine-learning.html)  | [15 Supervised learning](15_SupervisedLearning.ipynb) <br> [Exercise: Atmospheric carbon dioxide](Exercise_CO2regression.ipynb) |\n",
    "|18.| 2020-05-28 <br> Thursday | Read about unsupervised machine learning, <br> specifically [PCA](https://jakevdp.github.io/PythonDataScienceHandbook/05.09-principal-component-analysis.html). Please also review the prior <br> lecture on [SVD](10_SVD.ipynb) before class. | [16 Unsupervised learning](16_UnsupervisedLearning.ipynb) <br> [Exercise: Ovarian cancer data](Exercise_OvarianCancerData.ipynb) <br> [Exercise: Eigenfaces](Exercise_Eigenfaces.ipynb)|\n",
    "|19.| 2020-06-02 <br> Tuesday | Learn about text features from [[JV-H]](https://jakevdp.github.io/PythonDataScienceHandbook/05.04-feature-engineering.html)| [17 Latent semantic analysis](17_LSA.ipynb) <br> [Exercise: Word vectors](Exercise_WordVectors.ipynb) |\n",
    "|20.| 2020-06-04 <br> Thursday | Assignment N due. | Talk by Addison |\n"
   ]
  },
  {
   "cell_type": "markdown",
   "metadata": {
    "ein.tags": "worksheet-0",
    "slideshow": {
     "slide_type": "-"
    }
   },
   "source": [
    "### Assignments\n",
    "\n",
    "- Assignment A. [Bisection](Assignment_A_Bisection.ipynb)\n",
    "- Assignment C. [Rise of CO$_2$ in the atmosphere](Assignment_CO2rise.ipynb)\n",
    "- Assignment Z. [Growth of COVID-19 cases in the west coast](Assignment_Z_Growth_of_COVID-19_cases.ipynb)\n",
    "- Assignment W. [World map of COVID-19 cases](Assignment_WorldMapCovid.ipynb)\n",
    "- Assignment N. [Neighbor's color](Assignment_NeighborColor.ipynb)"
   ]
  }
 ],
 "metadata": {
  "kernelspec": {
   "display_name": "Python 3",
   "language": "python",
   "name": "python3"
  },
  "language_info": {
   "codemirror_mode": {
    "name": "ipython",
    "version": 3
   },
   "file_extension": ".py",
   "mimetype": "text/x-python",
   "name": "python",
   "nbconvert_exporter": "python",
   "pygments_lexer": "ipython3",
   "version": "3.8.0"
  },
  "name": "_DIARY.ipynb"
 },
 "nbformat": 4,
 "nbformat_minor": 2
}
