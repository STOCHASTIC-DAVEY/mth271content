{
 "cells": [
  {
   "cell_type": "markdown",
   "metadata": {},
   "source": [
    "\n",
    "# <span style=\"color:rgb(106,127,16)\">Class Diary: MTH 271 Spring 2020</span>\n",
    " \n",
    "\n",
    "\n",
    "#### <span style=\"color:rgb(106,127,16)\">Instructor:</span> &nbsp;  [<span style=\"color:rgb(106,127,16)\">Jay Gopalakrishnan</span>](http://web.pdx.edu/~gjay/)\n",
    "\n",
    "#### <span style=\"color:rgb(106,127,16)\">Meetings:</span>&nbsp; <span style=\"color:rgb(106,127,16)\">Tue, Thu: 14:00-15:50 on</span>  [<span style=\"color:rgb(106,127,16)\">Zoom</span>](https://pdx.zoom.us/j/106464248)\n",
    "   \n",
    "<hr>\n"
   ]
  },
  {
   "cell_type": "markdown",
   "metadata": {},
   "source": [
    "### On how to study\n",
    "\n",
    "\n",
    "You have to write code yourself to understand coding. It is not enough to just read code in a book.\n",
    "\n",
    "While you write code, you will find that you need to refer to online documentation.\n",
    "If you are new to reading software manuals or code documentation online, \n",
    "you might want to try browsing them instead of deep reading. This is\n",
    "because you will usually be  trying to find some specific information\n",
    "in a sea of many specifics in a manual: you need an approach that\n",
    "gets you the relevant fraction of information  fast.\n",
    "\n",
    "\n",
    "In contrast to reading documentation, while reading mathematics,\n",
    "the suggested approach is quite the opposite:\n",
    "instead of casual reading or browsing, you have to  work through \n",
    "all the mathematical details content yourself to really understand the content. \n"
   ]
  },
  {
   "cell_type": "markdown",
   "metadata": {},
   "source": [
    "### Daily preparation & class activities\n",
    "\n",
    "\n",
    "\n",
    "Make sure to allocate  time to prepare BEFORE class: you must prepare for each class in advance as indicated below.\n",
    "\n"
   ]
  },
  {
   "cell_type": "markdown",
   "metadata": {},
   "source": [
    "\n",
    "|#  | Class date       | To review before class |  Activities during class |\n",
    "|:--|:-----------------|:------------|:-------|\n",
    "|1. | 2020-03-31 <br> Tuesday  | Set up your work environment using [00 Starting up](./00_Starting_up.ipynb). <br> Start browsing basic language facilities either from <br> the official [Python tutorial](https://docs.python.org/3/tutorial/) or from [[JV-W]](https://jakevdp.github.io/WhirlwindTourOfPython/index.html).  | [00 Starting up](./00_Starting_up.ipynb) <br>[01 Overview of tools applied to the COVID-19 case](01_Overview_of_tools_applied_to_COVID-19_example.ipynb) <br> [02 Interacting with python](02_Interacting_with_python.ipynb) |\n",
    "|2. | 2020-04-02 <br> Thursday | Learn basic language facilities either from <br> the official [Python tutorial](https://docs.python.org/3/tutorial/) or from [[JV-W]](https://jakevdp.github.io/WhirlwindTourOfPython/index.html). <br> Before coming to class you should have <br> already  experimented with  `if`, `def`,<br>`while`, `for`,`range`, `print`, lists, tuples, <br> and list comprehension|\n",
    "|3. | [2020-04-07 Tuesday]\n",
    "|4. | [2020-04-09 Thursday]\n",
    "|5. | [2020-04-14 Tuesday]\n",
    "|6. | [2020-04-16 Thursday]\n",
    "|7. | [2020-04-21 Tuesday]\n",
    "|8. | [2020-04-23 Thursday]\n",
    "|9. | [2020-04-28 Tuesday]\n",
    "|10.| [2020-04-30 Thursday]\n",
    "|11.| [2020-05-05 Tuesday]\n",
    "|12.| [2020-05-07 Thursday]\n",
    "|13.| [2020-05-12 Tuesday]\n",
    "|14.| [2020-05-14 Thursday]\n",
    "|15.| [2020-05-19 Tuesday]\n",
    "|16.| [2020-05-21 Thursday]\n",
    "|17.| [2020-05-26 Tuesday]\n",
    "|18.| [2020-05-28 Thursday]\n",
    "|19.| [2020-06-02 Tuesday]\n",
    "|20.| [2020-06-04 Thursday]\n"
   ]
  },
  {
   "cell_type": "code",
   "execution_count": null,
   "metadata": {},
   "outputs": [],
   "source": []
  }
 ],
 "metadata": {
  "kernelspec": {
   "display_name": "Python 3",
   "language": "python",
   "name": "python3"
  },
  "language_info": {
   "codemirror_mode": {
    "name": "ipython",
    "version": 3
   },
   "file_extension": ".py",
   "mimetype": "text/x-python",
   "name": "python",
   "nbconvert_exporter": "python",
   "pygments_lexer": "ipython3",
   "version": "3.8.0"
  }
 },
 "nbformat": 4,
 "nbformat_minor": 2
}
