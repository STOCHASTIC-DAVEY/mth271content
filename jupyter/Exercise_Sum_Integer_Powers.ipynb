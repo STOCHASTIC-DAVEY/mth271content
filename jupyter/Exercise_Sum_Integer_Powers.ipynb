{
 "cells": [
  {
   "cell_type": "markdown",
   "metadata": {
    "slideshow": {
     "slide_type": "slide"
    }
   },
   "source": [
    "\n",
    "___\n",
    "\n",
    "\n",
    "# Exercise\n",
    "___\n",
    "\n",
    "\n"
   ]
  },
  {
   "cell_type": "markdown",
   "metadata": {
    "slideshow": {
     "slide_type": "slide"
    }
   },
   "source": [
    "Write a code to compute the value of \n",
    "$$\n",
    "\\sum_{n=1}^N n^i.\n",
    "$$\n",
    "for any integers $i$ and $N$. \n",
    "\n",
    "---\n",
    "\n",
    "- Once you complete this exercise (this is to be done right now in class) please share your screen so we can see your solution. Codes will be ranked in terms of correctness, readability, and brevity."
   ]
  },
  {
   "cell_type": "markdown",
   "metadata": {},
   "source": [
    "---\n",
    "\n",
    "- Once you finish this exercise, read *The Zen of Python*. If you don't know how to do that, type this:"
   ]
  },
  {
   "cell_type": "code",
   "execution_count": null,
   "metadata": {},
   "outputs": [],
   "source": [
    "import this"
   ]
  }
 ],
 "metadata": {
  "kernelspec": {
   "display_name": "Python 3",
   "language": "python",
   "name": "python3"
  },
  "language_info": {
   "codemirror_mode": {
    "name": "ipython",
    "version": 3
   },
   "file_extension": ".py",
   "mimetype": "text/x-python",
   "name": "python",
   "nbconvert_exporter": "python",
   "pygments_lexer": "ipython3",
   "version": "3.8.0"
  }
 },
 "nbformat": 4,
 "nbformat_minor": 1
}
