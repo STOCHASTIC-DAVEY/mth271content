{
 "cells": [
  {
   "cell_type": "markdown",
   "metadata": {},
   "source": [
    "---\n",
    "# Exercise: Power method for large graphs\n",
    "---"
   ]
  },
  {
   "cell_type": "markdown",
   "metadata": {},
   "source": [
    "In the [lecture](14_GooglePageRank.ipynb), we used  the `eig` function to compute pagerank. Since this is unsuitable for large graphs, we pursue an alternate idea, also from the lecture: the pagerank vector, being the eigenvector of the dominant eigenvalue of a positive stochastic matrix, is the limit of the sequence \n",
    "$$\n",
    "x, \\quad (P^t) x, \\quad (P^t)^2 x, \\quad (P^t)^3x, \\quad  \\ldots,\n",
    "$$\n",
    "which we can computationally approach. This is an instance of the *power method,*  a topic well studied in numerical analysis. This method only needs to *apply* the matrix $P^t$ repeatedly (and has no need for other operations found in general eigensolvers that carry more memory overhead). This exercise shows you the practical problems with using a general eigensolver as the graph size increases and asks you to implement the power method to be able to solve on large graphs."
   ]
  },
  {
   "cell_type": "markdown",
   "metadata": {},
   "source": [
    "**Task 1:**  Compute the stationary distribution of the Markov chain from [Gambler's ruin](13_GamblersRuin.ipynb) with $p = 0.4, N = 10$. (Do this task with `eig`.) Do you get more than one stationary distribution?\n",
    "\n",
    "**Task 2:** Consider the adjacency matrix (independent of $p$) of the random walk and introduce a restart probability. Using it, compute the pagerank for all states of the Markov chain with $N = 10$ and restart probabilities $r=0.1, 0.01, 10^{-3},$ and $10^{-4}.$ "
   ]
  },
  {
   "cell_type": "markdown",
   "metadata": {},
   "source": [
    "**Task 3:** Compute the pagerank of the ruin state for $r=0.1, N=1000$. How much farther can you go increasing $N$ in your computing environment, while continuing to use `eig`? "
   ]
  },
  {
   "cell_type": "markdown",
   "metadata": {},
   "source": [
    "**Task 4:** Implement the power method for a positive stochastic matrix $P$ as a python function, with the inputs indicated below.\n",
    "\n",
    "```py\n",
    "def powerP(x, aPt, r=0.1, maxn=1000, tol=1e-10):\n",
    "    \"\"\" Apply power iterations to a positive stochastic matrix P.    \n",
    "    INPUTS:\n",
    "     - x: initial probability distribution for the power method,\n",
    "     - aPt: function that returns P.T @ x given x\n",
    "     - r: restart probability, \n",
    "     - maxn: apply at most 'maxn' power iterations\n",
    "     - tol: quit if successive iterations differ by less than 'tol'. \n",
    "    OUTPUT: Vector of pageranks if converged. \"\"\"\n",
    "```    \n",
    "\n",
    "This function should start with a random initial probability distribution $x$ and compute $(P^t)^n x$ for increasing $n$ until $\\| (P^t)^n x - (P^t)^{n-1} x \\|$ becomes smaller than a given input tolerance. To save memory and flops, you should *not create the transition matrix $P$ in memory*, rather, you should make a *function* that applies $P^t$ to a vector, and pass that function as one of the arguments `aPt` to the `powerP` function.\n",
    "\n",
    "\n",
    "Apply your function to compute the  pagerank of the ruin state for $r=0.1, N=100000$. "
   ]
  }
 ],
 "metadata": {
  "kernelspec": {
   "display_name": "Python 3",
   "language": "python",
   "name": "python3"
  },
  "language_info": {
   "codemirror_mode": {
    "name": "ipython",
    "version": 3
   },
   "file_extension": ".py",
   "mimetype": "text/x-python",
   "name": "python",
   "nbconvert_exporter": "python",
   "pygments_lexer": "ipython3",
   "version": "3.8.0"
  }
 },
 "nbformat": 4,
 "nbformat_minor": 2
}
