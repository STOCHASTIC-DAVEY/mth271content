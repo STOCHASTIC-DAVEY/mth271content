{
 "cells": [
  {
   "cell_type": "markdown",
   "metadata": {},
   "source": [
    "# <span style=\"color:rgb(106,127,16)\"> Interacting with your Python installation</span>\n",
    "\n",
    "\n",
    "<br>\n",
    "\n",
    "\n"
   ]
  },
  {
   "cell_type": "markdown",
   "metadata": {},
   "source": [
    "[Python](http://www.python.org/) is a modern, general-purpose, object-oriented, high-level programming language with a clean and expressive syntax. The following  features make for easy code development and debugging in python:\n",
    "\n",
    "* *Python code is interpreted:* There is no need to compile the code. Your code is read by a  python interpreter and made into executable instructions for your computer in real time.\n",
    "\n",
    "* *Python is dynamically typed:* There is no  need to declare the type of a variable or the type of an input to a function. \n",
    "\n",
    "* *Python has automatic garbage collection or memory management:* There is no need to explicitly allocate memory for variables before you use them or deallocate them after use.\n",
    "\n",
    "\n",
    "However, keep in mind that these features also make pure python code slower (than, say C) in repetitious loops because of repeated checking for the type of objects. Therefore many python modules (such as `numpy`, which we shall see in detail soon), have C or other compiled code, which is then wrapped in python to take advantage of python's usability without losing speed. \n",
    "\n",
    "\n",
    "There are at least four ways to interact with your Python 3 installation. \n",
    "\n",
    "1. Use a python shell\n",
    "2. Use an iPython shell\n",
    "3. Put code in a python file ending in `.py`\n",
    "4. Write code + text in Jupyter notebook\n"
   ]
  },
  {
   "cell_type": "markdown",
   "metadata": {},
   "source": [
    "## Python shell\n",
    "\n",
    "\n",
    "Type the python command you use in *your* system (`python` or `python3`) to get this shell. (In *my system*, I use `python3`, as you see in the code and figures here. Make sure to replace it by `python` if that's what you use on your system.)\n",
    "\n",
    "<img src=\"../figs/python_shell.png\">\n",
    "\n",
    "Most of the functionality in Python is provided by *modules*, like the `math` module. Some modules, like `math`,  come with python, while others must be installed after python is installed.\n",
    "\n",
    "Note also things that begin with `#` differentiate comments from code."
   ]
  },
  {
   "cell_type": "markdown",
   "metadata": {},
   "source": [
    "## iPython shell\n",
    "\n",
    "A more powerful shell interactive environment is provided by the iPython shell (type in `ipython` or `ipython3` into your command prompt, or launch it from Anaconda navigator). The iPython shell has features like auto-completion, coloring, history of commands, automatic help by tacking on `?`, ability to interact with your operating system's commands, etc.\n",
    "\n",
    "\n",
    "\n",
    "<img src=\"../figs/ipython_shell.png\">"
   ]
  },
  {
   "cell_type": "markdown",
   "metadata": {},
   "source": [
    "## Python file\n",
    "\n",
    "Open your favorite text editor, type in some python code, and then save the file as `myfirstpy.py`.\n",
    "\n",
    "\n",
    "Here is how my file looks like:"
   ]
  },
  {
   "cell_type": "code",
   "execution_count": null,
   "metadata": {},
   "outputs": [],
   "source": [
    "# %load ../pyfiles/myfirstpy.py\n",
    "from math import cos, sqrt, pi\n",
    "\n",
    "print('Hello, I can compute! ')\n",
    "x = 3\n",
    "y = cos(pi*sqrt(pi)*x)**7\n",
    "print('Starting from x =', x, 'we have computed y=', y)\n",
    "\n"
   ]
  },
  {
   "cell_type": "markdown",
   "metadata": {},
   "source": [
    "You can run this file by typing the following on your command line \n",
    "```\n",
    "python3 ../pyfiles/myfirstpy.py\n",
    "```\n",
    "or you can run the file from within this Jupyter notebook by preprending the above command with `!` and typing it into a code cell. In Windows command line you should instead type in \n",
    "```\n",
    "python ..\\pyfiles\\myfirstpy.py\n",
    "```"
   ]
  },
  {
   "cell_type": "markdown",
   "metadata": {},
   "source": [
    "You should get the same output on the command line  as the output of the code cell above.\n",
    "\n",
    "For larger projects (such as your assignments), it will become essential to create and execute such files especially when  many lines of python code are involved."
   ]
  },
  {
   "cell_type": "markdown",
   "metadata": {},
   "source": [
    "## Jupyter Notebook\n",
    "\n",
    "\n",
    "The Jupyter notebook  is a web-browser based graphical environment consisting of cells, which can consist of code, or text. The text cells should contain text in  [markdown](https://en.wikipedia.org/wiki/Markdown) syntax, which allows you to type not just words in bold and italic, but also tables, mathematical formula using [latex](https://www.latex-project.org), etc. The code cells of Jupyter can contain code in various languages, but we will exclusively focus on code cells with Python 3 in this course.\n"
   ]
  },
  {
   "cell_type": "markdown",
   "metadata": {},
   "source": [
    "This is a cell with markdown (click on top menu -> `Cell` -> `Cell Type` to see what is the type of the current cell, or to change the type). I can compute \n",
    "$$\n",
    "\\cos(\\pi \\sqrt{\\pi})^7\n",
    "$$\n",
    "easily in python, and here is how to do it a code cell:"
   ]
  },
  {
   "cell_type": "code",
   "execution_count": null,
   "metadata": {},
   "outputs": [],
   "source": [
    "from math import cos, sqrt, pi\n",
    "\n",
    "cos(pi*sqrt(pi))**7"
   ]
  },
  {
   "cell_type": "markdown",
   "metadata": {},
   "source": [
    "This seamless integration of text and code makes Jupyter attractive for developing a reproducible environment for scientific computing. "
   ]
  },
  {
   "cell_type": "markdown",
   "metadata": {},
   "source": [
    "\n",
    "\n",
    "<hr>\n",
    "\n",
    "\n",
    "\n",
    "\n",
    "<span style=\"color:rgb(106,127,16); font-size:8pt\">These materials were created by</span> [<span style=\"color:rgb(106,127,16); font-size:8pt\">Jay Gopalakrishnan</span>](http://web.pdx.edu/~gjay/) <span style=\"color:rgb(106,127,16); font-size:8pt\">for a sophomore course (MTH 271) offered during the Spring 2020 quarter at Portland State University, and are made available under the</span> [<span style=\"color:rgb(106,127,16) ; font-size:8pt\">CC-BY-SA license</span>](https://creativecommons.org/licenses/by-sa/4.0/legalcode).\n",
    " \n",
    " "
   ]
  }
 ],
 "metadata": {
  "kernelspec": {
   "display_name": "Python 3",
   "language": "python",
   "name": "python3"
  },
  "language_info": {
   "codemirror_mode": {
    "name": "ipython",
    "version": 3
   },
   "file_extension": ".py",
   "mimetype": "text/x-python",
   "name": "python",
   "nbconvert_exporter": "python",
   "pygments_lexer": "ipython3",
   "version": "3.8.0"
  }
 },
 "nbformat": 4,
 "nbformat_minor": 2
}
