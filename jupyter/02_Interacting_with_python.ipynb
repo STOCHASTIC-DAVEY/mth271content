{
 "cells": [
  {
   "cell_type": "markdown",
   "metadata": {},
   "source": [
    "# <span style=\"color:rgb(106,127,16)\"> Interacting with  Python</span>\n",
    "\n",
    "<br>\n",
    "<div style=\"text-align: right\"><span style=\"color:rgb(106,127,16)\">March 31, 2020 \n",
    "    </span></div>\n",
    "<br>\n",
    "\n",
    "\n",
    "<br>\n",
    "\n",
    "\n"
   ]
  },
  {
   "cell_type": "markdown",
   "metadata": {},
   "source": [
    "[Python](http://www.python.org/) is a modern, general-purpose, object-oriented, high-level programming language with a clean and expressive syntax. The following  features make for easy code development and debugging in python:\n",
    "\n",
    "* *Python code is interpreted:* There is no need to compile the code. Your code is read by a  python interpreter and made into executable instructions for your computer in real time.\n",
    "\n",
    "* *Python is dynamically typed:* There is no  need to declare the type of a variable or the type of an input to a function. \n",
    "\n",
    "* *Python has automatic garbage collection or memory management:* There is no need to explicitly allocate memory for variables before you use them or deallocate them after use.\n",
    "\n",
    "\n",
    "However, keep in mind that these features also make pure python code slower (than, say C) in repetitious loops because of repeated checking for the type of objects. Therefore many python modules (such as `numpy`, which we shall see in detail soon), have C or other compiled code, which is then wrapped in python to take advantage of python's usability without losing speed. \n",
    "\n",
    "\n",
    "There are at least four ways to interact with your Python 3 installation. \n",
    "\n",
    "1. Use a python shell\n",
    "2. Use an iPython shell\n",
    "3. Put code in a python file ending in `.py`\n",
    "4. Write code + text in Jupyter notebook\n"
   ]
  },
  {
   "cell_type": "markdown",
   "metadata": {},
   "source": [
    "## Python shell\n",
    "\n",
    "\n",
    "Type the python command you use in *your* system (`python` or `python3`) to get this shell. I will use `python3` since that is what  my system requires, but please do make sure to replace it by `python` if that's what is needed on your system. Here is an image of the interactive python shell within a terminal.\n",
    "\n",
    "![Python shell](../figs/python_shell.png)\n",
    "\n",
    "In the interactive session displayed in the figure, note how  computing the square root of a number using `sqrt` is successful only after importing `math`. Most of the functionality in Python is provided by *modules*, like the `math` module. Some modules, like `math`,  come with python, while others must be installed after python is installed.\n",
    "\n",
    "Note also that strings that begin with `#` differentiate comments from code. This is the case in a python shell and also in the other forms of interacting with python discussed below."
   ]
  },
  {
   "cell_type": "markdown",
   "metadata": {},
   "source": [
    "## iPython shell\n",
    "\n",
    "A more powerful shell interactive environment is provided by the iPython shell (type in `ipython` or `ipython3` into your command prompt, or launch it from Anaconda navigator). The iPython shell has features like auto-completion, coloring, history of commands, automatic help by tacking on `?`, ability to interact with your operating system's commands, etc."
   ]
  },
  {
   "cell_type": "markdown",
   "metadata": {
    "widefigure": true
   },
   "source": [
    "![iPython shell](../figs/ipython_shell.png)"
   ]
  },
  {
   "cell_type": "markdown",
   "metadata": {},
   "source": [
    "## Jupyter Notebook\n",
    "\n",
    "\n",
    "The Jupyter notebook  is a web-browser based graphical environment consisting of cells, which can consist of code, or text. The text cells should contain text in  [markdown](https://en.wikipedia.org/wiki/Markdown) syntax, which allows you to type not just words in bold and italic, but also tables, mathematical formula using [latex](https://www.latex-project.org), etc. The code cells of Jupyter can contain code in various languages, but here we will exclusively focus on code cells with Python 3."
   ]
  },
  {
   "cell_type": "markdown",
   "metadata": {},
   "source": [
    "For example, this block of text that begins with this sentence marks the beginning of a  jupyter notebook *cell* containing *markdown* content. If you are viewing this from jupyter, click on jupyter's top menu -> `Cell` -> `Cell Type` to see what is the type of the current cell, or to change the cell type. Computations must be done in a *code* cell, not a *markdown* cell. For example, to  compute \n",
    "$$\n",
    "\\cos(\\pi \\sqrt{\\pi})^7\n",
    "$$\n",
    "we open a code cell next with the following two lines of python code:"
   ]
  },
  {
   "cell_type": "code",
   "execution_count": null,
   "metadata": {},
   "outputs": [],
   "source": [
    "from math import cos, sqrt, pi\n",
    "\n",
    "cos(pi*sqrt(pi))**7"
   ]
  },
  {
   "cell_type": "markdown",
   "metadata": {},
   "source": [
    "This seamless integration of text and code makes Jupyter attractive for developing a reproducible environment for scientific computing. "
   ]
  },
  {
   "cell_type": "markdown",
   "metadata": {},
   "source": [
    "## Python file\n",
    "\n",
    "Open your favorite text editor, type in some python code, and then save the file as `myfirstpy.py`.  Here is a simple example of such a  file. \n",
    "\n",
    "```py\n",
    "#------- myfirstpy.py ---------------------------------\n",
    "from math import cos, sqrt, pi\n",
    "\n",
    "print('Hello, I can compute! ')\n",
    "x = 3\n",
    "y = cos(pi*sqrt(pi)*x)**7\n",
    "print('Starting from x =', x, 'we have computed y=', y)\n",
    "#------------------------------------------------------\n",
    "```"
   ]
  },
  {
   "cell_type": "markdown",
   "metadata": {},
   "source": [
    "One executes such a python file by typing the following on the command line \n",
    "```\n",
    "python3 ../pyfiles/myfirstpy.py\n",
    "```\n",
    "\n",
    "Note that depending on your operating system, you may have to replace the above command by `python ..\\pyfiles\\myfirstpy.py` or similar variants."
   ]
  },
  {
   "cell_type": "markdown",
   "metadata": {},
   "source": [
    "You can also execute the python file in a platform-independent way  from *within this Jupyter notebook* by loading the contents of the file into a cell. This is done using *line magic* command `%load ../pyfiles/myfirstpy.py`. Once you type in this command into a code cell and execute the cell, the contents of the file will be copied into the cell (and simultaneously, the `load` command will be commented out).  Then, returning to the cell and executing the cell a *second time* runs the same code that was in the file.  "
   ]
  },
  {
   "cell_type": "code",
   "execution_count": null,
   "metadata": {},
   "outputs": [],
   "source": [
    "# %load ../pyfiles/myfirstpy.py\n",
    "from math import cos, sqrt, pi\n",
    "\n",
    "print('Hello, I can compute! ')\n",
    "x = 3\n",
    "y = cos(pi*sqrt(pi)*x)**7\n",
    "print('Starting from x =', x, 'we have computed y=', y)"
   ]
  },
  {
   "cell_type": "markdown",
   "metadata": {},
   "source": [
    "The above output cell should display the same output as what one would have obtained if we executed the python file on the command line.\n",
    "\n",
    "For larger projects (including take-home assignments), you will need to create such python files with many lines of python code. Therefore it is essential that you know how to create and execute python files in your system."
   ]
  },
  {
   "cell_type": "markdown",
   "metadata": {},
   "source": [
    "\n",
    "\n",
    "\n",
    "\n",
    "<hr>\n",
    "\n",
    "<span style=\"color:rgb(106,127,16); font-size:8pt\">Author:</span> [<span style=\"color:rgb(106,127,16); font-size:8pt\">Jay Gopalakrishnan</span>](http://web.pdx.edu/~gjay/) \n",
    "<br><span style=\"color:rgb(106,127,16); font-size:8pt\">License:</span> [<span style=\"color:rgb(106,127,16) ; font-size:8pt\">&copy;2020. CC-BY-SA</span>](https://creativecommons.org/licenses/by-sa/4.0/legalcode)\n",
    "<br><span style=\"color:rgb(106,127,16) ; font-size:8pt\">$\\ll$</span>[<span style=\"color:rgb(106,127,16) ; font-size:8pt\">Table of Contents</span>](./TOC.ipynb)\n",
    "\n",
    "\n",
    "\n"
   ]
  }
 ],
 "metadata": {
  "kernelspec": {
   "display_name": "Python 3",
   "language": "python",
   "name": "python3"
  },
  "language_info": {
   "codemirror_mode": {
    "name": "ipython",
    "version": 3
   },
   "file_extension": ".py",
   "mimetype": "text/x-python",
   "name": "python",
   "nbconvert_exporter": "python",
   "pygments_lexer": "ipython3",
   "version": "3.8.0"
  },
  "latex_metadata": {
   "author": "Jay Gopalakrishnan",
   "date": "March 31, 2020",
   "title": "Interacting with Python"
  }
 },
 "nbformat": 4,
 "nbformat_minor": 2
}
