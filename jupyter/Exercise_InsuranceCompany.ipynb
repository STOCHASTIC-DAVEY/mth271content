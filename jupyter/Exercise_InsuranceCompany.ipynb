{
 "cells": [
  {
   "cell_type": "markdown",
   "metadata": {},
   "source": [
    "---\n",
    "# Exercise: Insurance company\n",
    "---"
   ]
  },
  {
   "cell_type": "markdown",
   "metadata": {},
   "source": [
    "An  insurance company starts with  \\\\$1,000 dollars in its reserve. The company earns \\\\$100 per day which is added to the reserve every day. However, the  insurance company is engaged in very risky business: each day, with probability $q=0.46$, the company may receive a claim, which will require it to pay \\\\$200 from its reserve the day it receives the claim. \n",
    "\n",
    "**Question 1:** What is the probability that the insurance company will run out of its reserve eventually and be ruined?\n",
    "\n",
    "(Hint: The situations of the gambler $G$ of [[13 Gambler's Ruin]](13_GamblersRuin.ipynb)  and the  insurance company   are not that different: at the end of each game, gambler $G$ is up or down a chip; and at the end of each day, the insurance company reserve is up or down by \\\\$100. When $G$ has no chips to play, $G$ is ruined; when the insurance company's reserve drops to \\\\$0, it is ruined.)\n",
    "\n",
    "**Question 2:** What should be the company's reserve in order to make the probability of the company's ruin less than 0.1%? \n"
   ]
  }
 ],
 "metadata": {
  "kernelspec": {
   "display_name": "Python 3",
   "language": "python",
   "name": "python3"
  },
  "language_info": {
   "codemirror_mode": {
    "name": "ipython",
    "version": 3
   },
   "file_extension": ".py",
   "mimetype": "text/x-python",
   "name": "python",
   "nbconvert_exporter": "python",
   "pygments_lexer": "ipython3",
   "version": "3.8.0"
  }
 },
 "nbformat": 4,
 "nbformat_minor": 2
}
