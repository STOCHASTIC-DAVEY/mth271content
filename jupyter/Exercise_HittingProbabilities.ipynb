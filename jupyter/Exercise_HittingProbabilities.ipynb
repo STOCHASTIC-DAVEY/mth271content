{
 "cells": [
  {
   "cell_type": "markdown",
   "metadata": {},
   "source": [
    "---\n",
    "# Exercise: Probabilities  on small graphs\n",
    "---"
   ]
  },
  {
   "cell_type": "markdown",
   "metadata": {},
   "source": [
    "Consider random walks on the following small graphs with the indicated probabilities and answer the questions posed. "
   ]
  },
  {
   "cell_type": "markdown",
   "metadata": {},
   "source": [
    "**Task 1:** \n",
    "<img src=\"../figs/markov_trg.pdf\" style=\"width:100px\">\n",
    "\n",
    "What is the probability that you can hit one state from another state (in any number of steps) in this Markov chain?  Answer by looking at the graph and double check that an eigenvector gives what is expected. "
   ]
  },
  {
   "cell_type": "markdown",
   "metadata": {},
   "source": [
    "**Task 2:** \n",
    "<img src=\"../figs/markov_trg_and1.pdf\" style=\"height:150px\">\n",
    "\n",
    "\n",
    "For each question below, guess the answer  from the figure, and then verify that your computational method gives the expected answer. \n",
    "\n",
    "\n",
    "- Starting from  $B = \\{3\\}$,  what is the probability of hitting $A=\\{0, 1, 2\\}$ in any number of steps?\n",
    "\n",
    "- Starting from from any state in $B= \\{ 0, 1, 2\\}$ what  is the probability of hitting  $A = \\{ 3\\}$ in any number of steps?\n",
    "\n",
    "- Is this an absorbing Markov chain? Verify that the answers come out the same using the two methods you learnt."
   ]
  },
  {
   "cell_type": "markdown",
   "metadata": {},
   "source": [
    "**Task 3:**\n",
    "<img src=\"../figs/markov_trg_and_trg.pdf\" style=\"height:170px\">\n",
    "\n",
    "- What are the hitting probabilities of $A=\\{0, 1, 2\\}$ from the remaining states?\n",
    "\n",
    "- What are the hitting probabilities of $A = \\{ 4, 5, 6\\}$ from the remaining states? \n",
    "\n",
    "- What are the hitting probabilities of $A = \\{3\\}$ from the remaining states? "
   ]
  },
  {
   "cell_type": "markdown",
   "metadata": {},
   "source": [
    "**Task 4:**\n",
    "\n",
    "<img src=\"../figs/markov_trg_and_trg2.pdf\" style=\"height:170px\">\n",
    "\n",
    "- Starting from 1 what is the probability of hitting 0 in any number of steps?\n",
    "\n",
    "- Starting from 3 what is the probability of hitting 6 in any number of steps?\n",
    "\n",
    "\n"
   ]
  }
 ],
 "metadata": {
  "kernelspec": {
   "display_name": "Python 3",
   "language": "python",
   "name": "python3"
  },
  "language_info": {
   "codemirror_mode": {
    "name": "ipython",
    "version": 3
   },
   "file_extension": ".py",
   "mimetype": "text/x-python",
   "name": "python",
   "nbconvert_exporter": "python",
   "pygments_lexer": "ipython3",
   "version": "3.8.0"
  }
 },
 "nbformat": 4,
 "nbformat_minor": 2
}
