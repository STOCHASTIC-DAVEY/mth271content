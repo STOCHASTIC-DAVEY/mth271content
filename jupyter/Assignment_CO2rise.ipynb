{
 "cells": [
  {
   "cell_type": "markdown",
   "metadata": {
    "slideshow": {
     "slide_type": "slide"
    }
   },
   "source": [
    "\n",
    "\n",
    "---\n",
    "\n",
    "# Assignment: Rising CO$_2$ levels in the atmosphere\n",
    "\n",
    "Due April 28, 2020\n",
    "\n",
    "---\n",
    "\n",
    "\n",
    "\n"
   ]
  },
  {
   "cell_type": "markdown",
   "metadata": {},
   "source": [
    "[Mauna Loa Observatory](https://www.esrl.noaa.gov/gmd/obop/mlo/) is located over 3000 meters above the sea level, on the Big Island of Hawaii. [NOAA](https://www.noaa.gov), the National Oceanic and Atmospheric Administration, runs this facility, and has been collecting data on the composition of our atmosphere for years.  The rise of CO$_2$ in our atmosphere is one of the drivers of climate change as CO$_2$ is a heat-trapping gas. NOAA measures CO$_2$ levels at the observatory and had made available its data for all.\n",
    "\n",
    "\n",
    "\n",
    "## Task\n",
    "\n",
    "In this assignment, your task is \n",
    "- to download this data,\n",
    "- do the necessary data munging using file and string operations you have studied, \n",
    "- extract the monthly averages of measured CO$_2$ from their column named `average`,\n",
    "- plot  these values as a function of time, \n",
    "- estimate the rate of change of CO$_2$ from this data, and \n",
    "- plot your estimate of the rate of change as a function of time. \n",
    "\n",
    "Finally, conclude with what your answer would be if a policy-maker or  a politician wants a \"yes or no\" answer on whether the *rate of increase of CO$_2$* is increasing.\n",
    "\n",
    "\n",
    "## Product \n",
    "\n",
    "Your product for grading should be a jupyter notebook, written clearly (like a term paper), including code and graphs, and with explanations of all your steps to arrive at your graphs and  conclusions.\n",
    "\n",
    "\n",
    "## Hints\n",
    "\n",
    "- This is where the data is available for download:"
   ]
  },
  {
   "cell_type": "code",
   "execution_count": null,
   "metadata": {},
   "outputs": [],
   "source": [
    "url = 'ftp://aftp.cmdl.noaa.gov/products/trends/co2/co2_mm_mlo.txt'"
   ]
  },
  {
   "cell_type": "markdown",
   "metadata": {},
   "source": [
    "- The data may have gaps (read the file header) which you can easily remove using numpy's masking facilities.\n",
    "\n",
    "- The data may not be perfectly equispaced. Use the following function to generate  values at equispaced time intervals.\n"
   ]
  },
  {
   "cell_type": "code",
   "execution_count": null,
   "metadata": {},
   "outputs": [],
   "source": [
    "from scipy.interpolate import interp1d"
   ]
  },
  {
   "cell_type": "markdown",
   "metadata": {},
   "source": [
    "\n",
    "- You will see that although CO$_2$ data has a rising trend, the curve is filled with small oscillations. Use your experience from exercises or any other tools you know to calculate rate estimates of the overall trend."
   ]
  }
 ],
 "metadata": {
  "kernelspec": {
   "display_name": "Python 3",
   "language": "python",
   "name": "python3"
  },
  "language_info": {
   "codemirror_mode": {
    "name": "ipython",
    "version": 3
   },
   "file_extension": ".py",
   "mimetype": "text/x-python",
   "name": "python",
   "nbconvert_exporter": "python",
   "pygments_lexer": "ipython3",
   "version": "3.8.0"
  }
 },
 "nbformat": 4,
 "nbformat_minor": 1
}
