{
 "cells": [
  {
   "cell_type": "markdown",
   "metadata": {
    "slideshow": {
     "slide_type": "slide"
    }
   },
   "source": [
    "\n",
    "\n",
    "---\n",
    "\n",
    "# Assignment: Rising CO$_2$ levels in the atmosphere\n",
    "\n",
    "\n"
   ]
  },
  {
   "cell_type": "markdown",
   "metadata": {},
   "source": [
    "[Mauna Loa Observatory](https://www.esrl.noaa.gov/gmd/obop/mlo/) is located over 3000 meters above the sea level, on the Big Island of Hawaii. [NOAA](https://www.noaa.gov), the National Oceanic and Atmospheric Administration, runs this facility, and has been collecting data on the composition of our atmosphere for years.  The rise of CO$_2$ in our atmosphere is one of the drivers of climate change as CO$_2$ is a heat-trapping gas. NOAA measures CO$_2$ levels at the observatory and has made its data available for all."
   ]
  },
  {
   "cell_type": "markdown",
   "metadata": {},
   "source": [
    "**Task**\n",
    "\n",
    "In this assignment, your task is \n",
    "\n",
    "1. to download this data from within python using `urllib`,\n",
    "2. do the necessary data munging to get the data into arrays, \n",
    "3. extract the monthly averages of measured CO$_2$ from a data column named `average`,\n",
    "4. plot  the monthly averages  as a function of time, \n",
    "5. estimate the rate of change of CO$_2$ from this data, and \n",
    "6. plot your estimate of the rate of change as a function of time. \n",
    "\n",
    "The last two items require you to experiment with imperfect techniques to estimate rate of change (imperfections that we saw in previous class activities).  Please conclude your assignment with what your answer would be if a policy-maker wants a \"yes or no\" answer on whether the *rate of increase of CO$_2$* is increasing.\n",
    "\n",
    "\n",
    "\n",
    "Your product for grading should be a jupyter notebook, written clearly (like a term paper), including code and graphs, and with explanations of all your steps to arrive at your graphs and  conclusions."
   ]
  },
  {
   "cell_type": "markdown",
   "metadata": {},
   "source": [
    "**Hints**\n",
    "\n",
    "- This is where the data is  available for download: \n",
    "\n",
    "ftp://aftp.cmdl.noaa.gov/products/trends/co2/co2_mm_mlo.txt\n",
    "\n",
    "- The data has gaps (read the file header) which you can easily remove using numpy's masking facilities.\n",
    "\n",
    "- The data may not be perfectly equispaced. Use the function \n",
    "`interp1d` from `scipy.interpolate` to generate  values at equispaced time intervals (after installing scipy). \n",
    "\n",
    "- You will see that although CO$_2$ data has a rising trend, the curve is filled with small oscillations. Use your experience from exercises or any other tools you know to calculate rate estimates of the overall trend."
   ]
  }
 ],
 "metadata": {
  "kernelspec": {
   "display_name": "Python 3",
   "language": "python",
   "name": "python3"
  },
  "language_info": {
   "codemirror_mode": {
    "name": "ipython",
    "version": 3
   },
   "file_extension": ".py",
   "mimetype": "text/x-python",
   "name": "python",
   "nbconvert_exporter": "python",
   "pygments_lexer": "ipython3",
   "version": "3.8.0"
  }
 },
 "nbformat": 4,
 "nbformat_minor": 1
}
