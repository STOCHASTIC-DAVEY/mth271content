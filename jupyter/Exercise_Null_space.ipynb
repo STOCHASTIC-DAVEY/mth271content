{
 "cells": [
  {
   "cell_type": "markdown",
   "metadata": {},
   "source": [
    "___\n",
    "\n",
    "\n",
    "# Exercise: Null space\n",
    "___\n",
    "\n",
    "**Task 1:** Find the null space of the given matrix $A$ using SVD.\n",
    "\n",
    "**Task 2:** Find the null space of the same matrix $A$ using the QR factorization.  Use  the linear algebra  theorem that tells us that the null space of $A$ is equal to the orthogonal complement of the range of the transpose $A^t$. (How would you extract the orthogonal complement from a full QR factorization?)\n",
    "\n",
    "**Task 3:** Check that both answers above span the same space."
   ]
  },
  {
   "cell_type": "code",
   "execution_count": 41,
   "metadata": {},
   "outputs": [
    {
     "data": {
      "text/plain": [
       "array([[ 1, -2,  9,  5,  4],\n",
       "       [ 1, -1,  6,  5, -3],\n",
       "       [-2,  0, -6,  1, -2],\n",
       "       [ 4,  1,  9,  1, -9]])"
      ]
     },
     "execution_count": 41,
     "metadata": {},
     "output_type": "execute_result"
    }
   ],
   "source": [
    "import numpy as np\n",
    "from scipy.linalg import svd, qr\n",
    "\n",
    "A = np.array([[1, -2, 9, 5, 4,], [1, -1, 6, 5, -3], [-2, 0, -6, 1, -2], [4, 1, 9, 1, -9]])\n",
    "A"
   ]
  }
 ],
 "metadata": {
  "kernelspec": {
   "display_name": "Python 3",
   "language": "python",
   "name": "python3"
  },
  "language_info": {
   "codemirror_mode": {
    "name": "ipython",
    "version": 3
   },
   "file_extension": ".py",
   "mimetype": "text/x-python",
   "name": "python",
   "nbconvert_exporter": "python",
   "pygments_lexer": "ipython3",
   "version": "3.8.0"
  }
 },
 "nbformat": 4,
 "nbformat_minor": 2
}
